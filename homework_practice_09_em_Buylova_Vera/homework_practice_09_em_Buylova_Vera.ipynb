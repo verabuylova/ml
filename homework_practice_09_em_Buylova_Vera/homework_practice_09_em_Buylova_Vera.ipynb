{
  "cells": [
    {
      "cell_type": "markdown",
      "metadata": {
        "id": "SqGoxnrM58v6",
        "pycharm": {
          "name": "#%% md\n"
        }
      },
      "source": [
        "# Машинное обучение, ФКН ВШЭ\n",
        "\n",
        "# Практическое задание 9. EM-алгоритм\n",
        "\n",
        "## Общая информация\n",
        "\n",
        "Дата выдачи: 28.02.2024\n",
        "\n",
        "Мягкий дедлайн: 19.03.2024 23:59 MSK\n",
        "\n",
        "Жёсткий дедлайн: 25.03.2024 23:59 MSK\n",
        "\n",
        "## Оценивание и штрафы\n",
        "Каждая из задач имеет определенную «стоимость» (указана в скобках около задачи). Максимальная оценка за работу (без учёта бонусов) — 15 баллов.\n",
        "\n",
        "Сдавать задание после указанного жёсткого срока сдачи нельзя. При выставлении неполного балла за задание в связи с наличием ошибок на усмотрение проверяющего предусмотрена возможность исправить работу на указанных в ответном письме условиях.\n",
        "\n",
        "Задание выполняется самостоятельно. «Похожие» решения считаются плагиатом и все задействованные студенты (в том числе те, у кого списали) не могут получить за него больше 0 баллов (подробнее о плагиате см. на странице курса). Если вы нашли решение какого-то из заданий (или его часть) в открытом источнике, необходимо указать ссылку на этот источник в отдельном блоке в конце вашей работы (скорее всего вы будете не единственным, кто это нашел, поэтому чтобы исключить подозрение в плагиате, необходима ссылка на источник).\n",
        "\n",
        "Неэффективная реализация кода может негативно отразиться на оценке.\n",
        "\n",
        "## Формат сдачи\n",
        "Задания сдаются через систему anytask. Посылка должна содержать:\n",
        "* Ноутбук homework-practice-09-em-Username.ipynb\n",
        "* Модули preprocessing.py, metrics.py, models.py, содержащие написанный вами код\n",
        "* Ссылки на посылки в Яндекс.Контест для всех функций и классов, которые вы реализовали\n",
        "\n",
        "Ссылка на Яндекс.Контест: https://contest.yandex.ru/contest/60281\n",
        "\n",
        "Username — ваша фамилия и имя на латинице именно в таком порядке"
      ]
    },
    {
      "cell_type": "markdown",
      "metadata": {
        "id": "SimwcCU358v_",
        "pycharm": {
          "name": "#%% md\n"
        }
      },
      "source": [
        "# Generative model of Labels, Abilities, and Difficulties (GLAD)\n",
        "\n",
        "В [семинаре 16](https://github.com/esokolov/ml-course-hse/blob/master/2022-spring/seminars/sem16-em.pdf) мы рассмотрели задачу восстановления истинной разметки по меткам от экспертов (которым мы не можем доверять в полной мере, более того, их предсказания могут расходиться).\n",
        "\n",
        "Рассмотрим следующую вероятностную модель:\n",
        "\n",
        "$$ p(L, Z | \\alpha, \\beta) = \\prod_{i=1}^{n} \\prod_{j=1}^m \\sigma(\\alpha_j\\beta_i)^{[l_{ij}=z_i]}\\sigma(-\\alpha_j\\beta_i)^{1-[l_{ij}=z_i]} p(z_j)$$\n",
        "\n",
        "где $l_{ij} -$ ответ $j$-го эксперта на задачу $i$, $z_j -$ истинная разметка, $\\alpha_i, \\beta_j-$ уровень экспертизы и сложность задачи соответственно. Для более подробного описания модели можно прочитать материалы семинара, а также [оригинальную статью](http://papers.nips.cc/paper/3644-whose-vote-should-count-more-optimal-integration-of-labels-from-labelers-of-unknown-expertise.pdf). Априорное распределение положим равномерным: $p(z_i) = 0.5$."
      ]
    },
    {
      "cell_type": "code",
      "execution_count": 1,
      "metadata": {
        "id": "pTHkKpt058wA",
        "pycharm": {
          "name": "#%%\n"
        }
      },
      "outputs": [],
      "source": [
        "import numpy as np\n",
        "from scipy.special import expit\n",
        "from sklearn.metrics import accuracy_score\n",
        "import matplotlib.pyplot as plt\n",
        "seed = 0xDEADF00D\n",
        "np.random.seed(seed)"
      ]
    },
    {
      "cell_type": "code",
      "execution_count": 2,
      "metadata": {
        "id": "vzeLMbXG58wC",
        "pycharm": {
          "name": "#%%\n"
        }
      },
      "outputs": [],
      "source": [
        "L = np.load('L.npy')\n",
        "n, m = L.shape"
      ]
    },
    {
      "cell_type": "markdown",
      "metadata": {
        "id": "xopVrgpq58wC",
        "pycharm": {
          "name": "#%% md\n"
        }
      },
      "source": [
        "**Задание 1. (2 балла)** Реализуйте EM-алгоритм для заданной выше модели. Вы можете воспользоваться предложенными шаблонами или написать свои.\n",
        "\n",
        "Обратите внимание, что правдоподобие моделирует не вероятность метки $l_{ij}$ принять значение 1 или 0, а вероятность того, что она равна скрытой переменной $z_i$, т.е. $p(l_{ij} = z_j|z_j, \\alpha_j, \\beta_i) \\neq p(l_{ij} = 1|\\alpha_j, \\beta_i) $. При этом заранее неизвестно, какая из скрытых переменных соответствует метке 1. Не забывайте, что параметры $\\beta_i$ должны быть неотрицательными; для этого оптимизируйте $\\log \\beta$. На M-шаге можете использовать как один шаг градиентного спуска, так и несколько: разумные результаты у вас должны получаться вне зависимости от числа итераций.\n",
        "\n",
        "Также при работе с вероятностями не забывайте о точности:\n",
        "1. Используйте логарифмы вероятностей.\n",
        "2. $\\log \\sigma(a)$ лучше преобразовать в $\\log \\sigma(a) = -\\log(1 + \\exp(-a)) = -\\mathrm{softplus}(-a) $\n",
        "3. Ещё полезные функции: `scipy.special.expit`, `scipy.special.logsumexp`, `np.log1p`\n",
        "\n",
        "Для отладки может быть полезно проверить градиент с помощью `scipy.optimize.check_grad`."
      ]
    },
    {
      "cell_type": "code",
      "execution_count": 3,
      "metadata": {
        "id": "Dch22H0s58wC",
        "pycharm": {
          "name": "#%%\n"
        }
      },
      "outputs": [],
      "source": [
        "def softplus(x):\n",
        "    '''stable version of log(1 + exp(x))'''\n",
        "    c = (x > 20) * 1.\n",
        "    return np.log1p(np.exp(x * (1-c)) * (1-c)) + x * c"
      ]
    },
    {
      "cell_type": "code",
      "execution_count": 4,
      "metadata": {
        "id": "FKSkLkObB4Qa"
      },
      "outputs": [],
      "source": [
        "def posterior(alpha, beta, L):\n",
        "    \"\"\" Posterior over true labels z p(z|l, \\alpha, \\beta)\n",
        "    Args:\n",
        "        alpha: ndarray of shape (n_experts).\n",
        "        beta: ndarray of shape (n_problems).\n",
        "        L: ndarray of shape (n_problems, n_experts).\n",
        "    \"\"\"\n",
        "    beta_reshaped = beta.reshape(-1, 1)\n",
        "    alpha_reshaped = alpha.reshape(1, -1)\n",
        "\n",
        "    gamma_t1 = (L == 1) * (-softplus(-beta_reshaped @ alpha_reshaped))\n",
        "    gamma_t0 = (L == 0) * (-softplus(-beta_reshaped @ alpha_reshaped))\n",
        "\n",
        "    gamma_t1 = np.exp(np.log(0.5) + np.sum(gamma_t1 + (L != 1) * (-softplus(beta_reshaped @ alpha_reshaped)), axis = 1))\n",
        "    gamma_t0 = np.exp(np.log(0.5) + np.sum(gamma_t0 + (L != 0) * (-softplus(beta_reshaped @ alpha_reshaped)), axis = 1))\n",
        "\n",
        "    norm = gamma_t0 + gamma_t1 + 1e-8\n",
        "\n",
        "    return np.array([gamma_t0 / norm, gamma_t1 / norm])\n",
        "\n",
        "def alpha_grad_lb(alpha, beta, L, q):\n",
        "    \"\"\" Gradient of lower bound wrt alpha\n",
        "    Args:\n",
        "        alpha: ndarray of shape (n_experts).\n",
        "        beta: ndarray of shape (n_problems).\n",
        "        L: ndarray of shape (n_problems, n_experts).\n",
        "        q: ndarray of shape (2, n_problems).\n",
        "    \"\"\"\n",
        "    beta_reshaped = beta.reshape(-1, 1)\n",
        "    alpha_reshaped = alpha.reshape(1, -1)\n",
        "\n",
        "    expit_positive = expit(beta_reshaped @ alpha_reshaped)\n",
        "    expit_negative = expit(-beta_reshaped @ alpha_reshaped)\n",
        "\n",
        "    g1 = q[1] * beta @ ((L== 1) * expit_negative - (L != 1) * expit_positive)\n",
        "    g0 = q[0] * beta @ ((L == 0) * expit_negative - (L != 0) * expit_positive)\n",
        "\n",
        "    g = g1 + g0\n",
        "\n",
        "    return g\n",
        "\n",
        "\n",
        "def logbeta_grad_lb(alpha, beta, L, q):\n",
        "    \"\"\" Gradient of lower bound wrt beta\n",
        "    Args:\n",
        "        alpha: ndarray of shape (n_experts).\n",
        "        beta: ndarray of shape (n_problems).\n",
        "        L: ndarray of shape (n_problems, n_experts).\n",
        "        q: ndarray of shape (2, n_problems).\n",
        "    \"\"\"\n",
        "    beta_reshaped = beta.reshape(-1, 1)\n",
        "    alpha_reshaped = alpha.reshape(1, -1)\n",
        "\n",
        "    expit_positive = expit(beta_reshaped @ alpha_reshaped)\n",
        "    expit_negative = expit(-beta_reshaped @ alpha_reshaped)\n",
        "\n",
        "    g1 = q[1].reshape(-1, 1) @ alpha_reshaped * ((L == 1) * expit_negative - (L != 1) * expit_positive)\n",
        "    g0 = q[0].reshape(-1, 1) @ alpha_reshaped * ((L == 0) * expit_negative - (L != 0) * expit_positive)\n",
        "\n",
        "    g = np.sum(g1 + g0, axis = 1) * beta\n",
        "\n",
        "    return g\n"
      ]
    },
    {
      "cell_type": "code",
      "execution_count": 5,
      "metadata": {
        "id": "rhR63rtUB9cK"
      },
      "outputs": [],
      "source": [
        "def em(L, n_steps=1000, lr=1e-3):\n",
        "    # initialize parameters\n",
        "    alpha, logbeta = np.random.randn(m), np.random.randn(n)\n",
        "    #correct_tags_array = np.array([3] * (n - 10) + list(y[-10:]))\n",
        "    for step in range(n_steps):\n",
        "        posterior = posterior(alpha, np.exp(logbeta), L)\n",
        "        ga = alpha_grad_lb(alpha, np.exp(logbeta), L, posterior)\n",
        "        gb = logbeta_grad_lb(alpha, np.exp(logbeta), L, posterior)\n",
        "        alpha += lr * ga\n",
        "        logbeta += lr * gb\n",
        "    return alpha, np.exp(logbeta), q"
      ]
    },
    {
      "cell_type": "code",
      "execution_count": 6,
      "metadata": {
        "id": "-D5JQ3-858wD",
        "pycharm": {
          "name": "#%%\n"
        }
      },
      "outputs": [],
      "source": [
        "alpha, beta, q = em(L)"
      ]
    },
    {
      "cell_type": "markdown",
      "metadata": {
        "id": "_Tc5rlkT58wE",
        "pycharm": {
          "name": "#%% md\n"
        }
      },
      "source": [
        "**Задание 2. (1 балл)** Загрузите настоящую разметку. Посчитайте `accuracy` разметки, полученной с помощью обычного голосования по большинству среди экспертов, и сравните его с качеством, полученным с помощью EM-алгоритма. Помните, что алгоритму не важно, какая метка 0, а какая 1, поэтому если получите качество <0.5, то просто поменяйте метки классов (не забудьте также поменять знак у $\\alpha$)."
      ]
    },
    {
      "cell_type": "code",
      "execution_count": 7,
      "metadata": {
        "colab": {
          "base_uri": "https://localhost:8080/"
        },
        "id": "zMWRTB2o58wE",
        "outputId": "808b4a12-acdd-40e9-8393-43aed86967f2",
        "pycharm": {
          "name": "#%%\n"
        }
      },
      "outputs": [
        {
          "name": "stdout",
          "output_type": "stream",
          "text": [
            "0.935\n"
          ]
        }
      ],
      "source": [
        "y = np.load('y.npy')\n",
        "tags = [np.random.binomial(1, i) for i in q[0]]\n",
        "acc = accuracy_score(y, np.array(tags))\n",
        "if acc < 0.5:\n",
        "    tags = [1 - tag for tag in tags]\n",
        "    alpha = -alpha\n",
        "    acc = 1 - acc\n",
        "print(acc)"
      ]
    },
    {
      "cell_type": "markdown",
      "metadata": {
        "id": "OEpaRz8w58wE",
        "pycharm": {
          "name": "#%% md\n"
        }
      },
      "source": [
        "**Задание 3. (0.5 балла)** Попробуйте проинтерпретировать полученные коэфициенты $\\alpha$. Есть ли в выборке эксперты, которые намеренно голосуют неверно? Как это можно понять по альфам? Продемонстрируйте, что эксперты действительно чаще голосуют за неверный класс. Постройте график зависимости доли врено размеченных экспертом объектов от коэффициента $\\alpha$. Прокомментируйте результаты."
      ]
    },
    {
      "cell_type": "code",
      "execution_count": 8,
      "metadata": {
        "id": "-YwiuaLzJI2j"
      },
      "outputs": [],
      "source": [
        "accuracies = np.array([(L[:, i] == y).mean() for i in range(L.shape[1])])"
      ]
    },
    {
      "cell_type": "code",
      "execution_count": 9,
      "metadata": {
        "colab": {
          "base_uri": "https://localhost:8080/",
          "height": 564
        },
        "id": "zfyErvY158wE",
        "outputId": "44457bc5-2fcd-4e0c-9552-65ca22c975cf",
        "pycharm": {
          "name": "#%%\n"
        }
      },
      "outputs": [
        {
          "data": {
            "image/png": "[encoded data removed]",
            "text/plain": [
              "<Figure size 1000x600 with 1 Axes>"
            ]
          },
          "metadata": {},
          "output_type": "display_data"
        }
      ],
      "source": [
        "plt.figure(figsize = (10, 6))\n",
        "plt.scatter(-alpha, accuracies, color='blue')\n",
        "plt.title('Доля верно размеченных объектов vs a')\n",
        "plt.xlabel('a')\n",
        "plt.ylabel('Доля верно размеченных объектов')\n",
        "plt.grid(True)\n",
        "plt.show()"
      ]
    },
    {
      "cell_type": "markdown",
      "metadata": {
        "id": "Bj0bYLWcJajt"
      },
      "source": [
        "У экспертов с отрицательными значениями a наблюдается значительно меньшая доля правильных ответов. С другой стороны, по мере увеличения a, доля правильных ответов возрастает. Т.е. а можно интерпретировать как меру точности оценок экспертов."
      ]
    },
    {
      "cell_type": "markdown",
      "metadata": {
        "id": "NcG9jQ2o58wF",
        "pycharm": {
          "name": "#%% md\n"
        }
      },
      "source": [
        "**Задание 4. (бонус, 2 балла)**  Как уже было замечено выше, модели не важно, какой класс 1, а какой 0. Скажем, если все эксперты оказались максимально противными и ставят метку с точностью наоборот, то у вас будет полная согласованность между экспертами, при этом невозможно понять правильно они разметили выборку или нет, смотря только на такую разметку. Чтобы избежать этого, можно включать в выборку вопрос с заведомо известным ответом, тогда вы сможете определить, ставит ли эксперт специально неверные метки.\n",
        "\n",
        "Чтобы обощить данную модель на случай заданий с заведомо известной меткой, достоточно не делать для них E-шаг, а всегда полагать апостериорное распределение вырожденным в истинном классе. Реализуйте данную модель и используйте истинную разметку *для нескольких* задач из обучения. Проинтерпретируйте полученные результаты."
      ]
    },
    {
      "cell_type": "code",
      "execution_count": 209,
      "metadata": {},
      "outputs": [],
      "source": [
        "def posterior_correct(alpha, beta, L, correct_labels):\n",
        "    beta = np.array(beta)\n",
        "    correct_labels = np.array(correct_labels)\n",
        "    gamma1 = np.log(0.5) + np.sum((L == 1) * (-softplus(-alpha * beta[:, None])) + (L != 1) * (-softplus(alpha * beta[:, None])), axis=1)\n",
        "    gamma0 = np.log(0.5) + np.sum((L == 0) * (-softplus(-alpha * beta[:, None])) + (L != 0) * (-softplus(alpha * beta[:, None])), axis=1)\n",
        "    exp_gamma0 = np.exp(gamma0)\n",
        "    exp_gamma1 = np.exp(gamma1)\n",
        "    probs0 = exp_gamma0 / (exp_gamma0 + exp_gamma1)\n",
        "    probs1 = exp_gamma1 / (exp_gamma0 + exp_gamma1)\n",
        "    probs0[correct_labels == 0] = 1\n",
        "    probs1[correct_labels == 1] = 1\n",
        "    return np.stack([probs0, probs1], axis=0)"
      ]
    },
    {
      "cell_type": "code",
      "execution_count": null,
      "metadata": {},
      "outputs": [],
      "source": [
        "def em_correct(L, y, n_steps=1000, lr=1e-3):\n",
        "    m, n = L.shape\n",
        "    alpha, logbeta = np.random.randn(m), np.random.randn(n)\n",
        "    correct_labels = np.concatenate([np.full(n - 10, 3), y[-10:]])\n",
        "    for step in range(n_steps):\n",
        "        beta = np.exp(logbeta)\n",
        "        posterior = posterior_correct(alpha, beta, L, correct_labels)\n",
        "        alpha += lr * alpha_grad_lb(alpha, beta, L, posterior)\n",
        "        logbeta += lr * logbeta_grad_lb(alpha, beta, L, posterior)\n",
        "    return alpha, np.exp(logbeta), q"
      ]
    },
    {
      "cell_type": "code",
      "execution_count": 211,
      "metadata": {},
      "outputs": [],
      "source": [
        "alpha, beta, q = em_correct(L, y)"
      ]
    },
    {
      "cell_type": "code",
      "execution_count": 212,
      "metadata": {},
      "outputs": [
        {
          "name": "stdout",
          "output_type": "stream",
          "text": [
            "0.9425\n"
          ]
        }
      ],
      "source": [
        "tags = [np.random.binomial(1, i) for i in q[0]]\n",
        "acc = accuracy_score(y, np.array(tags))\n",
        "if acc < 0.5:\n",
        "    tags = [1 - tag for tag in tags]\n",
        "    alpha = -alpha\n",
        "    acc = 1 - acc\n",
        "print(acc)"
      ]
    },
    {
      "cell_type": "markdown",
      "metadata": {},
      "source": [
        "Качество стало чуть лучше, поскольку теперь в ыыборку включен вопрос с заведомо известным ответом, а еще больше не нужно менять метки классов, что удобно."
      ]
    },
    {
      "cell_type": "markdown",
      "metadata": {
        "id": "_FeaT3dH58wF",
        "pycharm": {
          "name": "#%% md\n"
        }
      },
      "source": [
        "# Выравнивание слов (Word Alignment)"
      ]
    },
    {
      "cell_type": "markdown",
      "metadata": {
        "id": "4Ij95-JT58wF",
        "pycharm": {
          "name": "#%% md\n"
        }
      },
      "source": [
        "EM-алгоритм также применяют на практике для настройки параметров модели выравнивания слов, более сложные модификации которой используются в статистическом машинном переводе. Мы не будем подробно обсуждать применение word alignment для перевода и ограничимся следующей целью: пусть у нас есть параллельный корпус из предложений на исходном языке и их переводов на целевой язык (в этом задании используются английский и чешский соответственно).\n",
        "\n",
        "Первая задача — определить с помощью этого корпуса, как переводится каждое отдельное слово на целевом языке. Вторая задача — для произвольной пары из предложения и его перевода установить, переводом какого слова в исходном предложении является каждое слово в целевом предложении. Оказывается, у обеих задач существует элегантное и эффективное решение при введении правильной вероятностной модели: в этой части задания вам предстоит его реализовать и оценить результаты работы. Но обо всём по порядку :)\n",
        "\n",
        "---\n",
        "\n",
        "Перед тем, как заниматься машинным обучением, давайте разберёмся с данными и метриками в интересующей нас задаче. В ячейке ниже загружается и разархивируется параллельный английско-чешский корпус, в котором есть разметка выравнивания слов. Нетрудно заметить, что формат XML-файла, использованный его авторами, не вполне стандартный: нет готовой команды , которая позволила бы получить список пар предложений вместе с выравниваниями. Это значит, что нужно разобраться с форматом и написать парсер самостоятельно, используя встроенные средства Python, например, модуль [xml](https://docs.python.org/3.7/library/xml.html)."
      ]
    },
    {
      "cell_type": "code",
      "execution_count": 13,
      "metadata": {
        "colab": {
          "base_uri": "https://localhost:8080/"
        },
        "id": "BbSDoTXE58wG",
        "outputId": "a428bfbd-104e-402d-f554-03f550fb1aaa",
        "pycharm": {
          "name": "#%%\n"
        }
      },
      "outputs": [
        {
          "name": "stdout",
          "output_type": "stream",
          "text": [
            "<?xml version=\"1.0\" encoding=\"utf-8\" ?>\n",
            "<sentences>\n",
            "<s id=\"project_syndicate_bacchetta1-s1\">\n",
            "  <english>Are the Dollar 's Days Numbered ?</english>\n",
            "  <czech>Jsou dny dolaru sečteny ?</czech>\n",
            "  <sure>1-1 3-3 5-2 6-4 7-5</sure>\n",
            "  <possible>2-2 4-3</possible>\n",
            "</s>\n",
            "<s id=\"project_syndicate_bacchetta1-s2\">\n",
            "  <english>Philippe Bacchetta and Eric van Wincoop</english>\n",
            "  <czech>Philippe Bacchetta and Eric van Wincoop</czech>\n",
            "  <sure>1-1 2-2 3-3 4-4 5-5 6-6</sure>\n",
            "  <possible></possible>\n",
            "</s>\n",
            "<s id=\"project_syndicate_bacchetta1-s3\">\n",
            "  <english>A year ago , the dollar bestrode the world like a colossus .</english>\n",
            "  <czech>Ještě před rokem dolar dominoval světu jako imperátor .</czech>\n",
            "  <sure>10-7 12-8 13-9 2-3 3-2 6-4 7-5 9-6</sure>\n",
            "  <possible>1-3 11-8 3-1 5-4 8-6</possible>\n",
            "</s>\n"
          ]
        }
      ],
      "source": [
        "%%bash\n",
        "# wget -q https://lindat.mff.cuni.cz/repository/xmlui/bitstream/handle/11234/1-1804/CzEnAli_1.0.tar.gz -O CzEnAli_1.0.tar.gz\n",
        "mkdir -p data\n",
        "tar -xzf CzEnAli_1.0.tar.gz -C data/\n",
        "head -n 20 data/merged_data/project_syndicate/project_syndicate_bacchetta1.wa"
      ]
    },
    {
      "cell_type": "markdown",
      "metadata": {
        "id": "80jVBgBS58wG",
        "pycharm": {
          "name": "#%% md\n"
        }
      },
      "source": [
        "**Задание -2. (0.5 балла)** Реализуйте функцию `extract_sentences`, которая принимает на вход путь к файлу с XML-разметкой, используемой в этом датасете, и возвращает список параллельных предложений, а также список из «уверенных» (sure) и «возможных» (possible) пар выравниваний. Отправьте вашу реализацию в Яндекс.Контест, чтобы убедиться в её корректности; в следующей ячейке ноутбука соберите все пары размеченных предложений из датасета в два списка `all_sentences` (список `SentencePair`) и `all_targets` (список LabeledAlignment).\n",
        "\n",
        "Здесь и далее соблюдайте сигнатуры функций и пользуйтесь объявленными в модуле `preprocessing.py` классами для организации данных. Стоит заметить, что предложения уже токенизированы (даже отделена пунктуация), поэтому предобработку текстов совершать не нужно. Обратите внимание на формат хранения выравниваний: нумерация начинается с 1 (в таком виде и нужно сохранять), первым в паре идёт слово из англоязычного предложения."
      ]
    },
    {
      "cell_type": "code",
      "execution_count": 140,
      "metadata": {},
      "outputs": [],
      "source": [
        "import glob\n",
        "from preprocessing import extract_sentences\n",
        "\n",
        "all_sentences = []\n",
        "all_targets = []"
      ]
    },
    {
      "cell_type": "code",
      "execution_count": 144,
      "metadata": {},
      "outputs": [],
      "source": [
        "for filename in glob.glob('data/*/*/*.wa'):\n",
        "    st = extract_sentences(filename)\n",
        "\n",
        "    all_sentences.extend(st[0])\n",
        "    all_targets.extend(st[1])"
      ]
    },
    {
      "cell_type": "code",
      "execution_count": 145,
      "metadata": {},
      "outputs": [],
      "source": [
        "t_idx_src, t_idx_tgt = get_token_to_index(all_sentences)\n",
        "tokenized_sentences = tokenize_sents(all_sentences, t_idx_src, t_idx_tgt)"
      ]
    },
    {
      "cell_type": "code",
      "execution_count": 146,
      "metadata": {},
      "outputs": [
        {
          "data": {
            "text/plain": [
              "{'!': 0,\n",
              " '\"': 1,\n",
              " '#': 2,\n",
              " '$': 3,\n",
              " '%': 4,\n",
              " '&': 5,\n",
              " '&amp;': 6,\n",
              " \"'\": 7,\n",
              " \"''\": 8,\n",
              " \"'d\": 9,\n",
              " \"'em\": 10,\n",
              " \"'ll\": 11,\n",
              " \"'m\": 12,\n",
              " \"'n'\": 13,\n",
              " \"'re\": 14,\n",
              " \"'s\": 15,\n",
              " '(': 16,\n",
              " ')': 17,\n",
              " ',': 18,\n",
              " '-': 19,\n",
              " '--': 20,\n",
              " '-LRB-': 21,\n",
              " '-LSB-': 22,\n",
              " '-RRB-': 23,\n",
              " '-RSB-': 24,\n",
              " '.': 25,\n",
              " '...': 26,\n",
              " '/': 27,\n",
              " '0': 28,\n",
              " '0.01': 29,\n",
              " '0.5': 30,\n",
              " '0.89': 31,\n",
              " '000': 32,\n",
              " '1': 33,\n",
              " '1,118': 34,\n",
              " '1-for-17': 35,\n",
              " '1.1': 36,\n",
              " '1.13': 37,\n",
              " '1.16': 38,\n",
              " '1.23': 39,\n",
              " '1.25': 40,\n",
              " '1.26': 41,\n",
              " '1.27': 42,\n",
              " '1.39': 43,\n",
              " '1.4': 44,\n",
              " '1.41': 45,\n",
              " '1.43': 46,\n",
              " '1.45': 47,\n",
              " '1.46': 48,\n",
              " '1.47': 49,\n",
              " '1.5': 50,\n",
              " '1.50': 51,\n",
              " '1.55': 52,\n",
              " '1.7': 53,\n",
              " '1.75': 54,\n",
              " '1.8': 55,\n",
              " '1.82': 56,\n",
              " '1.85': 57,\n",
              " '1.9': 58,\n",
              " '1/2': 59,\n",
              " '1/4': 60,\n",
              " '10': 61,\n",
              " '10,000': 62,\n",
              " '10-day': 63,\n",
              " '10-year': 64,\n",
              " '10.05': 65,\n",
              " '10.72': 66,\n",
              " '100': 67,\n",
              " '101': 68,\n",
              " '102': 69,\n",
              " '103': 70,\n",
              " '103.1': 71,\n",
              " '104.75': 72,\n",
              " '1069': 73,\n",
              " '109': 74,\n",
              " '11': 75,\n",
              " '117': 76,\n",
              " '12': 77,\n",
              " '120': 78,\n",
              " '125': 79,\n",
              " '126': 80,\n",
              " '13': 81,\n",
              " '130': 82,\n",
              " '13th': 83,\n",
              " '14': 84,\n",
              " '14.9': 85,\n",
              " '140': 86,\n",
              " '142-page': 87,\n",
              " '143.6': 88,\n",
              " '148': 89,\n",
              " '149.6': 90,\n",
              " '15': 91,\n",
              " '150': 92,\n",
              " '1500': 93,\n",
              " '154.3': 94,\n",
              " '158': 95,\n",
              " '16': 96,\n",
              " '16.1': 97,\n",
              " '160': 98,\n",
              " '161.8': 99,\n",
              " '167.9': 100,\n",
              " '169.4': 101,\n",
              " '17': 102,\n",
              " '179': 103,\n",
              " '18': 104,\n",
              " '18.9': 105,\n",
              " '180': 106,\n",
              " '1815': 107,\n",
              " '1817': 108,\n",
              " '1818': 109,\n",
              " '185.1': 110,\n",
              " '1871': 111,\n",
              " '188.2': 112,\n",
              " '19': 113,\n",
              " '19-to-$21': 114,\n",
              " '190-point': 115,\n",
              " '1930': 116,\n",
              " '1939': 117,\n",
              " '1945': 118,\n",
              " '1950s': 119,\n",
              " '1958': 120,\n",
              " '196': 121,\n",
              " '1970': 122,\n",
              " '1971': 123,\n",
              " '1974': 124,\n",
              " '1976': 125,\n",
              " '1979': 126,\n",
              " '1980': 127,\n",
              " '1980s': 128,\n",
              " '1981': 129,\n",
              " '1982': 130,\n",
              " '1983': 131,\n",
              " '1985': 132,\n",
              " '1986': 133,\n",
              " '1987': 134,\n",
              " '1988': 135,\n",
              " '1989': 136,\n",
              " '1990': 137,\n",
              " '1990s': 138,\n",
              " '1991': 139,\n",
              " '1992': 140,\n",
              " '1993': 141,\n",
              " '1994': 142,\n",
              " '1995': 143,\n",
              " '1996': 144,\n",
              " '1997': 145,\n",
              " '1998': 146,\n",
              " '1999': 147,\n",
              " '2': 148,\n",
              " '2,500': 149,\n",
              " '2.22': 150,\n",
              " '2.3': 151,\n",
              " '2.7': 152,\n",
              " '2.75': 153,\n",
              " '20': 154,\n",
              " '20-story': 155,\n",
              " '200': 156,\n",
              " '2000': 157,\n",
              " '2001': 158,\n",
              " '2002': 159,\n",
              " '2003': 160,\n",
              " '2004': 161,\n",
              " '2005': 162,\n",
              " '2006': 163,\n",
              " '2008': 164,\n",
              " '2009': 165,\n",
              " '2010': 166,\n",
              " '2012': 167,\n",
              " '2019': 168,\n",
              " '2030': 169,\n",
              " '2040': 170,\n",
              " '20s': 171,\n",
              " '20th': 172,\n",
              " '21': 173,\n",
              " '21st': 174,\n",
              " '22': 175,\n",
              " '22.2': 176,\n",
              " '225.5': 177,\n",
              " '23': 178,\n",
              " '230.8': 179,\n",
              " '232.8': 180,\n",
              " '233.6': 181,\n",
              " '24': 182,\n",
              " '240': 183,\n",
              " '25': 184,\n",
              " '25.1': 185,\n",
              " '25.2': 186,\n",
              " '250': 187,\n",
              " '250-point': 188,\n",
              " '2500': 189,\n",
              " '254': 190,\n",
              " '26': 191,\n",
              " '264.6': 192,\n",
              " '27': 193,\n",
              " '28': 194,\n",
              " '28.4': 195,\n",
              " '289.7': 196,\n",
              " '29': 197,\n",
              " '3': 198,\n",
              " '3,000': 199,\n",
              " '3-4-5': 200,\n",
              " '3-for-3': 201,\n",
              " '3.1': 202,\n",
              " '3.3': 203,\n",
              " '3.30': 204,\n",
              " '3.38': 205,\n",
              " '3.40': 206,\n",
              " '3.49': 207,\n",
              " '3.50': 208,\n",
              " '3.80': 209,\n",
              " '30': 210,\n",
              " '30.000': 211,\n",
              " '30.4': 212,\n",
              " '300': 213,\n",
              " '31': 214,\n",
              " '31.05': 215,\n",
              " '31.50': 216,\n",
              " '310.9': 217,\n",
              " '316': 218,\n",
              " '32': 219,\n",
              " '320': 220,\n",
              " '326': 221,\n",
              " '33': 222,\n",
              " '34': 223,\n",
              " '347': 224,\n",
              " '35': 225,\n",
              " '35-minute': 226,\n",
              " '355': 227,\n",
              " '361': 228,\n",
              " '37': 229,\n",
              " '37.5': 230,\n",
              " '39': 231,\n",
              " '4': 232,\n",
              " '4.13': 233,\n",
              " '4.17': 234,\n",
              " '4.19': 235,\n",
              " '4.2': 236,\n",
              " '4.4': 237,\n",
              " '4.67': 238,\n",
              " '4.8': 239,\n",
              " '40': 240,\n",
              " '40-minute': 241,\n",
              " '400': 242,\n",
              " '409': 243,\n",
              " '40s': 244,\n",
              " '41': 245,\n",
              " '414': 246,\n",
              " '424': 247,\n",
              " '43': 248,\n",
              " '439.3': 249,\n",
              " '44': 250,\n",
              " '44.125': 251,\n",
              " '44.625': 252,\n",
              " '45': 253,\n",
              " '46': 254,\n",
              " '469.4': 255,\n",
              " '47': 256,\n",
              " '47145': 257,\n",
              " '474.1': 258,\n",
              " '49,000-plus': 259,\n",
              " '492': 260,\n",
              " '496': 261,\n",
              " '5': 262,\n",
              " '5,500,000': 263,\n",
              " '5-for-24': 264,\n",
              " '5.33': 265,\n",
              " '5.35': 266,\n",
              " '5.50': 267,\n",
              " '5.99': 268,\n",
              " '50': 269,\n",
              " '50.1%-owned': 270,\n",
              " '50.3': 271,\n",
              " '500': 272,\n",
              " '50s': 273,\n",
              " '51': 274,\n",
              " '52': 275,\n",
              " '52.2': 276,\n",
              " '53': 277,\n",
              " '53.4': 278,\n",
              " '54': 279,\n",
              " '548.9': 280,\n",
              " '55': 281,\n",
              " '55,000': 282,\n",
              " '55-year-old': 283,\n",
              " '56': 284,\n",
              " '56.1': 285,\n",
              " '560,839': 286,\n",
              " '566': 287,\n",
              " '57': 288,\n",
              " '57.375': 289,\n",
              " '58': 290,\n",
              " '58.9': 291,\n",
              " '59': 292,\n",
              " '6': 293,\n",
              " '6,000': 294,\n",
              " '6,930,000': 295,\n",
              " '6.03': 296,\n",
              " '6.20': 297,\n",
              " '60': 298,\n",
              " '600m': 299,\n",
              " '60s': 300,\n",
              " '60th': 301,\n",
              " '624': 302,\n",
              " '65': 303,\n",
              " '67': 304,\n",
              " '68': 305,\n",
              " '69': 306,\n",
              " '7': 307,\n",
              " '7-a-share': 308,\n",
              " '70': 309,\n",
              " '700': 310,\n",
              " '700,000': 311,\n",
              " '7000': 312,\n",
              " '70s': 313,\n",
              " '71': 314,\n",
              " '737': 315,\n",
              " '74.9': 316,\n",
              " '747': 317,\n",
              " '75': 318,\n",
              " '75.8': 319,\n",
              " '750': 320,\n",
              " '751': 321,\n",
              " '757': 322,\n",
              " '76.9': 323,\n",
              " '767': 324,\n",
              " '770': 325,\n",
              " '78.6': 326,\n",
              " '8': 327,\n",
              " '8.45': 328,\n",
              " '8.55': 329,\n",
              " '8.78': 330,\n",
              " '80': 331,\n",
              " '800,000': 332,\n",
              " '800-line': 333,\n",
              " '800-number': 334,\n",
              " '80th': 335,\n",
              " '81.5': 336,\n",
              " '81.9': 337,\n",
              " '82.1': 338,\n",
              " '84.3': 339,\n",
              " '851': 340,\n",
              " '88': 341,\n",
              " '9': 342,\n",
              " '9.008': 343,\n",
              " '9.92': 344,\n",
              " '90': 345,\n",
              " '91': 346,\n",
              " '911': 347,\n",
              " '93.1': 348,\n",
              " '965': 349,\n",
              " '99': 350,\n",
              " '99.943': 351,\n",
              " '9th': 352,\n",
              " ':': 353,\n",
              " ';': 354,\n",
              " '=': 355,\n",
              " '?': 356,\n",
              " 'A': 357,\n",
              " 'A-body': 358,\n",
              " 'A-men': 359,\n",
              " 'AC': 360,\n",
              " 'ADMINISTRATIVE': 361,\n",
              " 'ADOPTED': 362,\n",
              " 'ADS': 363,\n",
              " 'ADVERTISING': 364,\n",
              " 'AG': 365,\n",
              " 'AIPMC': 366,\n",
              " 'AMR': 367,\n",
              " 'AND': 368,\n",
              " 'ANNEX': 369,\n",
              " 'APPLICATION': 370,\n",
              " 'APPROVAL': 371,\n",
              " 'ARNOLD': 372,\n",
              " 'ASEAN': 373,\n",
              " 'Abbas': 374,\n",
              " 'Abdul': 375,\n",
              " 'Abramovich': 376,\n",
              " 'Abu': 377,\n",
              " 'Abuja': 378,\n",
              " 'Accession': 379,\n",
              " 'According': 380,\n",
              " 'Accords': 381,\n",
              " 'Accountancy': 382,\n",
              " 'Accra': 383,\n",
              " 'Acquisition': 384,\n",
              " 'Across': 385,\n",
              " 'Act': 386,\n",
              " 'Active': 387,\n",
              " 'Ad': 388,\n",
              " 'Adam': 389,\n",
              " 'Adaptation': 390,\n",
              " 'Adenauer': 391,\n",
              " 'Administration': 392,\n",
              " 'Admission': 393,\n",
              " 'Adventures': 394,\n",
              " 'Advertising': 395,\n",
              " 'Advisers': 396,\n",
              " 'Advisor': 397,\n",
              " 'Advisory': 398,\n",
              " 'Afanasievich': 399,\n",
              " 'Affairs': 400,\n",
              " 'Affective': 401,\n",
              " 'Afghanistan': 402,\n",
              " 'Afghans': 403,\n",
              " 'Africa': 404,\n",
              " 'African': 405,\n",
              " 'After': 406,\n",
              " 'Again': 407,\n",
              " 'Against': 408,\n",
              " 'Age': 409,\n",
              " 'Agency': 410,\n",
              " 'Ages': 411,\n",
              " 'Agreement': 412,\n",
              " 'Ahtisaari': 413,\n",
              " 'Air': 414,\n",
              " 'Airlines': 415,\n",
              " 'Al': 416,\n",
              " 'Alan': 417,\n",
              " 'Alaska': 418,\n",
              " 'Albania': 419,\n",
              " 'Albanian': 420,\n",
              " 'Alberta': 421,\n",
              " 'Albright': 422,\n",
              " 'Aleksander': 423,\n",
              " 'Aleksandr': 424,\n",
              " 'Aleksei': 425,\n",
              " 'Alexander': 426,\n",
              " 'Alexandria': 427,\n",
              " 'Alexei': 428,\n",
              " 'Alfred': 429,\n",
              " 'Algeria': 430,\n",
              " 'Alice': 431,\n",
              " 'Alija': 432,\n",
              " 'Aliyev': 433,\n",
              " 'All': 434,\n",
              " 'Allan': 435,\n",
              " 'Alliance': 436,\n",
              " 'Allocation': 437,\n",
              " 'Along': 438,\n",
              " 'Alongside': 439,\n",
              " 'Alpine': 440,\n",
              " 'Already': 441,\n",
              " 'Also': 442,\n",
              " 'Although': 443,\n",
              " 'Altman': 444,\n",
              " 'Alvaro': 445,\n",
              " 'Amal': 446,\n",
              " 'America': 447,\n",
              " 'American': 448,\n",
              " 'Americans': 449,\n",
              " 'Amnesty': 450,\n",
              " 'Among': 451,\n",
              " 'Amsterdam': 452,\n",
              " 'Amy': 453,\n",
              " 'An': 454,\n",
              " 'Analysts': 455,\n",
              " 'Anatoly': 456,\n",
              " 'And': 457,\n",
              " 'Andean': 458,\n",
              " 'Andrei': 459,\n",
              " 'Andrew': 460,\n",
              " 'Angela': 461,\n",
              " 'Angeles': 462,\n",
              " 'Ann': 463,\n",
              " 'Annan': 464,\n",
              " 'Annex': 465,\n",
              " 'Annexes': 466,\n",
              " 'Anniversary': 467,\n",
              " 'Annual': 468,\n",
              " 'Another': 469,\n",
              " 'Ante': 470,\n",
              " 'Anthony': 471,\n",
              " 'Antonia': 472,\n",
              " 'Antonio': 473,\n",
              " 'Any': 474,\n",
              " 'Anyway': 475,\n",
              " 'Apparently': 476,\n",
              " 'Application': 477,\n",
              " 'Applied': 478,\n",
              " 'Appropriations': 479,\n",
              " 'April': 480,\n",
              " 'Arab': 481,\n",
              " 'Arabia': 482,\n",
              " 'Arabic': 483,\n",
              " 'Arabs': 484,\n",
              " 'Arafat': 485,\n",
              " 'Architecture': 486,\n",
              " 'Are': 487,\n",
              " 'Argentina': 488,\n",
              " 'Arguments': 489,\n",
              " 'Ariz': 490,\n",
              " 'Arizona': 491,\n",
              " 'Armed': 492,\n",
              " 'Armenia': 493,\n",
              " 'Army': 494,\n",
              " 'Arnold': 495,\n",
              " 'Arnsdorf': 496,\n",
              " 'Arrabiyeh': 497,\n",
              " 'Arsenal': 498,\n",
              " 'Art': 499,\n",
              " 'Arthur': 500,\n",
              " 'Article': 501,\n",
              " 'Articles': 502,\n",
              " 'As': 503,\n",
              " 'Asia': 504,\n",
              " 'Asian': 505,\n",
              " 'Aside': 506,\n",
              " 'Ask': 507,\n",
              " 'Assad': 508,\n",
              " 'Assembly': 509,\n",
              " 'Assets': 510,\n",
              " 'Assisi': 511,\n",
              " 'Assistant': 512,\n",
              " 'Association': 513,\n",
              " 'Assuming': 514,\n",
              " 'Assyrian': 515,\n",
              " 'At': 516,\n",
              " 'Ataturk': 517,\n",
              " 'Atco': 518,\n",
              " 'Atlanta': 519,\n",
              " 'Atlanta-based': 520,\n",
              " 'Atlantic': 521,\n",
              " 'Atomic': 522,\n",
              " 'Aug': 523,\n",
              " 'August': 524,\n",
              " 'Australia': 525,\n",
              " 'Australian': 526,\n",
              " 'Austria': 527,\n",
              " 'Austrian': 528,\n",
              " 'Authorisation': 529,\n",
              " 'Authorities': 530,\n",
              " 'Authority': 531,\n",
              " 'Auto': 532,\n",
              " 'Autumn': 533,\n",
              " 'Average': 534,\n",
              " 'Aviv': 535,\n",
              " 'Avoid': 536,\n",
              " 'Azeris': 537,\n",
              " 'Azhar': 538,\n",
              " 'B': 539,\n",
              " 'BART': 540,\n",
              " 'BERLIN': 541,\n",
              " 'BRUSSELS': 542,\n",
              " 'BT': 543,\n",
              " 'Baa-1': 544,\n",
              " 'Bacchetta': 545,\n",
              " 'Back': 546,\n",
              " 'Badr': 547,\n",
              " 'Baghdad': 548,\n",
              " 'Baker': 549,\n",
              " 'Baku': 550,\n",
              " 'Balassa': 551,\n",
              " 'Balcerowicz': 552,\n",
              " 'Balibar': 553,\n",
              " 'Balkan': 554,\n",
              " 'Balkans': 555,\n",
              " 'Balliol': 556,\n",
              " 'Baltic': 557,\n",
              " 'Baltics': 558,\n",
              " 'Banac': 559,\n",
              " 'Bangladesh': 560,\n",
              " 'Bank': 561,\n",
              " 'Banknote': 562,\n",
              " 'Bankruptcy': 563,\n",
              " 'Banks': 564,\n",
              " 'Baradei': 565,\n",
              " 'Barbara': 566,\n",
              " 'Barcelona': 567,\n",
              " 'Barnabas': 568,\n",
              " 'Barry': 569,\n",
              " 'Baseball': 570,\n",
              " 'Based': 571,\n",
              " 'Bashar': 572,\n",
              " 'Bashers': 573,\n",
              " 'Basra': 574,\n",
              " 'Batory': 575,\n",
              " 'Bay': 576,\n",
              " 'Be': 577,\n",
              " 'Beach': 578,\n",
              " 'Beadles': 579,\n",
              " 'Beatles': 580,\n",
              " 'Because': 581,\n",
              " 'Beckerman': 582,\n",
              " 'Before': 583,\n",
              " 'Being': 584,\n",
              " 'Beirut': 585,\n",
              " 'Belarus': 586,\n",
              " 'Belgian': 587,\n",
              " 'Belgium': 588,\n",
              " 'Belgrade': 589,\n",
              " 'Bell': 590,\n",
              " 'BellSouth': 591,\n",
              " 'Belorussian': 592,\n",
              " 'Bending': 593,\n",
              " 'Berezovsky': 594,\n",
              " 'Berger': 595,\n",
              " 'Berglof': 596,\n",
              " 'Berkeley': 597,\n",
              " 'Berlin': 598,\n",
              " 'Berlusconi': 599,\n",
              " 'Berne': 600,\n",
              " 'Bertelsmann': 601,\n",
              " 'Bertram': 602,\n",
              " 'Besides': 603,\n",
              " 'Bethesda': 604,\n",
              " 'Between': 605,\n",
              " 'Beverly': 606,\n",
              " 'Beyond': 607,\n",
              " 'Biden': 608,\n",
              " 'Big': 609,\n",
              " 'Bigg': 610,\n",
              " 'Bill': 611,\n",
              " 'Bin': 612,\n",
              " 'Bioethics': 613,\n",
              " 'Biotechnology': 614,\n",
              " 'Bismarck': 615,\n",
              " 'Bits': 616,\n",
              " 'Bjorn': 617,\n",
              " 'Blackmoor': 618,\n",
              " 'Blah': 619,\n",
              " 'Blair': 620,\n",
              " 'Blanchard': 621,\n",
              " 'Blix': 622,\n",
              " 'Bloc': 623,\n",
              " 'Blomstrom': 624,\n",
              " 'Blood': 625,\n",
              " 'Bo': 626,\n",
              " 'Board': 627,\n",
              " 'Bob': 628,\n",
              " 'Bodies': 629,\n",
              " 'Boeing': 630,\n",
              " 'Bomb': 631,\n",
              " 'Boniface': 632,\n",
              " 'Bonn': 633,\n",
              " 'Bonwit': 634,\n",
              " 'Boris': 635,\n",
              " 'Borrowing': 636,\n",
              " 'Bosnia': 637,\n",
              " 'Bosniak': 638,\n",
              " 'Bosnian': 639,\n",
              " 'Boston': 640,\n",
              " 'Both': 641,\n",
              " 'Boyd': 642,\n",
              " 'Boys': 643,\n",
              " 'Brazil': 644,\n",
              " 'Brazilian': 645,\n",
              " 'Breaker': 646,\n",
              " 'Brian': 647,\n",
              " 'Bridget': 648,\n",
              " 'Brigade': 649,\n",
              " 'Bringing': 650,\n",
              " 'Britain': 651,\n",
              " 'British': 652,\n",
              " 'Broad': 653,\n",
              " 'Broadcast': 654,\n",
              " 'Broadcasting': 655,\n",
              " 'Brook': 656,\n",
              " 'Brookings': 657,\n",
              " 'Brotherhood': 658,\n",
              " 'Brothers': 659,\n",
              " 'Brown': 660,\n",
              " 'Bruce': 661,\n",
              " 'Brussels': 662,\n",
              " 'Brzezinski': 663,\n",
              " 'Bucharest': 664,\n",
              " 'Budapest': 665,\n",
              " 'Budisa': 666,\n",
              " 'Bueky': 667,\n",
              " 'Buffalo': 668,\n",
              " 'Buffett': 669,\n",
              " 'Building': 670,\n",
              " 'Built': 671,\n",
              " 'Bulgakov': 672,\n",
              " 'Bulgaria': 673,\n",
              " 'Bulgarian': 674,\n",
              " 'Bumble': 675,\n",
              " 'Bundeswehr': 676,\n",
              " 'Bureau': 677,\n",
              " 'Burma': 678,\n",
              " 'Burnham': 679,\n",
              " 'Bush': 680,\n",
              " 'Business': 681,\n",
              " 'Busy': 682,\n",
              " 'But': 683,\n",
              " 'By': 684,\n",
              " 'C': 685,\n",
              " 'C$': 686,\n",
              " 'CB': 687,\n",
              " 'CDU': 688,\n",
              " 'CEC5': 689,\n",
              " 'CEPR': 690,\n",
              " 'CERN': 691,\n",
              " 'CHARACTERISTICS': 692,\n",
              " 'CIA': 693,\n",
              " 'CIS': 694,\n",
              " 'CLAUSES': 695,\n",
              " 'CNN': 696,\n",
              " 'CNRS': 697,\n",
              " 'CO2': 698,\n",
              " 'COMECON': 699,\n",
              " 'COMMON': 700,\n",
              " 'COMMUNITIES': 701,\n",
              " 'COPD': 702,\n",
              " 'COUNCIL': 703,\n",
              " 'CRITERIA': 704,\n",
              " 'Cable': 705,\n",
              " 'Caio': 706,\n",
              " 'Calabasas': 707,\n",
              " 'Calif': 708,\n",
              " 'California': 709,\n",
              " 'Call': 710,\n",
              " 'Called': 711,\n",
              " 'Calm': 712,\n",
              " 'Camaro': 713,\n",
              " 'Camaro-Firebird': 714,\n",
              " 'Cambodia': 715,\n",
              " 'Camdessus': 716,\n",
              " 'Campbell': 717,\n",
              " 'Can': 718,\n",
              " 'Canada': 719,\n",
              " 'Canadian': 720,\n",
              " 'Cancer': 721,\n",
              " 'Cancun': 722,\n",
              " 'Candlestick': 723,\n",
              " 'Capital': 724,\n",
              " 'Carbohydrate': 725,\n",
              " 'Carbohydrates': 726,\n",
              " 'Cardinal': 727,\n",
              " 'Carla': 728,\n",
              " 'Carnegie': 729,\n",
              " 'Carol': 730,\n",
              " 'Carolina': 731,\n",
              " 'Casual': 732,\n",
              " 'Cathleen': 733,\n",
              " 'Catholic': 734,\n",
              " 'Caucus': 735,\n",
              " 'Cellular': 736,\n",
              " 'Centel': 737,\n",
              " 'Center': 738,\n",
              " 'Central': 739,\n",
              " 'Centre': 740,\n",
              " 'Century': 741,\n",
              " 'Chad': 742,\n",
              " 'Chair': 743,\n",
              " 'Chairman': 744,\n",
              " 'Chairperson': 745,\n",
              " 'Challenge': 746,\n",
              " 'Chancellery': 747,\n",
              " 'Chancellor': 748,\n",
              " 'Change': 749,\n",
              " 'Chapter': 750,\n",
              " 'Charles': 751,\n",
              " 'Charlotte': 752,\n",
              " 'Chase': 753,\n",
              " 'Chaseborough': 754,\n",
              " 'Chechen': 755,\n",
              " 'Chee': 756,\n",
              " 'Chelsea': 757,\n",
              " 'Chemical': 758,\n",
              " 'Cheney': 759,\n",
              " 'Chernomyrdin': 760,\n",
              " 'Chevrolet': 761,\n",
              " 'Chevčnement': 762,\n",
              " 'Chicago': 763,\n",
              " 'Chief': 764,\n",
              " 'Child': 765,\n",
              " 'Children': 766,\n",
              " 'Chile': 767,\n",
              " 'China': 768,\n",
              " 'Chinese': 769,\n",
              " 'Chirac': 770,\n",
              " 'Choonhavan': 771,\n",
              " 'Chrisanthopoulos': 772,\n",
              " 'Christ': 773,\n",
              " 'Christian': 774,\n",
              " 'Christianity': 775,\n",
              " 'Christmas': 776,\n",
              " 'Christoph': 777,\n",
              " 'Chubais': 778,\n",
              " 'Church': 779,\n",
              " 'Chávez': 780,\n",
              " 'Cincinnati': 781,\n",
              " 'Citibank': 782,\n",
              " 'Citicorp': 783,\n",
              " 'Citing': 784,\n",
              " 'City': 785,\n",
              " 'Claims': 786,\n",
              " 'Clark': 787,\n",
              " 'Classification': 788,\n",
              " 'Classified': 789,\n",
              " 'Claude': 790,\n",
              " 'Clinton': 791,\n",
              " 'Close': 792,\n",
              " 'Closely': 793,\n",
              " 'Co': 794,\n",
              " 'Coast': 795,\n",
              " 'Code': 796,\n",
              " 'Coincidentally': 797,\n",
              " 'Cold': 798,\n",
              " 'Coleman': 799,\n",
              " 'Colin': 800,\n",
              " 'Coliseum': 801,\n",
              " 'Collection': 802,\n",
              " 'College': 803,\n",
              " 'Collender': 804,\n",
              " 'Colo': 805,\n",
              " 'Colom': 806,\n",
              " 'Columbia': 807,\n",
              " 'Commercial': 808,\n",
              " 'Commission': 809,\n",
              " 'Commissioner': 810,\n",
              " 'Committee': 811,\n",
              " 'Committees': 812,\n",
              " 'Commodities': 813,\n",
              " 'Common': 814,\n",
              " 'Commonwealth': 815,\n",
              " 'Communications': 816,\n",
              " 'Communiqué': 817,\n",
              " 'Communist': 818,\n",
              " 'Communists': 819,\n",
              " 'Community': 820,\n",
              " 'Comparative': 821,\n",
              " 'Comparisons': 822,\n",
              " 'Competitive': 823,\n",
              " 'Competitiveness': 824,\n",
              " 'Components': 825,\n",
              " 'Condoleezza': 826,\n",
              " 'Confidential': 827,\n",
              " 'Confining': 828,\n",
              " 'Congo': 829,\n",
              " 'Congress': 830,\n",
              " 'Conko': 831,\n",
              " 'Conn': 832,\n",
              " 'Conscription': 833,\n",
              " 'Consensus': 834,\n",
              " 'Consider': 835,\n",
              " 'Constitution': 836,\n",
              " 'Constitutional': 837,\n",
              " 'Construction': 838,\n",
              " 'Continued': 839,\n",
              " 'Contracting': 840,\n",
              " 'Contracts': 841,\n",
              " 'Control': 842,\n",
              " 'Convention': 843,\n",
              " 'Conventional': 844,\n",
              " 'Cooperation': 845,\n",
              " 'Copenhagen': 846,\n",
              " 'Corp': 847,\n",
              " 'Corporate': 848,\n",
              " 'Corporation': 849,\n",
              " 'Corrupt': 850,\n",
              " 'Corzine': 851,\n",
              " 'Costa': 852,\n",
              " 'Council': 853,\n",
              " 'Countries': 854,\n",
              " 'County': 855,\n",
              " 'Couples': 856,\n",
              " 'Court': 857,\n",
              " 'Craig': 858,\n",
              " 'Craving': 859,\n",
              " 'Create': 860,\n",
              " 'Criminal': 861,\n",
              " 'Crisis': 862,\n",
              " 'Croat': 863,\n",
              " 'Croatia': 864,\n",
              " 'Croatian': 865,\n",
              " 'Croats': 866,\n",
              " 'Crosbie': 867,\n",
              " 'Cross': 868,\n",
              " 'Cuba': 869,\n",
              " 'Cuban': 870,\n",
              " 'Cubs': 871,\n",
              " 'Cup': 872,\n",
              " 'Curate': 873,\n",
              " 'Current': 874,\n",
              " 'Currently': 875,\n",
              " 'Curtain': 876,\n",
              " 'Curuvija': 877,\n",
              " 'Cynthia': 878,\n",
              " 'Cyprus': 879,\n",
              " 'Cyrus': 880,\n",
              " 'Czech': 881,\n",
              " 'D': 882,\n",
              " 'DC': 883,\n",
              " 'DDT': 884,\n",
              " 'DEFINITIONS': 885,\n",
              " 'DIG': 886,\n",
              " 'DIRECTIVE': 887,\n",
              " 'Dad': 888,\n",
              " 'Daily': 889,\n",
              " 'Dalene': 890,\n",
              " 'Dallaire': 891,\n",
              " 'Dallas': 892,\n",
              " 'Damascus': 893,\n",
              " 'Damned': 894,\n",
              " 'Damon': 895,\n",
              " 'Danilov': 896,\n",
              " 'Dar': 897,\n",
              " 'Dark': 898,\n",
              " 'Data': 899,\n",
              " 'Dave': 900,\n",
              " 'David': 901,\n",
              " 'Davos': 902,\n",
              " 'Day': 903,\n",
              " 'Days': 904,\n",
              " 'Dayton': 905,\n",
              " 'De': 906,\n",
              " 'Deak': 907,\n",
              " 'Debate': 908,\n",
              " 'Dec': 909,\n",
              " 'December': 910,\n",
              " 'Decision': 911,\n",
              " 'Decisions': 912,\n",
              " 'Declaration': 913,\n",
              " 'Deepak': 914,\n",
              " 'Dehaene': 915,\n",
              " 'Delaware': 916,\n",
              " 'Delaying': 917,\n",
              " 'Della': 918,\n",
              " 'Delors': 919,\n",
              " 'Democrat': 920,\n",
              " 'Democratic': 921,\n",
              " 'Democrats': 922,\n",
              " 'Deng': 923,\n",
              " 'Denmark': 924,\n",
              " 'Department': 925,\n",
              " 'Deposit': 926,\n",
              " 'Deputy': 927,\n",
              " 'Descendants': 928,\n",
              " 'Description': 929,\n",
              " 'Desire': 930,\n",
              " 'Despite': 931,\n",
              " 'Detailed': 932,\n",
              " 'Deutsche': 933,\n",
              " 'Development': 934,\n",
              " 'Di': 935,\n",
              " 'Dialogue': 936,\n",
              " 'Dick': 937,\n",
              " 'Dimona': 938,\n",
              " 'Diplomacy': 939,\n",
              " 'Diplomatic': 940,\n",
              " 'Directive': 941,\n",
              " 'Directly': 942,\n",
              " 'Director': 943,\n",
              " 'Discuss': 944,\n",
              " 'Disorder': 945,\n",
              " 'Disposal': 946,\n",
              " 'Dissident': 947,\n",
              " 'Distress': 948,\n",
              " 'District': 949,\n",
              " 'Diversification': 950,\n",
              " 'Do': 951,\n",
              " 'Doctors': 952,\n",
              " 'Dodger': 953,\n",
              " 'Dodgers': 954,\n",
              " 'Dodo': 955,\n",
              " 'Dollar': 956,\n",
              " 'Don': 957,\n",
              " 'Donal': 958,\n",
              " 'Done': 959,\n",
              " 'Donne': 960,\n",
              " 'Doomed': 961,\n",
              " 'Dopryansky': 962,\n",
              " 'Doris': 963,\n",
              " 'Dostum': 964,\n",
              " 'Doug': 965,\n",
              " 'Douglas': 966,\n",
              " 'Dow': 967,\n",
              " 'Dr': 968,\n",
              " 'Draskovic': 969,\n",
              " 'Drawing': 970,\n",
              " 'Drawings': 971,\n",
              " 'Drazen': 972,\n",
              " 'Dream': 973,\n",
              " 'Drexel': 974,\n",
              " 'Drug': 975,\n",
              " 'Duckworth': 976,\n",
              " 'Duma': 977,\n",
              " 'Durbeyfield': 978,\n",
              " 'Durbeyfields': 979,\n",
              " 'During': 980,\n",
              " 'Dusty': 981,\n",
              " 'E': 982,\n",
              " 'ECFR': 983,\n",
              " 'ECI': 984,\n",
              " 'EDT': 985,\n",
              " 'EDUCATION': 986,\n",
              " 'EEC': 987,\n",
              " 'EITI': 988,\n",
              " 'EJM': 989,\n",
              " 'EMU': 990,\n",
              " 'ERM': 991,\n",
              " 'EU': 992,\n",
              " 'EUROPEAN': 993,\n",
              " 'Each': 994,\n",
              " 'Earlier': 995,\n",
              " 'Early': 996,\n",
              " 'Earth': 997,\n",
              " 'East': 998,\n",
              " 'Eastern': 999,\n",
              " ...}"
            ]
          },
          "execution_count": 146,
          "metadata": {},
          "output_type": "execute_result"
        }
      ],
      "source": [
        "t_idx_src"
      ]
    },
    {
      "cell_type": "markdown",
      "metadata": {
        "id": "ia7qmSx_58wG",
        "pycharm": {
          "name": "#%% md\n"
        }
      },
      "source": [
        "**Задание -1. (0.5 балла)** Реализуйте функции `get_token_to_index` и `tokenize_sents` из модуля `preprocessing.py`, постройте словари token->index для обоих языков и постройте список из `TokenizedSentencePair` по выборке. Реализации функций также отправьте в Яндекс.Контест."
      ]
    },
    {
      "cell_type": "code",
      "execution_count": 59,
      "metadata": {},
      "outputs": [],
      "source": [
        "from preprocessing import get_token_to_index, tokenize_sents"
      ]
    },
    {
      "cell_type": "code",
      "execution_count": 60,
      "metadata": {},
      "outputs": [],
      "source": [
        "t_idx_src, t_idx_tgt = get_token_to_index(all_sentences)\n",
        "tokenized_sentences = tokenize_sents(all_sentences, t_idx_src, t_idx_tgt)"
      ]
    },
    {
      "cell_type": "markdown",
      "metadata": {
        "id": "sVDMXH3L58wH",
        "pycharm": {
          "name": "#%% md\n"
        }
      },
      "source": [
        "В качестве бейзлайна для этой задачи мы возьмём способ выравнивания слов по коэффициенту Дайса: слово в исходном языке является переводом слова на целевом языке, если они часто встречаются в одних и тех же предложениях и редко встречаются по отдельности.\n",
        "\n",
        "Математически это записывается по аналогии с мерой Жаккара: пусть $c(x,y)$ — число параллельных предложений, в которых есть и $x$ (на исходном языке), и $y$ (на целевом языке), а $c(x)$ и $c(y)$ — суммарное количество предложений, в которых встречается слово $x$ и $y$ соответственно. Тогда $\\textrm{Dice}(x,y)=\\frac{2 \\cdot c(x,y)}{c(x) + c(y)}$ — характеристика «похожести» слов $x$ и $y$. Она равна 1, если слова встречаются только в контексте друг друга (не бывает предложений только со словом $x$ без $y$ в переводе и наоборот), равна 0, если слова никогда не встречаются в параллельных предложениях и находится между пороговыми значениями в остальных случаях.\n",
        "\n",
        "В файле `models.py` описан абстрактный класс `BaseAligner`, наследником которого должны являться все модели в задании, а также приведён пример реализации `DiceAligner` выравнивания слов описанным выше путём. Ниже вы можете увидеть, как применять эту модель."
      ]
    },
    {
      "cell_type": "code",
      "execution_count": 63,
      "metadata": {
        "id": "SOItrOZxBG_Q"
      },
      "outputs": [],
      "source": [
        "from models import DiceAligner\n",
        "\n",
        "baseline = DiceAligner(len(t_idx_src), len(t_idx_tgt), threshold=0.01)\n",
        "baseline.fit(tokenized_sentences)"
      ]
    },
    {
      "cell_type": "markdown",
      "metadata": {
        "id": "IfTduS5158wH",
        "pycharm": {
          "name": "#%% md\n"
        }
      },
      "source": [
        "Чтобы оценить качество модели выравнивания, пользуясь имеющейся разметкой, существует ряд автоматических метрик. Они подразумевают, что в разметке есть два вида выравниваний — «уверенные» (sure) и «возможные» (possible). Обозначим для конкретного предложения первое множество выравниваний $S$, второе — $P$, а предсказанные выравнивания — $A$; причём, в отличие от разметки в файле, $S\\subseteq P$. Тогда можно предложить три метрики, используя только операции над этими множествами:\n",
        "\n",
        "Precision $=\\frac{|A\\cap P|}{|A|}$. Отражает, какая доля предсказанных нами выравниваний вообще корректна; если мы дадим в качестве ответа все возможные пары слов в предложении, эта метрика сильно просядет.\n",
        "\n",
        "Recall $=\\frac{|A\\cap S|}{|S|}$. Эта метрика показывает, какую долю «уверенных» выравниваний мы обнаружили. Если мы попытаемся сделать слишком консервативную модель, которая выдаёт 0 или 1 предсказание на нетривиальных предложениях, полнота получится крайне низкая.\n",
        "\n",
        "Alignment Error Rate (AER) $=1-\\frac{|A\\cap P|+|A\\cap S|}{|A|+|S|}$. Метрика является комбинацией двух предыдущих и отслеживает общее качество работы системы, штрафуя оба описанных выше вида нежелаемого поведения модели.\n",
        "\n",
        "**Задание 0. (0.5 балла)** Реализуйте функции compute_precision, compute_recall, compute_aer из модуля metrics.py. Оцените качество бейзлайнового метода. Обратите внимание, что нужно использовать микро-усреднение во всех функциях: необходимо просуммировать числитель и знаменатель по всем предложениям и только потом делить."
      ]
    },
    {
      "cell_type": "code",
      "execution_count": 64,
      "metadata": {
        "id": "2Ezsb88DAFu9"
      },
      "outputs": [
        {
          "data": {
            "text/plain": [
              "0.8115275584918071"
            ]
          },
          "execution_count": 64,
          "metadata": {},
          "output_type": "execute_result"
        }
      ],
      "source": [
        "from metrics import compute_aer\n",
        "\n",
        "compute_aer(all_targets,baseline.align(tokenized_sentences))"
      ]
    },
    {
      "cell_type": "markdown",
      "metadata": {
        "id": "mWfKZKne58wI",
        "pycharm": {
          "name": "#%% md\n"
        }
      },
      "source": [
        "Теперь мы можем перейти к базовой вероятностной модели для выравнивания слов. Пусть $S=(s_1,\\ldots,s_n)$ исходное предложение, $T=(t_1,\\ldots,t_m)$ — его перевод. В роли латентных переменных будут выступать выравнивания $A=(a_1,\\ldots,a_m)$ каждого слова в целевом предложении, причём $a_i\\in\\{1,\\ldots,n\\}$ (считаем, что каждое слово в $t$ является переводом какого-то слова из $s$). Параметрами модели является матрица условных вероятностей перевода: каждый её элемент $\\theta(y|x)=p(y|x)$ отражает вероятность того, что переводом слова $x$ с исходного языка на целевой является слово $y$ (нормировка, соответственно, совершается по словарю целевого языка). Правдоподобие латентных переменных и предложения на целевом языке в этой модели записывается так:\n",
        "\n",
        "$$\n",
        "p(A,T|S)=\\prod_{i=1}^m p(a_i)p(t_i|a_i,S)=\\prod_{i=1}^m \\frac{1}{n}\\theta(t_i|s_{a_i}).\n",
        "$$"
      ]
    },
    {
      "cell_type": "markdown",
      "metadata": {
        "id": "t66xoCEX58wI",
        "pycharm": {
          "name": "#%% md\n"
        }
      },
      "source": [
        "**Задание 1. (2 балла)** Выведите шаги EM-алгоритма для этой модели, а также получите выражение для подсчёта нижней оценки правдоподобия ($\\mathcal{L}$ в обозначениях лекции и семинара). **Обратите внимание, что на M-шаге нужно найти аналитический максимум по параметрам.**"
      ]
    },
    {
      "cell_type": "markdown",
      "metadata": {},
      "source": [
        "Перед выпонлением задания я смотрела это видео: https://www.youtube.com/watch?v=5etGx8OZE7I"
      ]
    },
    {
      "cell_type": "markdown",
      "metadata": {
        "id": "JIhB6Hb_DFnC"
      },
      "source": [
        "# E-step (expectation)"
      ]
    },
    {
      "cell_type": "markdown",
      "metadata": {
        "id": "CI27ip5yB3w_"
      },
      "source": [
        "$$\n",
        "   p(A|T, S) = \\frac{p(A, T|S)}{p(T|S)}\n",
        "$$"
      ]
    },
    {
      "cell_type": "markdown",
      "metadata": {
        "id": "Cx8FezKCCJ5z"
      },
      "source": [
        "$$\n",
        "   p(T|S) = \\sum_{A}{p(T, A|S)} = \\sum_{A}{\\prod_{i=1}^m \\frac{1}{n}\\theta(t_i|s_{a_i})}\n",
        "$$"
      ]
    },
    {
      "cell_type": "markdown",
      "metadata": {
        "id": "C7fqvBA-CUrb"
      },
      "source": [
        "$$\n",
        "   \\frac{p(A, T|S)}{p(T|S)}= \\frac{\\prod_{i=1}^m \\frac{1}{n}\\theta(t_i|s_{a_i})}{\\sum_{A}{\\prod_{i=1}^m \\frac{1}{n}\\theta(t_i|s_{a_i})}} = \\frac{\\prod_{i=1}^m \\frac{1}{n}\\theta(t_i|s_{a_i})}{\\prod_{i=1}^m {\\sum_{j=1}^n \\frac{1}{n}\\theta(t_i|s_{j})}} =    \\prod_{i=1}^m{\\frac{\\theta(t_i|s_{a_i})}{\\sum_{j=1}^n\\theta(t_i|s_{j})}}\n",
        "$$"
      ]
    },
    {
      "cell_type": "markdown",
      "metadata": {
        "id": "UP8fcf3sDQM2"
      },
      "source": [
        "# M-step (maximization)"
      ]
    },
    {
      "cell_type": "markdown",
      "metadata": {
        "id": "sTvGws9hDj24"
      },
      "source": [
        "$$\n",
        "c(t|s; T, S) = \\frac{\\theta(t|s)}{\\sum_{i=0}^{n} \\theta(t|s_i)} \\sum_{j=1}^{m} \\delta(t, t_j) \\sum_{i=0}^{n} \\delta(s, s_i)\n",
        "$$"
      ]
    },
    {
      "cell_type": "markdown",
      "metadata": {},
      "source": [
        "$$\n",
        "\n",
        "\\theta(t|s) = \\frac{\\sum_{(t,s)}с(t|s, T, S)}{\\sum_{t}\\sum_{s}с(t|s, T, S)}\n",
        "\n",
        "$$"
      ]
    },
    {
      "cell_type": "markdown",
      "metadata": {
        "id": "fRv9Rzg9DfHJ"
      },
      "source": [
        "# Нижняя оценка правдоподобия"
      ]
    },
    {
      "cell_type": "markdown",
      "metadata": {
        "id": "IBQPePu9EWIH"
      },
      "source": [
        "По определению\n",
        "$$\n",
        "L=\\mathbb{E}_{q^*}[log\\prod_{k}\\frac{p(A_k, T|S, \\theta)}{q_k(A_k)}]\n",
        "$$\n",
        "Распишем как сумму\n",
        "$$\n",
        "=\\sum_{k}[\\mathbb{E}_{q^*}[log\\frac{p(A_k, T|S, \\theta)}{q_k^{*}(A_k)}]]=\n",
        "$$\n",
        "$$\n",
        "=\\sum_{k}\\sum_{i=1}^{m_k}[\\mathbb{E}{q_k^*}[log(\\frac{1}{n_k}\\theta(t_i|s{a_i})) - \\mathbb{E}{q_k^*}log\\frac{\\theta(t_i|s{a_i})}{\\sum_{k=1}^{n_k}\\theta(t_i|s_{k})}]]=\n",
        "$$\n",
        "Подставим формулу из Е-шага\n",
        "$$\n",
        "\\sum_{k}\\sum_{i=1}^{m_k}\\sum_{j=1}^{n_k}\\frac{\\theta(t_i|s_{j})}{\\sum_{j=1}^{n_k}\\theta(t_i|s_{j})}[log(\\frac{1}{n_k}\\theta(t_i|s_{a_i})) - log\\frac{\\theta(t_i|s_{a_i})}{\\sum_{j=1}^{n_k}\\theta(t_i|s_{j})}] \n",
        "$$\n",
        "Как логарифм\n",
        "$$\n",
        "\\log\\left(\\frac{1}{n_k}\\theta(t_i|s_{a_i})\\right) - \\log\\left(\\frac{\\theta(t_i|s_{a_i})}{\\sum_{j=1}^{n_k}\\theta(t_i|s_{j})}\\right) = \\log\\left(\\frac{\\frac{1}{n_k}\\theta(t_i|s_{a_i})}{\\frac{\\theta(t_i|s_{a_i})}{\\sum_{j=1}^{n_k}\\theta(t_i|s_{j})}}\\right) = \\log\\left(\\frac{\\sum_{j=1}^{n_k}\\theta(t_i|s_{j})}{n_k}\\right)\n",
        "$$\n",
        "$$\n",
        "\\sum_{k}\\sum_{i=1}^{m_k}\\sum_{j=1}^{n_k}\\frac{\\theta(t_i|s_{j})}{\\sum_{j=1}^{n_k}\\theta(t_i|s_{j})}[\\log\\left(\\frac{\\sum_{j=1}^{n_k}\\theta(t_i|s_{j})}{n_k}\\right)] \n",
        "$$"
      ]
    },
    {
      "cell_type": "markdown",
      "metadata": {
        "id": "T_F-_4X558wI",
        "pycharm": {
          "name": "#%% md\n"
        }
      },
      "source": [
        "**Задание 2. (2.5 балла)** Реализуйте все методы класса `WordAligner` в соответствии с полученными вами формулами. Протестируйте вашу реализацию через Яндекс.Контест, а здесь обучите модель и посчитайте её AER на истинной разметке. Чтобы предсказать выравнивание для пары предложений в этой модели, следует выбирать в соответствие для слова в целевом предложении с индексом $i$ позицию, соответствующую максимуму апостериорного распределения $p(a_i|T,S)$."
      ]
    },
    {
      "cell_type": "code",
      "execution_count": 148,
      "metadata": {
        "id": "kag5N-tR58wI",
        "pycharm": {
          "name": "#%%\n"
        }
      },
      "outputs": [],
      "source": [
        "from models import WordAligner\n",
        "\n",
        "word_aligner = WordAligner(len(t_idx_src), len(t_idx_tgt), 20)\n",
        "word_aligner.fit(tokenized_sentences);\n",
        "\n",
        "# ༼つ ಠ益ಠ༽つ ─=≡ΣO))"
      ]
    },
    {
      "cell_type": "markdown",
      "metadata": {
        "id": "BlMWlAy058wJ",
        "pycharm": {
          "name": "#%% md\n"
        }
      },
      "source": [
        "Заметим, что таблицу вероятностей перевода можно использовать и саму по себе для построения словарей. Пример работы показан ниже: метод хоть и работает, но мягко говоря, неидально — слишком мало данных."
      ]
    },
    {
      "cell_type": "code",
      "execution_count": 149,
      "metadata": {
        "id": "oLVNYugQ58wJ",
        "pycharm": {
          "name": "#%%\n"
        }
      },
      "outputs": [],
      "source": [
        "idx_token_tgt = {index:token for token, index in t_idx_tgt.items()}"
      ]
    },
    {
      "cell_type": "code",
      "execution_count": 150,
      "metadata": {
        "colab": {
          "base_uri": "https://localhost:8080/",
          "height": 144
        },
        "id": "EPlnzg6x58wJ",
        "outputId": "91e0c410-5fa7-41d4-9ff8-c8c63b1eaf5b",
        "pycharm": {
          "name": "#%%\n"
        }
      },
      "outputs": [
        {
          "data": {
            "text/plain": [
              "['Pan', 'řekl', 'pan']"
            ]
          },
          "execution_count": 150,
          "metadata": {},
          "output_type": "execute_result"
        }
      ],
      "source": [
        "[idx_token_tgt[i] for i in word_aligner.translation_probs[t_idx_src['Mr']].argsort()[-3:]]"
      ]
    },
    {
      "cell_type": "code",
      "execution_count": 69,
      "metadata": {
        "colab": {
          "base_uri": "https://localhost:8080/",
          "height": 144
        },
        "id": "F0x4Vtdr58wJ",
        "outputId": "4f532b7b-f410-4f07-b4fe-5295da4c5209",
        "pycharm": {
          "name": "#%%\n"
        }
      },
      "outputs": [
        {
          "data": {
            "text/plain": [
              "['-', 'Mannová', 'paní']"
            ]
          },
          "execution_count": 69,
          "metadata": {},
          "output_type": "execute_result"
        }
      ],
      "source": [
        "[idx_token_tgt[i] for i in word_aligner.translation_probs[t_idx_src['Mrs']].argsort()[-3:]]"
      ]
    },
    {
      "cell_type": "code",
      "execution_count": 70,
      "metadata": {
        "colab": {
          "base_uri": "https://localhost:8080/",
          "height": 144
        },
        "id": "2tnJ2BGP58wJ",
        "outputId": "d7cc739f-f6b9-46ae-ed0a-9b2c25211633",
        "pycharm": {
          "name": "#%%\n"
        },
        "scrolled": true
      },
      "outputs": [
        {
          "data": {
            "text/plain": [
              "['z', 'pro', 'vody']"
            ]
          },
          "execution_count": 70,
          "metadata": {},
          "output_type": "execute_result"
        }
      ],
      "source": [
        "[idx_token_tgt[i] for i in word_aligner.translation_probs[t_idx_src['water']].argsort()[-3:]]"
      ]
    },
    {
      "cell_type": "code",
      "execution_count": 71,
      "metadata": {
        "id": "vuPuZ5bf58wJ",
        "pycharm": {
          "name": "#%%\n"
        }
      },
      "outputs": [
        {
          "data": {
            "text/plain": [
              "['konec', 'dne', 'S']"
            ]
          },
          "execution_count": 71,
          "metadata": {},
          "output_type": "execute_result"
        }
      ],
      "source": [
        "[idx_token_tgt[i] for i in word_aligner.translation_probs[t_idx_src['depended']].argsort()[-3:]]"
      ]
    },
    {
      "cell_type": "code",
      "execution_count": 72,
      "metadata": {
        "id": "vKIcZFi858wK",
        "pycharm": {
          "name": "#%%\n"
        }
      },
      "outputs": [
        {
          "data": {
            "text/plain": [
              "['.', 'se', 'na']"
            ]
          },
          "execution_count": 72,
          "metadata": {},
          "output_type": "execute_result"
        }
      ],
      "source": [
        "[idx_token_tgt[i] for i in word_aligner.translation_probs[t_idx_src['on']].argsort()[-3:]]"
      ]
    },
    {
      "cell_type": "markdown",
      "metadata": {
        "id": "RVBqnxy658wK",
        "pycharm": {
          "name": "#%% md\n"
        }
      },
      "source": [
        "**Задание 3. (0.5 балла)** Мы смогли получить матрицу условных вероятностей перевода исходного языка в целевой. Можно ли, пользуясь этой матрицей и ещё какими-то статистиками по параллельному корпусу, получить вероятности перевода целевого языка в исходный? Реализуйте такой метод и приведите ниже пример его работы, показав пару удачных переводов."
      ]
    },
    {
      "cell_type": "code",
      "execution_count": 151,
      "metadata": {},
      "outputs": [],
      "source": [
        "stokens = np.concatenate([ts.source_tokens for ts in tokenized_sentences])\n",
        "ttokens = np.concatenate([ts.target_tokens for ts in tokenized_sentences])"
      ]
    },
    {
      "cell_type": "code",
      "execution_count": 152,
      "metadata": {},
      "outputs": [],
      "source": [
        "scount = np.bincount(stokens, minlength = len(t_idx_src))\n",
        "tcount = np.bincount(ttokens, minlength = len(t_idx_tgt))"
      ]
    },
    {
      "cell_type": "code",
      "execution_count": 153,
      "metadata": {},
      "outputs": [],
      "source": [
        "spr = scount / scount.sum()\n",
        "tpr = tcount / tcount.sum()"
      ]
    },
    {
      "cell_type": "code",
      "execution_count": 154,
      "metadata": {},
      "outputs": [],
      "source": [
        "pr = (word_aligner.translation_probs * spr[:, np.newaxis]) / np.where(tpr > 0, tpr, 1)"
      ]
    },
    {
      "cell_type": "code",
      "execution_count": 155,
      "metadata": {},
      "outputs": [],
      "source": [
        "idx_token_src = {index: token for token, index in t_idx_src.items()}"
      ]
    },
    {
      "cell_type": "code",
      "execution_count": 87,
      "metadata": {},
      "outputs": [
        {
          "data": {
            "text/plain": [
              "['Mann', 'lady', 'Mrs']"
            ]
          },
          "execution_count": 87,
          "metadata": {},
          "output_type": "execute_result"
        }
      ],
      "source": [
        "[idx_token_src[i] for i in pr[:,t_idx_tgt['paní']].argsort()[-3:]]"
      ]
    },
    {
      "cell_type": "code",
      "execution_count": 86,
      "metadata": {},
      "outputs": [
        {
          "data": {
            "text/plain": [
              "['organist', 'schoolmaster', 'Mr']"
            ]
          },
          "execution_count": 86,
          "metadata": {},
          "output_type": "execute_result"
        }
      ],
      "source": [
        "[idx_token_src[i] for i in pr[:,t_idx_tgt['pan']].argsort()[-3:]]"
      ]
    },
    {
      "cell_type": "code",
      "execution_count": 82,
      "metadata": {},
      "outputs": [
        {
          "data": {
            "text/plain": [
              "['volume', 'reimmersion', 'water']"
            ]
          },
          "execution_count": 82,
          "metadata": {},
          "output_type": "execute_result"
        }
      ],
      "source": [
        "[idx_token_src[i] for i in pr[:,t_idx_tgt['vody']].argsort()[-3:]]"
      ]
    },
    {
      "cell_type": "markdown",
      "metadata": {
        "id": "YoYQULa958wd",
        "pycharm": {
          "name": "#%% md\n"
        }
      },
      "source": [
        "**Задание 4. (0.5 балла)** Визуализируйте полученные выравнивания для нескольких предложений в виде heatmap: по одной из осей располагаются токены исходного текста, по другой — токены его перевода, на пересечении позиций $i$ и $j$ — 0 либо 1 в зависимости от того, является ли в обученной модели $a_i$ равным $j$. Можете ли вы их проинтерпретировать? Постройте аналогичный график, но без дискретизации, а визуализируя напрямую апостериорное распределение. Можете ли вы найти ситуации, в которых модель не уверена, переводом какого слова является слово $i$?"
      ]
    },
    {
      "cell_type": "markdown",
      "metadata": {},
      "source": [
        "## Alignment"
      ]
    },
    {
      "cell_type": "code",
      "execution_count": 241,
      "metadata": {},
      "outputs": [],
      "source": [
        "sent = all_sentences[100]\n",
        "ns = len(sent.source)\n",
        "nt = len(sent.target)"
      ]
    },
    {
      "cell_type": "code",
      "execution_count": 236,
      "metadata": {},
      "outputs": [],
      "source": [
        "aligned_pairs = np.array(word_aligner.align([tokenize_sents([sent], t_idx_src, t_idx_tgt)[0]])[0]) - 1"
      ]
    },
    {
      "cell_type": "code",
      "execution_count": 237,
      "metadata": {},
      "outputs": [],
      "source": [
        "matrix = np.zeros(ns, nt)\n",
        "for x, y in aligned_pairs:\n",
        "    matrix[x, y] = 1"
      ]
    },
    {
      "cell_type": "code",
      "execution_count": 240,
      "metadata": {},
      "outputs": [
        {
          "data": {
            "image/png": "[encoded data removed]",
            "text/plain": [
              "<Figure size 1000x600 with 2 Axes>"
            ]
          },
          "metadata": {},
          "output_type": "display_data"
        }
      ],
      "source": [
        "plt.figure(figsize = (10, 6))\n",
        "sns.heatmap(matrix, cmap = 'RdPu', annot = True, xticklabels = sent.target, yticklabels = sent.source)\n",
        "plt.title('Alignment')\n",
        "plt.xticks(rotation = 45, ha = \"right\")\n",
        "plt.show()"
      ]
    },
    {
      "cell_type": "code",
      "execution_count": 242,
      "metadata": {},
      "outputs": [],
      "source": [
        "tsent = tokenize_sents([sent], t_idx_src, t_idx_tgt)[0]"
      ]
    },
    {
      "cell_type": "markdown",
      "metadata": {},
      "source": [
        "## Posterior Probabilities"
      ]
    },
    {
      "cell_type": "code",
      "execution_count": 251,
      "metadata": {},
      "outputs": [],
      "source": [
        "matrix = word_aligner.translation_probs[np.ix_(tsent.source_tokens, tsent.target_tokens)]"
      ]
    },
    {
      "cell_type": "code",
      "execution_count": 252,
      "metadata": {},
      "outputs": [],
      "source": [
        "matrix = np.divide(matrix, matrix.sum(axis = 0, keepdims = True))\n",
        "matrix = np.round(matrix, 2)"
      ]
    },
    {
      "cell_type": "code",
      "execution_count": 253,
      "metadata": {},
      "outputs": [
        {
          "data": {
            "image/png": "[encoded data removed]",
            "text/plain": [
              "<Figure size 1000x600 with 2 Axes>"
            ]
          },
          "metadata": {},
          "output_type": "display_data"
        }
      ],
      "source": [
        "plt.figure(figsize = (10, 6))\n",
        "sns.heatmap(matrix, cmap = 'RdPu', annot = True, xticklabels = sent.target, yticklabels = sent.source)\n",
        "plt.title('Posterior Probabilities')\n",
        "plt.xticks(rotation = 45)\n",
        "plt.show()"
      ]
    },
    {
      "cell_type": "markdown",
      "metadata": {
        "id": "0wW9Ozij58we",
        "pycharm": {
          "name": "#%% md\n"
        }
      },
      "source": [
        "Заметим, что при задании модели мы сделали довольно сильное предположение о том, что вероятности выбора слова для выравнивания никак не зависят от позиции слова в целевом предложении. Можно сделать эти вероятности настраиваемыми параметрами, получив прямоугольную матрицу $\\phi_{m,n}(j|i)=p(a_i=j|m,n)$ для каждой пары длин предложений $m,n$: по-прежнему мы получаем распределение над индексами в исходном предложении. Тогда модель приобретает вид\n",
        "$$\n",
        "p(A,T|S)=\\prod_{i=1}^m p(a_i|m,n)p(t_i| a_i, S)=\\prod_{i=1}^m \\phi_{m,n}(a_i|i)\\theta(t_i|s_{a_i}).\n",
        "$$"
      ]
    },
    {
      "cell_type": "markdown",
      "metadata": {
        "id": "13cj9RiV58wf",
        "pycharm": {
          "name": "#%% md\n"
        }
      },
      "source": [
        "**Задание 6. (2 балла)** Реализуйте все методы класса `WordPositionAligner`, протестируйте их корректность через Яндекс.Контест. Обучите модель, оцените её качество на истинной разметке и сравните его с качеством предыдущей более простой модели. Проиллюстрируйте влияние стартовых параметров на результат, проинициализировав эту модель параметрами модели из задания 2 (важно, чтобы суммарное число эпох обучения в обоих сценариях оставалось тем же)."
      ]
    },
    {
      "cell_type": "markdown",
      "metadata": {
        "id": "xLLv_-KY58wf",
        "pycharm": {
          "name": "#%% md\n"
        }
      },
      "source": [
        "**Задание 7. (1 балл)** В предыдущих пунктах мы никак не заостряли внимание на предобработке текстов, что может негативно влиять на результаты обученной модели. Например, сейчас метод выравнивания учитывает регистр, а слова на чешском языке вдобавок обладают богатой морфологией и большим количеством диакритических знаков. Если сократить количество параметров модели (различных слов), можно ускорить обучение и добиться лучших результатов, потому что статистики по словам будут считаться по большему числу параллельных предложений.\n",
        "\n",
        "Примените к исходным данным [Unicode-нормализацию](https://en.wikipedia.org/wiki/Unicode_equivalence#Normalization), приведите их к нижнему регистру и обучите модель выравнивания заново. Сравните качество и скорость обучения с предыдущими результатами и сделайте выводы. Если вы найдете в данных ещё какие-то проблемы, которые можно исправить более грамотной предобработкой, также продемонстрируйте, как их решение влияет на качество.\n",
        "\n",
        "**Важно:** здесь и далее в процессе обработки данных у вас может получаться, что из тестовых данных будут удалены предложения из-за отсутствия слов в словаре. Если такое всё же произошло, для корректности сравнения считайте AER вашей модели на удалённых предложениях равным 1."
      ]
    },
    {
      "cell_type": "code",
      "execution_count": 131,
      "metadata": {
        "id": "nIXhoVD_58wg",
        "pycharm": {
          "name": "#%%\n"
        }
      },
      "outputs": [],
      "source": [
        "import unicodedata\n",
        "normalized_sentences = []\n",
        "for pair in all_sentences:\n",
        "    normalized_source = [unicodedata.normalize('NFC', word).lower() for word in pair.source]\n",
        "    normalized_target = [unicodedata.normalize('NFC', word).lower() for word in pair.target]\n",
        "    normalized_pair = SentencePair(source = normalized_source, target = normalized_target)\n",
        "    normalized_sentences.append(normalized_pair)"
      ]
    },
    {
      "cell_type": "code",
      "execution_count": 134,
      "metadata": {},
      "outputs": [],
      "source": [
        "t_idx_src, t_idx_tgt = get_token_to_index(normalized_sentences)\n",
        "tokenized_sentences = tokenize_sents(normalized_sentences, t_idx_src, t_idx_tgt)"
      ]
    },
    {
      "cell_type": "code",
      "execution_count": 135,
      "metadata": {},
      "outputs": [
        {
          "data": {
            "text/plain": [
              "[-911214.0528643727,\n",
              " -695792.579489708,\n",
              " -655695.8742742538,\n",
              " -636558.1404622346,\n",
              " -626685.2610694617,\n",
              " -621205.0923969895,\n",
              " -617939.104762964,\n",
              " -615873.9346560985,\n",
              " -614505.7477876246,\n",
              " -613565.1284689307,\n",
              " -612898.3463729471,\n",
              " -612413.0806851313,\n",
              " -612051.6551733166,\n",
              " -611776.8784887493,\n",
              " -611564.0848408788,\n",
              " -611396.5471099019,\n",
              " -611262.6556307003,\n",
              " -611154.2254017368,\n",
              " -611065.368730858,\n",
              " -610991.7916338444]"
            ]
          },
          "execution_count": 135,
          "metadata": {},
          "output_type": "execute_result"
        }
      ],
      "source": [
        "from models import WordAligner\n",
        "\n",
        "word_aligner = WordAligner(len(t_idx_src), len(t_idx_tgt), 20)\n",
        "word_aligner.fit(tokenized_sentences)"
      ]
    },
    {
      "cell_type": "code",
      "execution_count": 136,
      "metadata": {},
      "outputs": [
        {
          "data": {
            "text/plain": [
              "0.8328621597486663"
            ]
          },
          "execution_count": 136,
          "metadata": {},
          "output_type": "execute_result"
        }
      ],
      "source": [
        "compute_aer(all_targets,baseline.align(tokenized_sentences))"
      ]
    }
  ],
  "metadata": {
    "colab": {
      "provenance": []
    },
    "kernelspec": {
      "display_name": "Python 3 (ipykernel)",
      "language": "python",
      "name": "python3"
    },
    "language_info": {
      "codemirror_mode": {
        "name": "ipython",
        "version": 3
      },
      "file_extension": ".py",
      "mimetype": "text/x-python",
      "name": "python",
      "nbconvert_exporter": "python",
      "pygments_lexer": "ipython3",
      "version": "3.10.5"
    }
  },
  "nbformat": 4,
  "nbformat_minor": 0
}
