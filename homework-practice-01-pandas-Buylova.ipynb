{
  "cells": [
    {
      "cell_type": "markdown",
      "metadata": {
        "id": "HcF9My_FhLuk"
      },
      "source": [
        "## Машинное обучение 1, ПМИ ФКН ВШЭ\n",
        "\n",
        "## Практическое домашнее задание 1\n",
        "\n",
        "### Общая информация\n",
        "\n",
        "Дата выдачи: 09.09.2022\n",
        "\n",
        "Мягкий дедлайн: 23:59MSK 22.09.2022\n",
        "\n",
        "Жесткий дедлайн: 23:59MSK 29.09.2022"
      ]
    },
    {
      "cell_type": "markdown",
      "metadata": {
        "id": "G64TptyJhLuo"
      },
      "source": [
        "### О задании\n",
        "\n",
        "Задание состоит из двух разделов, посвященных работе с табличными данными с помощью библиотеки pandas и визуализации с помощью matplotlib. В первом разделе вам предстоит выполнить базовые задания с помощью вышеуказанных библиотек, а во втором распределить студентов по курсам. Баллы даются за выполнение отдельных пунктов. Задачи в рамках одного раздела рекомендуется решать в том порядке, в котором они даны в задании.\n",
        "\n",
        "Задание направлено на освоение jupyter notebook (будет использоваться в дальнейших заданиях), библиотек pandas и matplotlib.\n",
        "\n",
        "### Оценивание и штрафы\n",
        "Каждая из задач имеет определенную «стоимость» (указана в скобках около задачи). Максимально допустимая оценка за работу — 10 баллов.\n",
        "\n",
        "Сдавать задание после жёсткого дедлайна нельзя. При выставлении неполного балла за задание в связи с наличием ошибок на усмотрение проверяющего предусмотрена возможность исправить работу на указанных в ответном письме условиях.\n",
        "\n",
        "Задание выполняется самостоятельно. «Похожие» решения считаются плагиатом и все задействованные студенты (в том числе те, у кого списали) не могут получить за него больше 0 баллов (подробнее о плагиате см. на странице курса). Если вы нашли решение какого-то из заданий (или его часть) в открытом источнике, необходимо указать ссылку на этот источник (скорее всего вы будете не единственным, кто это нашел, поэтому чтобы исключить подозрение в плагиате, необходима ссылка на источник).\n",
        "\n",
        "### Формат сдачи\n",
        "Задания сдаются через систему Anytask. Инвайт можно получить у семинариста или ассистента. Присылать необходимо ноутбук с выполненным заданием. Сам ноутбук называйте в формате homework-practice-01-pandas-Username.ipynb, где Username — ваша фамилия.\n",
        "\n",
        "Для удобства проверки самостоятельно посчитайте свою максимальную оценку (исходя из набора решенных задач) и укажите ниже.\n",
        "\n",
        "Оценка: xx."
      ]
    },
    {
      "cell_type": "markdown",
      "metadata": {
        "id": "BaXlfHE_hLup"
      },
      "source": [
        "## 0. Введение"
      ]
    },
    {
      "cell_type": "markdown",
      "metadata": {
        "id": "wirAvJNxhLup"
      },
      "source": [
        "Сейчас мы находимся в jupyter-ноутбуке (или ipython-ноутбуке). Это удобная среда для написания кода, проведения экспериментов, изучения данных, построения визуализаций и других нужд, не связанных с написанием production-кода.\n",
        "\n",
        "Ноутбук состоит из ячеек, каждая из которых может быть либо ячейкой с кодом, либо ячейкой с текстом размеченным и неразмеченным. Текст поддерживает markdown-разметку и формулы в Latex.\n",
        "\n",
        "Для работы с содержимым ячейки используется *режим редактирования* (*Edit mode*, включается нажатием клавиши **Enter** после выбора ячейки), а для навигации между ячейками искользуется *командный режим* (*Command mode*, включается нажатием клавиши **Esc**). Тип ячейки можно задать в командном режиме либо с помощью горячих клавиш (**y** to code, **m** to markdown, **r** to edit raw text), либо в меню *Cell -> Cell type*.\n",
        "\n",
        "После заполнения ячейки нужно нажать *Shift + Enter*, эта команда обработает содержимое ячейки: проинтерпретирует код или сверстает размеченный текст."
      ]
    },
    {
      "cell_type": "code",
      "execution_count": 1,
      "metadata": {
        "id": "aQ2_j3nkhLuq",
        "colab": {
          "base_uri": "https://localhost:8080/"
        },
        "outputId": "1ba0a96a-f982-40c2-98d1-198ae17d2d01"
      },
      "outputs": [
        {
          "output_type": "execute_result",
          "data": {
            "text/plain": [
              "4"
            ]
          },
          "metadata": {},
          "execution_count": 1
        }
      ],
      "source": [
        "# ячейка с кодом, при выполнении которой появится output\n",
        "2 + 2"
      ]
    },
    {
      "cell_type": "markdown",
      "metadata": {
        "id": "ZlulCwVKhLur"
      },
      "source": [
        "Ячейка с неразмеченным текстом."
      ]
    },
    {
      "cell_type": "markdown",
      "metadata": {
        "id": "A4wkVlIehLur"
      },
      "source": [
        "Попробуйте создать свои ячейки, написать какой-нибудь код и текст какой-нибудь формулой."
      ]
    },
    {
      "cell_type": "code",
      "execution_count": 2,
      "metadata": {
        "id": "BIuaYSvqhLus"
      },
      "outputs": [],
      "source": [
        "# your code"
      ]
    },
    {
      "cell_type": "markdown",
      "metadata": {
        "id": "iWs6ljrIhLus"
      },
      "source": [
        "[Здесь](https://athena.brynmawr.edu/jupyter/hub/dblank/public/Jupyter%20Notebook%20Users%20Manual.ipynb) находится <s>не</s>большая заметка о используемом языке разметки Markdown. Он позволяет:\n",
        "\n",
        "0. Составлять упорядоченные списки\n",
        "1. Выделять *текст* <s>при</s> **необходимости**\n",
        "2. Добавлять [ссылки](http://imgs.xkcd.com/comics/the_universal_label.png)\n",
        "\n",
        "\n",
        "* Составлять неупорядоченные списки\n",
        "\n",
        "Делать вставки с помощью LaTex:\n",
        "    \n",
        "$\n",
        "\\left\\{\n",
        "\\begin{array}{ll}\n",
        "x = 16 \\sin^3 (t) \\\\\n",
        "y = 13 \\cos (t) - 5 \\cos (2t) - 2 \\cos (3t) - \\cos (4t) \\\\\n",
        "t \\in [0, 2 \\pi]\n",
        "\\end{array}\n",
        "\\right.$"
      ]
    },
    {
      "cell_type": "markdown",
      "metadata": {
        "id": "6fmTGcXOhLus"
      },
      "source": [
        "А ещё можно вставлять картинки, или гифки, или что захотите:\n",
        "\n",
        "<img src=\"https://media1.tenor.com/images/9b8fbe9214504bcf6c60fe4e4f7e114e/tenor.gif?itemid=5416416\" style=\"width: 400px\">"
      ]
    },
    {
      "cell_type": "markdown",
      "metadata": {
        "id": "J_toGw7DhLut"
      },
      "source": [
        "### Google Colab"
      ]
    },
    {
      "cell_type": "markdown",
      "metadata": {
        "id": "jpkbCVjGhLut"
      },
      "source": [
        "Что за колаб?\n",
        "\n",
        "**Google Colab (Colaboratory)** это **Jupyter Notebook + Cloud + Google Drive.**\n",
        "\n",
        "Компания Google предоставляет возможность бесплатно запускать ноутбуки (предварительно загрузив их на свой гугл-диск) прямо в облаке. При этом вам не требуется установка никаких пакетов на свою машину, а работать можно прямиком из браузера. Вот ссылка:"
      ]
    },
    {
      "cell_type": "markdown",
      "metadata": {
        "id": "06MQog3yhLut"
      },
      "source": [
        "https://colab.research.google.com"
      ]
    },
    {
      "cell_type": "markdown",
      "metadata": {
        "id": "5_hfWXKPhLut"
      },
      "source": [
        "При использовании вы увидете много сходств с jupyter ноутбуком. Одним из преимуществ является доступность GPU, соответствующую опцию можно активировать в настройках сервиса. При желании вы сможете найти в интернете много туториалов по использованию или разобраться самостоятельно =)"
      ]
    },
    {
      "cell_type": "markdown",
      "metadata": {
        "id": "sUe2vnFGhLuu"
      },
      "source": [
        "## 1. Табличные данные и Pandas"
      ]
    },
    {
      "cell_type": "markdown",
      "metadata": {
        "id": "DJQzjjqJhLuu"
      },
      "source": [
        "Pandas — удобная библиотека для работы с табличными данными в Python, если данных не слишком много и они помещаются в оперативную память вашего компьютера. Несмотря на неэффективность реализации и некоторые проблемы, библиотека стала стандартом в анализе данных.\n",
        "\n",
        "Основной объект в pandas — это DataFrame, представляющий собой таблицу с именованными колонками различных типов, индексом (может быть многоуровневым). DataFrame можно создавать, считывая таблицу из файла или задавая вручную из других объектов.\n",
        "\n",
        "В этой части потребуется выполнить несколько небольших заданий. Можно пойти двумя путями: сначала изучить материалы, а потом приступить к заданиям, или же разбираться \"по ходу\". Выбирайте сами.\n",
        "\n",
        "Материалы:\n",
        "1. [Pandas за 10 минут из официального руководства](http://pandas.pydata.org/pandas-docs/stable/10min.html)\n",
        "2. [Документация](http://pandas.pydata.org/pandas-docs/stable/index.html) (стоит обращаться, если не понятно, как вызывать конкретный метод)\n",
        "3. [Примеры использования функционала](http://nbviewer.jupyter.org/github/justmarkham/pandas-videos/blob/master/pandas.ipynb)\n",
        "\n",
        "Многие из заданий можно выполнить несколькими способами. Не существуют единственно верного, но попробуйте максимально задействовать арсенал pandas и ориентируйтесь на простоту и понятность вашего кода. Мы не будем подсказывать, что нужно использовать для решения конкретной задачи, попробуйте находить необходимый функционал сами (название метода чаще всего очевидно). В помощь вам документация, поиск и stackoverflow."
      ]
    },
    {
      "cell_type": "code",
      "execution_count": 3,
      "metadata": {
        "colab": {
          "base_uri": "https://localhost:8080/"
        },
        "id": "26zbFY25hLuv",
        "outputId": "c7bf8ba2-e51b-4865-bbb1-382d29531cee"
      },
      "outputs": [
        {
          "output_type": "stream",
          "name": "stdout",
          "text": [
            "Populating the interactive namespace from numpy and matplotlib\n"
          ]
        }
      ],
      "source": [
        "%pylab inline\n",
        "import pandas as pd"
      ]
    },
    {
      "cell_type": "markdown",
      "metadata": {
        "id": "vTWllcpfIR0N"
      },
      "source": [
        "<span style=\"color:red\">Перед выполнением задания необходимо ознакомиться с первым семинаром (seminars/sem01-pandas.ipynb) </span>.\n",
        "\n",
        "Это поможет вам получить общее понимание происходяшего и успешнее справиться с заданием.\n",
        "\n",
        "Также успешному выполнению способствует внимательное чтение текста задания от начала до конца.\n",
        "\n",
        "Удачи!"
      ]
    },
    {
      "cell_type": "markdown",
      "metadata": {
        "id": "dneJl9TyhLuv"
      },
      "source": [
        "Скачаем подготовленные на семинаре данные:"
      ]
    },
    {
      "cell_type": "code",
      "execution_count": 4,
      "metadata": {
        "id": "rj_I0RslhLuw"
      },
      "outputs": [],
      "source": [
        "!wget  -O 'end_seminar.xlsx' -q 'https://www.dropbox.com/s/f4rm8sjc3v99p0m/_end_seminar.xlsx?dl=0'"
      ]
    },
    {
      "cell_type": "markdown",
      "metadata": {
        "id": "5hp7bn_ThLuw"
      },
      "source": [
        "Для пользователей Windows: скачайте файл самостоятельно и поместите его в папку с тетрадкой. Или попробуйте один из следующих вариантов:"
      ]
    },
    {
      "cell_type": "code",
      "execution_count": 5,
      "metadata": {
        "id": "4h4_BaX8hLuw"
      },
      "outputs": [],
      "source": [
        "# !powershell iwr -outf somefile https://somesite/somefile"
      ]
    },
    {
      "cell_type": "code",
      "execution_count": 6,
      "metadata": {
        "id": "7bHroLGChLuw"
      },
      "outputs": [],
      "source": [
        "# !pip install wget\n",
        "# import wget\n",
        "# wget.download('https://dropbox.com/s/f4rm8sjc3v99p0m/_end_seminar.xlsx?dl=1', 'end_seminar.xlsx')"
      ]
    },
    {
      "cell_type": "markdown",
      "metadata": {
        "id": "VFs_6IythLux"
      },
      "source": [
        "##### В первой части задания (до раздела \"Распределение студентов по курсам\") использование циклов запрещается и повлечет за собой снижение оценки. Использование <code>vectorize</code> и  <code>apply</code>, <code>apply_along_axis</code> крайне нежелательно."
      ]
    },
    {
      "cell_type": "markdown",
      "metadata": {
        "id": "shFkfJkohLux"
      },
      "source": [
        "Для каждой задачи из этого раздела вы должны написать код для получения ответа, а также дать текстовый ответ, если он предполагается.\n",
        "\n",
        "На некоторые вопросы вы можете получить путём пристального взгляда на таблицу, но это не будет засчитываться. Вы в любом случае должны получить ответ с помощью кода."
      ]
    },
    {
      "cell_type": "markdown",
      "metadata": {
        "id": "gDD85M7bhLux"
      },
      "source": [
        "#### 1. [0 баллов] Откройте файл с таблицей (не забудьте про её формат). Выведите последние 10 строк.\n",
        "\n",
        "Посмотрите на данные и скажите, что они из себя представляют, сколько в таблице строк, какие столбцы? (на это не надо отвечать, просто подумайте об этом)"
      ]
    },
    {
      "cell_type": "code",
      "execution_count": 7,
      "metadata": {
        "colab": {
          "base_uri": "https://localhost:8080/",
          "height": 838
        },
        "id": "PKulur3LhLuy",
        "outputId": "63aaa9b1-67cd-4ddc-c93c-c1ac8452e25f"
      },
      "outputs": [
        {
          "output_type": "execute_result",
          "data": {
            "text/plain": [
              "                  timestamp                                id  rating  \\\n",
              "351 2020-05-18 23:58:33.903  8fe79f84f36e3a5d2d6745621321302c    1016   \n",
              "352 2020-05-18 23:59:20.831  f93afd8e92c336b471aa3bbbc579aefe    1298   \n",
              "353 2020-05-18 23:59:28.998  9963fc00d9405a35b894cc04a7e19855    1135   \n",
              "354 2020-05-19 08:55:39.509  98c5a2548d93f26bd4195466e93178b3    1035   \n",
              "355 2020-05-19 18:58:06.283  ba298cbd9be59b84bab33325e956f27e    1155   \n",
              "356 2020-05-19 19:04:17.873  c5870b37ee3f672e4259dfb2fc02ed8f    1029   \n",
              "357 2020-05-19 20:19:25.815  f44aea1095f9f5b8e2f5f0ed2b17891b    1060   \n",
              "358 2020-05-20 11:54:38.318  d7118b44c7e8fdbbaaca226d2da6fef1    1111   \n",
              "359 2020-05-23 21:16:40.916  79d14db48e4737af731960ae212d5134     966   \n",
              "360 2020-05-23 21:16:40.916  f2d210ace25a841e1e58036b257d5d47    1195   \n",
              "\n",
              "     18_group  is_mi                                           fall_1  \\\n",
              "351       NaN    NaN                 Безопасность компьютерных систем   \n",
              "352       NaN    NaN                Высокопроизводительные вычисления   \n",
              "353       NaN    NaN                 Безопасность компьютерных систем   \n",
              "354       NaN    NaN            Байесовские методы машинного обучения   \n",
              "355       NaN    NaN  Сбор и обработка данных с помощью краудсорсинга   \n",
              "356       NaN    NaN                      Statistical Learning Theory   \n",
              "357       NaN    NaN                Анализ неструктурированных данных   \n",
              "358       NaN    NaN  Сбор и обработка данных с помощью краудсорсинга   \n",
              "359       NaN    NaN                 Безопасность компьютерных систем   \n",
              "360       NaN    NaN                Анализ неструктурированных данных   \n",
              "\n",
              "                                                fall_2  \\\n",
              "351                  Высокопроизводительные вычисления   \n",
              "352    Сбор и обработка данных с помощью краудсорсинга   \n",
              "353                  Высокопроизводительные вычисления   \n",
              "354               Глубинное обучение в обработке звука   \n",
              "355              Байесовские методы машинного обучения   \n",
              "356                  Анализ неструктурированных данных   \n",
              "357                  Высокопроизводительные вычисления   \n",
              "358                        Statistical Learning Theory   \n",
              "359  Принятие решений в условиях риска и неопределё...   \n",
              "360                      Моделирование временных рядов   \n",
              "\n",
              "                                              fall_3  \\\n",
              "351  Сбор и обработка данных с помощью краудсорсинга   \n",
              "352                      Statistical Learning Theory   \n",
              "353                 Безопасность компьютерных систем   \n",
              "354                      Statistical Learning Theory   \n",
              "355                Анализ неструктурированных данных   \n",
              "356  Сбор и обработка данных с помощью краудсорсинга   \n",
              "357                    Моделирование временных рядов   \n",
              "358                Анализ неструктурированных данных   \n",
              "359                Анализ неструктурированных данных   \n",
              "360                Высокопроизводительные вычисления   \n",
              "\n",
              "                                              spring_1  \\\n",
              "351                             Конфликты и кооперация   \n",
              "352               Методы сжатия и передачи медиаданных   \n",
              "353  Проектирование и разработка высоконагруженных ...   \n",
              "354                           Обучение с подкреплением   \n",
              "355                             Конфликты и кооперация   \n",
              "356                           Обучение с подкреплением   \n",
              "357                             Конфликты и кооперация   \n",
              "358  Проектирование и разработка высоконагруженных ...   \n",
              "359  Проектирование и разработка высоконагруженных ...   \n",
              "360                           Обучение с подкреплением   \n",
              "\n",
              "                                              spring_2  \\\n",
              "351  Проектирование и разработка высоконагруженных ...   \n",
              "352  Проектирование и разработка высоконагруженных ...   \n",
              "353               Методы сжатия и передачи медиаданных   \n",
              "354            Генеративные модели в машинном обучении   \n",
              "355                           Обучение с подкреплением   \n",
              "356                             Конфликты и кооперация   \n",
              "357                           Обучение с подкреплением   \n",
              "358               Методы сжатия и передачи медиаданных   \n",
              "359               Методы сжатия и передачи медиаданных   \n",
              "360                                Компьютерное зрение   \n",
              "\n",
              "                                 spring_3 is_first_time  percentile  17_group  \\\n",
              "351                 Символьные вычисления            Да    0.942029     174.0   \n",
              "352                Конфликты и кооперация            Да    0.057971     175.0   \n",
              "353                 Символьные вычисления            Да    0.572464     175.0   \n",
              "354  Методы сжатия и передачи медиаданных           Нет    0.905797     171.0   \n",
              "355                   Компьютерное зрение            Да    0.507246     171.0   \n",
              "356                   Компьютерное зрение            Да    0.920290     174.0   \n",
              "357                      Численные методы            Да    0.840580     174.0   \n",
              "358                      Численные методы            Да    0.652174     173.0   \n",
              "359                   Компьютерное зрение            Да    0.985507     172.0   \n",
              "360  Методы сжатия и передачи медиаданных           NaN    0.369565     176.0   \n",
              "\n",
              "                            blended  is_ml_student  \n",
              "351                          DevOps            NaN  \n",
              "352                          DevOps            NaN  \n",
              "353                          DevOps            NaN  \n",
              "354                          DevOps            NaN  \n",
              "355  Соревновательный анализ данных            NaN  \n",
              "356                          DevOps            NaN  \n",
              "357                          DevOps            NaN  \n",
              "358  Соревновательный анализ данных            NaN  \n",
              "359                          DevOps            NaN  \n",
              "360  Соревновательный анализ данных            NaN  "
            ],
            "text/html": [
              "\n",
              "  <div id=\"df-589e09a1-bd60-4fec-bd6d-199b3b376a12\" class=\"colab-df-container\">\n",
              "    <div>\n",
              "<style scoped>\n",
              "    .dataframe tbody tr th:only-of-type {\n",
              "        vertical-align: middle;\n",
              "    }\n",
              "\n",
              "    .dataframe tbody tr th {\n",
              "        vertical-align: top;\n",
              "    }\n",
              "\n",
              "    .dataframe thead th {\n",
              "        text-align: right;\n",
              "    }\n",
              "</style>\n",
              "<table border=\"1\" class=\"dataframe\">\n",
              "  <thead>\n",
              "    <tr style=\"text-align: right;\">\n",
              "      <th></th>\n",
              "      <th>timestamp</th>\n",
              "      <th>id</th>\n",
              "      <th>rating</th>\n",
              "      <th>18_group</th>\n",
              "      <th>is_mi</th>\n",
              "      <th>fall_1</th>\n",
              "      <th>fall_2</th>\n",
              "      <th>fall_3</th>\n",
              "      <th>spring_1</th>\n",
              "      <th>spring_2</th>\n",
              "      <th>spring_3</th>\n",
              "      <th>is_first_time</th>\n",
              "      <th>percentile</th>\n",
              "      <th>17_group</th>\n",
              "      <th>blended</th>\n",
              "      <th>is_ml_student</th>\n",
              "    </tr>\n",
              "  </thead>\n",
              "  <tbody>\n",
              "    <tr>\n",
              "      <th>351</th>\n",
              "      <td>2020-05-18 23:58:33.903</td>\n",
              "      <td>8fe79f84f36e3a5d2d6745621321302c</td>\n",
              "      <td>1016</td>\n",
              "      <td>NaN</td>\n",
              "      <td>NaN</td>\n",
              "      <td>Безопасность компьютерных систем</td>\n",
              "      <td>Высокопроизводительные вычисления</td>\n",
              "      <td>Сбор и обработка данных с помощью краудсорсинга</td>\n",
              "      <td>Конфликты и кооперация</td>\n",
              "      <td>Проектирование и разработка высоконагруженных ...</td>\n",
              "      <td>Символьные вычисления</td>\n",
              "      <td>Да</td>\n",
              "      <td>0.942029</td>\n",
              "      <td>174.0</td>\n",
              "      <td>DevOps</td>\n",
              "      <td>NaN</td>\n",
              "    </tr>\n",
              "    <tr>\n",
              "      <th>352</th>\n",
              "      <td>2020-05-18 23:59:20.831</td>\n",
              "      <td>f93afd8e92c336b471aa3bbbc579aefe</td>\n",
              "      <td>1298</td>\n",
              "      <td>NaN</td>\n",
              "      <td>NaN</td>\n",
              "      <td>Высокопроизводительные вычисления</td>\n",
              "      <td>Сбор и обработка данных с помощью краудсорсинга</td>\n",
              "      <td>Statistical Learning Theory</td>\n",
              "      <td>Методы сжатия и передачи медиаданных</td>\n",
              "      <td>Проектирование и разработка высоконагруженных ...</td>\n",
              "      <td>Конфликты и кооперация</td>\n",
              "      <td>Да</td>\n",
              "      <td>0.057971</td>\n",
              "      <td>175.0</td>\n",
              "      <td>DevOps</td>\n",
              "      <td>NaN</td>\n",
              "    </tr>\n",
              "    <tr>\n",
              "      <th>353</th>\n",
              "      <td>2020-05-18 23:59:28.998</td>\n",
              "      <td>9963fc00d9405a35b894cc04a7e19855</td>\n",
              "      <td>1135</td>\n",
              "      <td>NaN</td>\n",
              "      <td>NaN</td>\n",
              "      <td>Безопасность компьютерных систем</td>\n",
              "      <td>Высокопроизводительные вычисления</td>\n",
              "      <td>Безопасность компьютерных систем</td>\n",
              "      <td>Проектирование и разработка высоконагруженных ...</td>\n",
              "      <td>Методы сжатия и передачи медиаданных</td>\n",
              "      <td>Символьные вычисления</td>\n",
              "      <td>Да</td>\n",
              "      <td>0.572464</td>\n",
              "      <td>175.0</td>\n",
              "      <td>DevOps</td>\n",
              "      <td>NaN</td>\n",
              "    </tr>\n",
              "    <tr>\n",
              "      <th>354</th>\n",
              "      <td>2020-05-19 08:55:39.509</td>\n",
              "      <td>98c5a2548d93f26bd4195466e93178b3</td>\n",
              "      <td>1035</td>\n",
              "      <td>NaN</td>\n",
              "      <td>NaN</td>\n",
              "      <td>Байесовские методы машинного обучения</td>\n",
              "      <td>Глубинное обучение в обработке звука</td>\n",
              "      <td>Statistical Learning Theory</td>\n",
              "      <td>Обучение с подкреплением</td>\n",
              "      <td>Генеративные модели в машинном обучении</td>\n",
              "      <td>Методы сжатия и передачи медиаданных</td>\n",
              "      <td>Нет</td>\n",
              "      <td>0.905797</td>\n",
              "      <td>171.0</td>\n",
              "      <td>DevOps</td>\n",
              "      <td>NaN</td>\n",
              "    </tr>\n",
              "    <tr>\n",
              "      <th>355</th>\n",
              "      <td>2020-05-19 18:58:06.283</td>\n",
              "      <td>ba298cbd9be59b84bab33325e956f27e</td>\n",
              "      <td>1155</td>\n",
              "      <td>NaN</td>\n",
              "      <td>NaN</td>\n",
              "      <td>Сбор и обработка данных с помощью краудсорсинга</td>\n",
              "      <td>Байесовские методы машинного обучения</td>\n",
              "      <td>Анализ неструктурированных данных</td>\n",
              "      <td>Конфликты и кооперация</td>\n",
              "      <td>Обучение с подкреплением</td>\n",
              "      <td>Компьютерное зрение</td>\n",
              "      <td>Да</td>\n",
              "      <td>0.507246</td>\n",
              "      <td>171.0</td>\n",
              "      <td>Соревновательный анализ данных</td>\n",
              "      <td>NaN</td>\n",
              "    </tr>\n",
              "    <tr>\n",
              "      <th>356</th>\n",
              "      <td>2020-05-19 19:04:17.873</td>\n",
              "      <td>c5870b37ee3f672e4259dfb2fc02ed8f</td>\n",
              "      <td>1029</td>\n",
              "      <td>NaN</td>\n",
              "      <td>NaN</td>\n",
              "      <td>Statistical Learning Theory</td>\n",
              "      <td>Анализ неструктурированных данных</td>\n",
              "      <td>Сбор и обработка данных с помощью краудсорсинга</td>\n",
              "      <td>Обучение с подкреплением</td>\n",
              "      <td>Конфликты и кооперация</td>\n",
              "      <td>Компьютерное зрение</td>\n",
              "      <td>Да</td>\n",
              "      <td>0.920290</td>\n",
              "      <td>174.0</td>\n",
              "      <td>DevOps</td>\n",
              "      <td>NaN</td>\n",
              "    </tr>\n",
              "    <tr>\n",
              "      <th>357</th>\n",
              "      <td>2020-05-19 20:19:25.815</td>\n",
              "      <td>f44aea1095f9f5b8e2f5f0ed2b17891b</td>\n",
              "      <td>1060</td>\n",
              "      <td>NaN</td>\n",
              "      <td>NaN</td>\n",
              "      <td>Анализ неструктурированных данных</td>\n",
              "      <td>Высокопроизводительные вычисления</td>\n",
              "      <td>Моделирование временных рядов</td>\n",
              "      <td>Конфликты и кооперация</td>\n",
              "      <td>Обучение с подкреплением</td>\n",
              "      <td>Численные методы</td>\n",
              "      <td>Да</td>\n",
              "      <td>0.840580</td>\n",
              "      <td>174.0</td>\n",
              "      <td>DevOps</td>\n",
              "      <td>NaN</td>\n",
              "    </tr>\n",
              "    <tr>\n",
              "      <th>358</th>\n",
              "      <td>2020-05-20 11:54:38.318</td>\n",
              "      <td>d7118b44c7e8fdbbaaca226d2da6fef1</td>\n",
              "      <td>1111</td>\n",
              "      <td>NaN</td>\n",
              "      <td>NaN</td>\n",
              "      <td>Сбор и обработка данных с помощью краудсорсинга</td>\n",
              "      <td>Statistical Learning Theory</td>\n",
              "      <td>Анализ неструктурированных данных</td>\n",
              "      <td>Проектирование и разработка высоконагруженных ...</td>\n",
              "      <td>Методы сжатия и передачи медиаданных</td>\n",
              "      <td>Численные методы</td>\n",
              "      <td>Да</td>\n",
              "      <td>0.652174</td>\n",
              "      <td>173.0</td>\n",
              "      <td>Соревновательный анализ данных</td>\n",
              "      <td>NaN</td>\n",
              "    </tr>\n",
              "    <tr>\n",
              "      <th>359</th>\n",
              "      <td>2020-05-23 21:16:40.916</td>\n",
              "      <td>79d14db48e4737af731960ae212d5134</td>\n",
              "      <td>966</td>\n",
              "      <td>NaN</td>\n",
              "      <td>NaN</td>\n",
              "      <td>Безопасность компьютерных систем</td>\n",
              "      <td>Принятие решений в условиях риска и неопределё...</td>\n",
              "      <td>Анализ неструктурированных данных</td>\n",
              "      <td>Проектирование и разработка высоконагруженных ...</td>\n",
              "      <td>Методы сжатия и передачи медиаданных</td>\n",
              "      <td>Компьютерное зрение</td>\n",
              "      <td>Да</td>\n",
              "      <td>0.985507</td>\n",
              "      <td>172.0</td>\n",
              "      <td>DevOps</td>\n",
              "      <td>NaN</td>\n",
              "    </tr>\n",
              "    <tr>\n",
              "      <th>360</th>\n",
              "      <td>2020-05-23 21:16:40.916</td>\n",
              "      <td>f2d210ace25a841e1e58036b257d5d47</td>\n",
              "      <td>1195</td>\n",
              "      <td>NaN</td>\n",
              "      <td>NaN</td>\n",
              "      <td>Анализ неструктурированных данных</td>\n",
              "      <td>Моделирование временных рядов</td>\n",
              "      <td>Высокопроизводительные вычисления</td>\n",
              "      <td>Обучение с подкреплением</td>\n",
              "      <td>Компьютерное зрение</td>\n",
              "      <td>Методы сжатия и передачи медиаданных</td>\n",
              "      <td>NaN</td>\n",
              "      <td>0.369565</td>\n",
              "      <td>176.0</td>\n",
              "      <td>Соревновательный анализ данных</td>\n",
              "      <td>NaN</td>\n",
              "    </tr>\n",
              "  </tbody>\n",
              "</table>\n",
              "</div>\n",
              "    <div class=\"colab-df-buttons\">\n",
              "\n",
              "  <div class=\"colab-df-container\">\n",
              "    <button class=\"colab-df-convert\" onclick=\"convertToInteractive('df-589e09a1-bd60-4fec-bd6d-199b3b376a12')\"\n",
              "            title=\"Convert this dataframe to an interactive table.\"\n",
              "            style=\"display:none;\">\n",
              "\n",
              "  <svg xmlns=\"http://www.w3.org/2000/svg\" height=\"24px\" viewBox=\"0 -960 960 960\">\n",
              "    <path d=\"M120-120v-720h720v720H120Zm60-500h600v-160H180v160Zm220 220h160v-160H400v160Zm0 220h160v-160H400v160ZM180-400h160v-160H180v160Zm440 0h160v-160H620v160ZM180-180h160v-160H180v160Zm440 0h160v-160H620v160Z\"/>\n",
              "  </svg>\n",
              "    </button>\n",
              "\n",
              "  <style>\n",
              "    .colab-df-container {\n",
              "      display:flex;\n",
              "      gap: 12px;\n",
              "    }\n",
              "\n",
              "    .colab-df-convert {\n",
              "      background-color: #E8F0FE;\n",
              "      border: none;\n",
              "      border-radius: 50%;\n",
              "      cursor: pointer;\n",
              "      display: none;\n",
              "      fill: #1967D2;\n",
              "      height: 32px;\n",
              "      padding: 0 0 0 0;\n",
              "      width: 32px;\n",
              "    }\n",
              "\n",
              "    .colab-df-convert:hover {\n",
              "      background-color: #E2EBFA;\n",
              "      box-shadow: 0px 1px 2px rgba(60, 64, 67, 0.3), 0px 1px 3px 1px rgba(60, 64, 67, 0.15);\n",
              "      fill: #174EA6;\n",
              "    }\n",
              "\n",
              "    .colab-df-buttons div {\n",
              "      margin-bottom: 4px;\n",
              "    }\n",
              "\n",
              "    [theme=dark] .colab-df-convert {\n",
              "      background-color: #3B4455;\n",
              "      fill: #D2E3FC;\n",
              "    }\n",
              "\n",
              "    [theme=dark] .colab-df-convert:hover {\n",
              "      background-color: #434B5C;\n",
              "      box-shadow: 0px 1px 3px 1px rgba(0, 0, 0, 0.15);\n",
              "      filter: drop-shadow(0px 1px 2px rgba(0, 0, 0, 0.3));\n",
              "      fill: #FFFFFF;\n",
              "    }\n",
              "  </style>\n",
              "\n",
              "    <script>\n",
              "      const buttonEl =\n",
              "        document.querySelector('#df-589e09a1-bd60-4fec-bd6d-199b3b376a12 button.colab-df-convert');\n",
              "      buttonEl.style.display =\n",
              "        google.colab.kernel.accessAllowed ? 'block' : 'none';\n",
              "\n",
              "      async function convertToInteractive(key) {\n",
              "        const element = document.querySelector('#df-589e09a1-bd60-4fec-bd6d-199b3b376a12');\n",
              "        const dataTable =\n",
              "          await google.colab.kernel.invokeFunction('convertToInteractive',\n",
              "                                                    [key], {});\n",
              "        if (!dataTable) return;\n",
              "\n",
              "        const docLinkHtml = 'Like what you see? Visit the ' +\n",
              "          '<a target=\"_blank\" href=https://colab.research.google.com/notebooks/data_table.ipynb>data table notebook</a>'\n",
              "          + ' to learn more about interactive tables.';\n",
              "        element.innerHTML = '';\n",
              "        dataTable['output_type'] = 'display_data';\n",
              "        await google.colab.output.renderOutput(dataTable, element);\n",
              "        const docLink = document.createElement('div');\n",
              "        docLink.innerHTML = docLinkHtml;\n",
              "        element.appendChild(docLink);\n",
              "      }\n",
              "    </script>\n",
              "  </div>\n",
              "\n",
              "\n",
              "<div id=\"df-b28808f9-47de-403c-8837-ee5be9cad8b0\">\n",
              "  <button class=\"colab-df-quickchart\" onclick=\"quickchart('df-b28808f9-47de-403c-8837-ee5be9cad8b0')\"\n",
              "            title=\"Suggest charts.\"\n",
              "            style=\"display:none;\">\n",
              "\n",
              "<svg xmlns=\"http://www.w3.org/2000/svg\" height=\"24px\"viewBox=\"0 0 24 24\"\n",
              "     width=\"24px\">\n",
              "    <g>\n",
              "        <path d=\"M19 3H5c-1.1 0-2 .9-2 2v14c0 1.1.9 2 2 2h14c1.1 0 2-.9 2-2V5c0-1.1-.9-2-2-2zM9 17H7v-7h2v7zm4 0h-2V7h2v10zm4 0h-2v-4h2v4z\"/>\n",
              "    </g>\n",
              "</svg>\n",
              "  </button>\n",
              "\n",
              "<style>\n",
              "  .colab-df-quickchart {\n",
              "      --bg-color: #E8F0FE;\n",
              "      --fill-color: #1967D2;\n",
              "      --hover-bg-color: #E2EBFA;\n",
              "      --hover-fill-color: #174EA6;\n",
              "      --disabled-fill-color: #AAA;\n",
              "      --disabled-bg-color: #DDD;\n",
              "  }\n",
              "\n",
              "  [theme=dark] .colab-df-quickchart {\n",
              "      --bg-color: #3B4455;\n",
              "      --fill-color: #D2E3FC;\n",
              "      --hover-bg-color: #434B5C;\n",
              "      --hover-fill-color: #FFFFFF;\n",
              "      --disabled-bg-color: #3B4455;\n",
              "      --disabled-fill-color: #666;\n",
              "  }\n",
              "\n",
              "  .colab-df-quickchart {\n",
              "    background-color: var(--bg-color);\n",
              "    border: none;\n",
              "    border-radius: 50%;\n",
              "    cursor: pointer;\n",
              "    display: none;\n",
              "    fill: var(--fill-color);\n",
              "    height: 32px;\n",
              "    padding: 0;\n",
              "    width: 32px;\n",
              "  }\n",
              "\n",
              "  .colab-df-quickchart:hover {\n",
              "    background-color: var(--hover-bg-color);\n",
              "    box-shadow: 0 1px 2px rgba(60, 64, 67, 0.3), 0 1px 3px 1px rgba(60, 64, 67, 0.15);\n",
              "    fill: var(--button-hover-fill-color);\n",
              "  }\n",
              "\n",
              "  .colab-df-quickchart-complete:disabled,\n",
              "  .colab-df-quickchart-complete:disabled:hover {\n",
              "    background-color: var(--disabled-bg-color);\n",
              "    fill: var(--disabled-fill-color);\n",
              "    box-shadow: none;\n",
              "  }\n",
              "\n",
              "  .colab-df-spinner {\n",
              "    border: 2px solid var(--fill-color);\n",
              "    border-color: transparent;\n",
              "    border-bottom-color: var(--fill-color);\n",
              "    animation:\n",
              "      spin 1s steps(1) infinite;\n",
              "  }\n",
              "\n",
              "  @keyframes spin {\n",
              "    0% {\n",
              "      border-color: transparent;\n",
              "      border-bottom-color: var(--fill-color);\n",
              "      border-left-color: var(--fill-color);\n",
              "    }\n",
              "    20% {\n",
              "      border-color: transparent;\n",
              "      border-left-color: var(--fill-color);\n",
              "      border-top-color: var(--fill-color);\n",
              "    }\n",
              "    30% {\n",
              "      border-color: transparent;\n",
              "      border-left-color: var(--fill-color);\n",
              "      border-top-color: var(--fill-color);\n",
              "      border-right-color: var(--fill-color);\n",
              "    }\n",
              "    40% {\n",
              "      border-color: transparent;\n",
              "      border-right-color: var(--fill-color);\n",
              "      border-top-color: var(--fill-color);\n",
              "    }\n",
              "    60% {\n",
              "      border-color: transparent;\n",
              "      border-right-color: var(--fill-color);\n",
              "    }\n",
              "    80% {\n",
              "      border-color: transparent;\n",
              "      border-right-color: var(--fill-color);\n",
              "      border-bottom-color: var(--fill-color);\n",
              "    }\n",
              "    90% {\n",
              "      border-color: transparent;\n",
              "      border-bottom-color: var(--fill-color);\n",
              "    }\n",
              "  }\n",
              "</style>\n",
              "\n",
              "  <script>\n",
              "    async function quickchart(key) {\n",
              "      const quickchartButtonEl =\n",
              "        document.querySelector('#' + key + ' button');\n",
              "      quickchartButtonEl.disabled = true;  // To prevent multiple clicks.\n",
              "      quickchartButtonEl.classList.add('colab-df-spinner');\n",
              "      try {\n",
              "        const charts = await google.colab.kernel.invokeFunction(\n",
              "            'suggestCharts', [key], {});\n",
              "      } catch (error) {\n",
              "        console.error('Error during call to suggestCharts:', error);\n",
              "      }\n",
              "      quickchartButtonEl.classList.remove('colab-df-spinner');\n",
              "      quickchartButtonEl.classList.add('colab-df-quickchart-complete');\n",
              "    }\n",
              "    (() => {\n",
              "      let quickchartButtonEl =\n",
              "        document.querySelector('#df-b28808f9-47de-403c-8837-ee5be9cad8b0 button');\n",
              "      quickchartButtonEl.style.display =\n",
              "        google.colab.kernel.accessAllowed ? 'block' : 'none';\n",
              "    })();\n",
              "  </script>\n",
              "</div>\n",
              "    </div>\n",
              "  </div>\n"
            ]
          },
          "metadata": {},
          "execution_count": 7
        }
      ],
      "source": [
        "data = pd.read_excel('end_seminar.xlsx')\n",
        "data.tail(10)"
      ]
    },
    {
      "cell_type": "markdown",
      "metadata": {
        "id": "jPiMwyqHhLuy"
      },
      "source": [
        "#### 2. [0.5 балла] Есть ли в данных пропуски? В каких колонках? Сколько их в каждой из этих колонок?"
      ]
    },
    {
      "cell_type": "code",
      "execution_count": 8,
      "metadata": {
        "colab": {
          "base_uri": "https://localhost:8080/"
        },
        "id": "edY1RrSOhLuy",
        "outputId": "c0b99d5b-3448-45d8-97f5-a727877afc05"
      },
      "outputs": [
        {
          "output_type": "execute_result",
          "data": {
            "text/plain": [
              "timestamp          0\n",
              "id                 0\n",
              "rating             0\n",
              "18_group         138\n",
              "is_mi            343\n",
              "fall_1             0\n",
              "fall_2             0\n",
              "fall_3             0\n",
              "spring_1           0\n",
              "spring_2           0\n",
              "spring_3           0\n",
              "is_first_time      2\n",
              "percentile         0\n",
              "17_group         223\n",
              "blended          223\n",
              "is_ml_student    304\n",
              "dtype: int64"
            ]
          },
          "metadata": {},
          "execution_count": 8
        }
      ],
      "source": [
        "data.isna().sum()"
      ]
    },
    {
      "cell_type": "markdown",
      "metadata": {
        "id": "B5ORhP2uhLuz"
      },
      "source": [
        "Заполните пропуски пустой строкой для строковых колонок и нулём для числовых (постарайтесь избежать перечисления названий всех столбцов)."
      ]
    },
    {
      "cell_type": "code",
      "execution_count": 9,
      "metadata": {
        "id": "D7FfIkSWMdgx"
      },
      "outputs": [],
      "source": [
        "datatypdict = data.dtypes.to_dict()\n",
        "data[list(filter(lambda k: datatypdict[k] == 'object', datatypdict))] = data[list(filter(lambda k: datatypdict[k] == 'object', datatypdict))]. fillna ('')\n",
        "data[list(filter(lambda k: datatypdict[k] == 'float64', datatypdict))] = data[list(filter(lambda k: datatypdict[k] == 'float64', datatypdict))]. fillna ('0')"
      ]
    },
    {
      "cell_type": "markdown",
      "metadata": {
        "id": "w5ELhkT1hLuz"
      },
      "source": [
        "#### 3. [0.5 балла] Посмотрите повнимательнее на колонку 'is_first_time'.\n",
        "\n",
        "Есть ли в ней ответы \"Нет\"? Сколько их?\n",
        "\n",
        "Если вы найдете повторные обращения студентов, оставьте только самую позднюю версию. В дальнейших заданиях используйте версию данных без повторов.\n",
        "\n",
        "<i>Обращения со значением \"Нет\" в 'is_first_time' могут быть как повторными, так и первичными, поскольку поле заполняли сами студенты.</i>"
      ]
    },
    {
      "cell_type": "code",
      "execution_count": 10,
      "metadata": {
        "colab": {
          "base_uri": "https://localhost:8080/"
        },
        "id": "VEfiNsyQhLuz",
        "outputId": "5b375b86-d834-45b5-9181-cce241856f11"
      },
      "outputs": [
        {
          "output_type": "stream",
          "name": "stdout",
          "text": [
            "Ответов 'нет' 51.\n"
          ]
        }
      ],
      "source": [
        "print(f\"Ответов 'нет' {data.groupby('is_first_time').count()['id'][2]}.\")\n",
        "data = data.drop_duplicates(subset=['id'], keep='last')"
      ]
    },
    {
      "cell_type": "markdown",
      "metadata": {
        "id": "Jhk3tVpVhLuy"
      },
      "source": [
        "#### 4. [0.5 балла] Ответьте на вопросы:\n",
        "1. Сколько было заявок из групп 18-го года набора, а сколько из групп 17-го года?\n",
        "2. Есть ли студенты с равными перцентилями (среди объединенных данных, ведь конкурс на каждый курс общий)?"
      ]
    },
    {
      "cell_type": "code",
      "execution_count": 11,
      "metadata": {
        "colab": {
          "base_uri": "https://localhost:8080/"
        },
        "id": "bsn4vn8RhLuy",
        "outputId": "823b7be9-86af-456c-e1b7-d3d65ff4e894"
      },
      "outputs": [
        {
          "output_type": "stream",
          "name": "stdout",
          "text": [
            "Заявок из групп 17-го года набора 134.\n",
            "Заявок из групп 18-го года набора 213.\n",
            "Студентов с равным перцентилем 2.\n"
          ]
        }
      ],
      "source": [
        "print(f'Заявок из групп 17-го года набора {data[\"18_group\"].value_counts()[\"0\"]}.')\n",
        "print(f'Заявок из групп 18-го года набора {data[\"17_group\"].value_counts()[\"0\"]}.')\n",
        "print(f'Студентов с равным перцентилем {2*len(data[data.duplicated([\"percentile\"])])}.')"
      ]
    },
    {
      "cell_type": "markdown",
      "metadata": {
        "id": "IlzHp3HVhLuz"
      },
      "source": [
        "#### 5. [0.5 балла] Какие  blended-курсы для четверокурсников существуют? На какой blended-курс записалось наибольшее количество студентов? На каком из blended-курсов собрались студенты с самым высоким средним рейтингом (выведите этот курс и количество студентов на нем)?"
      ]
    },
    {
      "cell_type": "code",
      "execution_count": 12,
      "metadata": {
        "colab": {
          "base_uri": "https://localhost:8080/"
        },
        "id": "s1YkyC2SM4Wk",
        "outputId": "d99d9d41-9977-443e-d9cf-eb79b6269e9f"
      },
      "outputs": [
        {
          "output_type": "stream",
          "name": "stdout",
          "text": [
            "Для четверокурсников существуют следующие курсы: DevOps, Введение в дифференциальную геометрию, Соревновательный анализ данных.\n",
            "На курс DevOps записалось наибольшее количество студентов.\n",
            "На курсе Введение в дифференциальную геометрию собрались студенты с самым высоким средним рейтингом. На него записано 15 студентов.\n"
          ]
        }
      ],
      "source": [
        "print(f'Для четверокурсников существуют следующие курсы: {\", \".join(pd.unique(data[\"blended\"])[1:])}.')\n",
        "print(f'На курс {data[data[\"blended\"] != \"\"].blended.mode()[0]} записалось наибольшее количество студентов.')\n",
        "print(f'На курсе {data.groupby(\"blended\").mean(numeric_only=True)[\"rating\"].idxmax()} собрались студенты с самым высоким средним рейтингом. На него записано {data[\"blended\"].value_counts()[data.groupby(\"blended\").mean(numeric_only=True)[\"rating\"].idxmax()]} студентов.')"
      ]
    },
    {
      "cell_type": "markdown",
      "metadata": {
        "id": "IU_FLt8HhLu0"
      },
      "source": [
        "#### 6. [1 балл] Выясните, есть ли студенты с абсолютно одинаковыми предпочтениями по всем курсам.\n",
        "\n",
        "Для этого сформируйте таблицу, где для каждого возможного набора курсов посчитано количество студентов, выбравших такой набор, и оставьте только строки где это количество больше 1.\n",
        "\n",
        "В данном случае набор курсов задается упорядоченным множеством ('fall_1', 'fall_2', 'fall_3', 'spring_1', 'spring_2', 'spring_3', 'blended'). Элемент blended будет нулевым для 3-го курса."
      ]
    },
    {
      "cell_type": "code",
      "execution_count": 13,
      "metadata": {
        "colab": {
          "base_uri": "https://localhost:8080/",
          "height": 408
        },
        "id": "BBDlR1mFhLu0",
        "outputId": "82849bd9-8eb9-41cb-f441-d9b1a98a2044"
      },
      "outputs": [
        {
          "output_type": "execute_result",
          "data": {
            "text/plain": [
              "                                              fall_1  \\\n",
              "184                Высокопроизводительные вычисления   \n",
              "201                Высокопроизводительные вычисления   \n",
              "244                    Моделирование временных рядов   \n",
              "292  Сбор и обработка данных с помощью краудсорсинга   \n",
              "313                                         Язык SQL   \n",
              "\n",
              "                                              fall_2  \\\n",
              "184                 Безопасность компьютерных систем   \n",
              "201  Сбор и обработка данных с помощью краудсорсинга   \n",
              "244  Сбор и обработка данных с помощью краудсорсинга   \n",
              "292                                         Язык SQL   \n",
              "313                Высокопроизводительные вычисления   \n",
              "\n",
              "                                              fall_3  \\\n",
              "184  Сбор и обработка данных с помощью краудсорсинга   \n",
              "201                    Моделирование временных рядов   \n",
              "244                 Безопасность компьютерных систем   \n",
              "292                                Теория баз данных   \n",
              "313                                Теория баз данных   \n",
              "\n",
              "                                              spring_1  \\\n",
              "184  Проектирование и разработка высоконагруженных ...   \n",
              "201  Проектирование и разработка высоконагруженных ...   \n",
              "244                                  Компьютерные сети   \n",
              "292        Промышленное программирование на языке Java   \n",
              "313                                  Компьютерные сети   \n",
              "\n",
              "                                        spring_2  \\\n",
              "184         Методы сжатия и передачи медиаданных   \n",
              "201         Методы сжатия и передачи медиаданных   \n",
              "244   Дополнительные главы прикладной статистики   \n",
              "292                          Машинное обучение 2   \n",
              "313  Промышленное программирование на языке Java   \n",
              "\n",
              "                                 spring_3 blended  occurrences  \n",
              "184                   Компьютерное зрение  DevOps            2  \n",
              "201  Методы сжатия и передачи медиаданных  DevOps            2  \n",
              "244                    Системы баз данных                    2  \n",
              "292                     Компьютерные сети                    2  \n",
              "313                Дискретная оптимизация                    2  "
            ],
            "text/html": [
              "\n",
              "  <div id=\"df-9240f5c6-896f-4fa9-882a-b1176d4a95e1\" class=\"colab-df-container\">\n",
              "    <div>\n",
              "<style scoped>\n",
              "    .dataframe tbody tr th:only-of-type {\n",
              "        vertical-align: middle;\n",
              "    }\n",
              "\n",
              "    .dataframe tbody tr th {\n",
              "        vertical-align: top;\n",
              "    }\n",
              "\n",
              "    .dataframe thead th {\n",
              "        text-align: right;\n",
              "    }\n",
              "</style>\n",
              "<table border=\"1\" class=\"dataframe\">\n",
              "  <thead>\n",
              "    <tr style=\"text-align: right;\">\n",
              "      <th></th>\n",
              "      <th>fall_1</th>\n",
              "      <th>fall_2</th>\n",
              "      <th>fall_3</th>\n",
              "      <th>spring_1</th>\n",
              "      <th>spring_2</th>\n",
              "      <th>spring_3</th>\n",
              "      <th>blended</th>\n",
              "      <th>occurrences</th>\n",
              "    </tr>\n",
              "  </thead>\n",
              "  <tbody>\n",
              "    <tr>\n",
              "      <th>184</th>\n",
              "      <td>Высокопроизводительные вычисления</td>\n",
              "      <td>Безопасность компьютерных систем</td>\n",
              "      <td>Сбор и обработка данных с помощью краудсорсинга</td>\n",
              "      <td>Проектирование и разработка высоконагруженных ...</td>\n",
              "      <td>Методы сжатия и передачи медиаданных</td>\n",
              "      <td>Компьютерное зрение</td>\n",
              "      <td>DevOps</td>\n",
              "      <td>2</td>\n",
              "    </tr>\n",
              "    <tr>\n",
              "      <th>201</th>\n",
              "      <td>Высокопроизводительные вычисления</td>\n",
              "      <td>Сбор и обработка данных с помощью краудсорсинга</td>\n",
              "      <td>Моделирование временных рядов</td>\n",
              "      <td>Проектирование и разработка высоконагруженных ...</td>\n",
              "      <td>Методы сжатия и передачи медиаданных</td>\n",
              "      <td>Методы сжатия и передачи медиаданных</td>\n",
              "      <td>DevOps</td>\n",
              "      <td>2</td>\n",
              "    </tr>\n",
              "    <tr>\n",
              "      <th>244</th>\n",
              "      <td>Моделирование временных рядов</td>\n",
              "      <td>Сбор и обработка данных с помощью краудсорсинга</td>\n",
              "      <td>Безопасность компьютерных систем</td>\n",
              "      <td>Компьютерные сети</td>\n",
              "      <td>Дополнительные главы прикладной статистики</td>\n",
              "      <td>Системы баз данных</td>\n",
              "      <td></td>\n",
              "      <td>2</td>\n",
              "    </tr>\n",
              "    <tr>\n",
              "      <th>292</th>\n",
              "      <td>Сбор и обработка данных с помощью краудсорсинга</td>\n",
              "      <td>Язык SQL</td>\n",
              "      <td>Теория баз данных</td>\n",
              "      <td>Промышленное программирование на языке Java</td>\n",
              "      <td>Машинное обучение 2</td>\n",
              "      <td>Компьютерные сети</td>\n",
              "      <td></td>\n",
              "      <td>2</td>\n",
              "    </tr>\n",
              "    <tr>\n",
              "      <th>313</th>\n",
              "      <td>Язык SQL</td>\n",
              "      <td>Высокопроизводительные вычисления</td>\n",
              "      <td>Теория баз данных</td>\n",
              "      <td>Компьютерные сети</td>\n",
              "      <td>Промышленное программирование на языке Java</td>\n",
              "      <td>Дискретная оптимизация</td>\n",
              "      <td></td>\n",
              "      <td>2</td>\n",
              "    </tr>\n",
              "  </tbody>\n",
              "</table>\n",
              "</div>\n",
              "    <div class=\"colab-df-buttons\">\n",
              "\n",
              "  <div class=\"colab-df-container\">\n",
              "    <button class=\"colab-df-convert\" onclick=\"convertToInteractive('df-9240f5c6-896f-4fa9-882a-b1176d4a95e1')\"\n",
              "            title=\"Convert this dataframe to an interactive table.\"\n",
              "            style=\"display:none;\">\n",
              "\n",
              "  <svg xmlns=\"http://www.w3.org/2000/svg\" height=\"24px\" viewBox=\"0 -960 960 960\">\n",
              "    <path d=\"M120-120v-720h720v720H120Zm60-500h600v-160H180v160Zm220 220h160v-160H400v160Zm0 220h160v-160H400v160ZM180-400h160v-160H180v160Zm440 0h160v-160H620v160ZM180-180h160v-160H180v160Zm440 0h160v-160H620v160Z\"/>\n",
              "  </svg>\n",
              "    </button>\n",
              "\n",
              "  <style>\n",
              "    .colab-df-container {\n",
              "      display:flex;\n",
              "      gap: 12px;\n",
              "    }\n",
              "\n",
              "    .colab-df-convert {\n",
              "      background-color: #E8F0FE;\n",
              "      border: none;\n",
              "      border-radius: 50%;\n",
              "      cursor: pointer;\n",
              "      display: none;\n",
              "      fill: #1967D2;\n",
              "      height: 32px;\n",
              "      padding: 0 0 0 0;\n",
              "      width: 32px;\n",
              "    }\n",
              "\n",
              "    .colab-df-convert:hover {\n",
              "      background-color: #E2EBFA;\n",
              "      box-shadow: 0px 1px 2px rgba(60, 64, 67, 0.3), 0px 1px 3px 1px rgba(60, 64, 67, 0.15);\n",
              "      fill: #174EA6;\n",
              "    }\n",
              "\n",
              "    .colab-df-buttons div {\n",
              "      margin-bottom: 4px;\n",
              "    }\n",
              "\n",
              "    [theme=dark] .colab-df-convert {\n",
              "      background-color: #3B4455;\n",
              "      fill: #D2E3FC;\n",
              "    }\n",
              "\n",
              "    [theme=dark] .colab-df-convert:hover {\n",
              "      background-color: #434B5C;\n",
              "      box-shadow: 0px 1px 3px 1px rgba(0, 0, 0, 0.15);\n",
              "      filter: drop-shadow(0px 1px 2px rgba(0, 0, 0, 0.3));\n",
              "      fill: #FFFFFF;\n",
              "    }\n",
              "  </style>\n",
              "\n",
              "    <script>\n",
              "      const buttonEl =\n",
              "        document.querySelector('#df-9240f5c6-896f-4fa9-882a-b1176d4a95e1 button.colab-df-convert');\n",
              "      buttonEl.style.display =\n",
              "        google.colab.kernel.accessAllowed ? 'block' : 'none';\n",
              "\n",
              "      async function convertToInteractive(key) {\n",
              "        const element = document.querySelector('#df-9240f5c6-896f-4fa9-882a-b1176d4a95e1');\n",
              "        const dataTable =\n",
              "          await google.colab.kernel.invokeFunction('convertToInteractive',\n",
              "                                                    [key], {});\n",
              "        if (!dataTable) return;\n",
              "\n",
              "        const docLinkHtml = 'Like what you see? Visit the ' +\n",
              "          '<a target=\"_blank\" href=https://colab.research.google.com/notebooks/data_table.ipynb>data table notebook</a>'\n",
              "          + ' to learn more about interactive tables.';\n",
              "        element.innerHTML = '';\n",
              "        dataTable['output_type'] = 'display_data';\n",
              "        await google.colab.output.renderOutput(dataTable, element);\n",
              "        const docLink = document.createElement('div');\n",
              "        docLink.innerHTML = docLinkHtml;\n",
              "        element.appendChild(docLink);\n",
              "      }\n",
              "    </script>\n",
              "  </div>\n",
              "\n",
              "\n",
              "<div id=\"df-98e11217-b701-4c6d-84a4-ba948deeba25\">\n",
              "  <button class=\"colab-df-quickchart\" onclick=\"quickchart('df-98e11217-b701-4c6d-84a4-ba948deeba25')\"\n",
              "            title=\"Suggest charts.\"\n",
              "            style=\"display:none;\">\n",
              "\n",
              "<svg xmlns=\"http://www.w3.org/2000/svg\" height=\"24px\"viewBox=\"0 0 24 24\"\n",
              "     width=\"24px\">\n",
              "    <g>\n",
              "        <path d=\"M19 3H5c-1.1 0-2 .9-2 2v14c0 1.1.9 2 2 2h14c1.1 0 2-.9 2-2V5c0-1.1-.9-2-2-2zM9 17H7v-7h2v7zm4 0h-2V7h2v10zm4 0h-2v-4h2v4z\"/>\n",
              "    </g>\n",
              "</svg>\n",
              "  </button>\n",
              "\n",
              "<style>\n",
              "  .colab-df-quickchart {\n",
              "      --bg-color: #E8F0FE;\n",
              "      --fill-color: #1967D2;\n",
              "      --hover-bg-color: #E2EBFA;\n",
              "      --hover-fill-color: #174EA6;\n",
              "      --disabled-fill-color: #AAA;\n",
              "      --disabled-bg-color: #DDD;\n",
              "  }\n",
              "\n",
              "  [theme=dark] .colab-df-quickchart {\n",
              "      --bg-color: #3B4455;\n",
              "      --fill-color: #D2E3FC;\n",
              "      --hover-bg-color: #434B5C;\n",
              "      --hover-fill-color: #FFFFFF;\n",
              "      --disabled-bg-color: #3B4455;\n",
              "      --disabled-fill-color: #666;\n",
              "  }\n",
              "\n",
              "  .colab-df-quickchart {\n",
              "    background-color: var(--bg-color);\n",
              "    border: none;\n",
              "    border-radius: 50%;\n",
              "    cursor: pointer;\n",
              "    display: none;\n",
              "    fill: var(--fill-color);\n",
              "    height: 32px;\n",
              "    padding: 0;\n",
              "    width: 32px;\n",
              "  }\n",
              "\n",
              "  .colab-df-quickchart:hover {\n",
              "    background-color: var(--hover-bg-color);\n",
              "    box-shadow: 0 1px 2px rgba(60, 64, 67, 0.3), 0 1px 3px 1px rgba(60, 64, 67, 0.15);\n",
              "    fill: var(--button-hover-fill-color);\n",
              "  }\n",
              "\n",
              "  .colab-df-quickchart-complete:disabled,\n",
              "  .colab-df-quickchart-complete:disabled:hover {\n",
              "    background-color: var(--disabled-bg-color);\n",
              "    fill: var(--disabled-fill-color);\n",
              "    box-shadow: none;\n",
              "  }\n",
              "\n",
              "  .colab-df-spinner {\n",
              "    border: 2px solid var(--fill-color);\n",
              "    border-color: transparent;\n",
              "    border-bottom-color: var(--fill-color);\n",
              "    animation:\n",
              "      spin 1s steps(1) infinite;\n",
              "  }\n",
              "\n",
              "  @keyframes spin {\n",
              "    0% {\n",
              "      border-color: transparent;\n",
              "      border-bottom-color: var(--fill-color);\n",
              "      border-left-color: var(--fill-color);\n",
              "    }\n",
              "    20% {\n",
              "      border-color: transparent;\n",
              "      border-left-color: var(--fill-color);\n",
              "      border-top-color: var(--fill-color);\n",
              "    }\n",
              "    30% {\n",
              "      border-color: transparent;\n",
              "      border-left-color: var(--fill-color);\n",
              "      border-top-color: var(--fill-color);\n",
              "      border-right-color: var(--fill-color);\n",
              "    }\n",
              "    40% {\n",
              "      border-color: transparent;\n",
              "      border-right-color: var(--fill-color);\n",
              "      border-top-color: var(--fill-color);\n",
              "    }\n",
              "    60% {\n",
              "      border-color: transparent;\n",
              "      border-right-color: var(--fill-color);\n",
              "    }\n",
              "    80% {\n",
              "      border-color: transparent;\n",
              "      border-right-color: var(--fill-color);\n",
              "      border-bottom-color: var(--fill-color);\n",
              "    }\n",
              "    90% {\n",
              "      border-color: transparent;\n",
              "      border-bottom-color: var(--fill-color);\n",
              "    }\n",
              "  }\n",
              "</style>\n",
              "\n",
              "  <script>\n",
              "    async function quickchart(key) {\n",
              "      const quickchartButtonEl =\n",
              "        document.querySelector('#' + key + ' button');\n",
              "      quickchartButtonEl.disabled = true;  // To prevent multiple clicks.\n",
              "      quickchartButtonEl.classList.add('colab-df-spinner');\n",
              "      try {\n",
              "        const charts = await google.colab.kernel.invokeFunction(\n",
              "            'suggestCharts', [key], {});\n",
              "      } catch (error) {\n",
              "        console.error('Error during call to suggestCharts:', error);\n",
              "      }\n",
              "      quickchartButtonEl.classList.remove('colab-df-spinner');\n",
              "      quickchartButtonEl.classList.add('colab-df-quickchart-complete');\n",
              "    }\n",
              "    (() => {\n",
              "      let quickchartButtonEl =\n",
              "        document.querySelector('#df-98e11217-b701-4c6d-84a4-ba948deeba25 button');\n",
              "      quickchartButtonEl.style.display =\n",
              "        google.colab.kernel.accessAllowed ? 'block' : 'none';\n",
              "    })();\n",
              "  </script>\n",
              "</div>\n",
              "    </div>\n",
              "  </div>\n"
            ]
          },
          "metadata": {},
          "execution_count": 13
        }
      ],
      "source": [
        "data_grouped = data.groupby(['fall_1', 'fall_2', 'fall_3', 'spring_1', 'spring_2', 'spring_3', 'blended'])\n",
        "count_grouped = data_grouped.size().reset_index(name='occurrences')\n",
        "filtered_combinations = count_grouped[count_grouped['occurrences'] >= 2]\n",
        "filtered_combinations.tail(5)"
      ]
    },
    {
      "cell_type": "markdown",
      "metadata": {
        "id": "spu3r3vchLu0"
      },
      "source": [
        "#### 7. [0.5 балла] Найдите курсы по выбору, на которые записывались как студенты 18-го года набора, так и студенты 17-го года."
      ]
    },
    {
      "cell_type": "code",
      "execution_count": 14,
      "metadata": {
        "colab": {
          "base_uri": "https://localhost:8080/"
        },
        "id": "gxdGuSTf5sym",
        "outputId": "a137ae03-743e-4ecd-bca2-6b038d2f4bc6"
      },
      "outputs": [
        {
          "output_type": "execute_result",
          "data": {
            "text/plain": [
              "{'Statistical Learning Theory',\n",
              " 'Безопасность компьютерных систем',\n",
              " 'Высокопроизводительные вычисления',\n",
              " 'Моделирование временных рядов',\n",
              " 'Принятие решений в условиях риска и неопределённости',\n",
              " 'Сбор и обработка данных с помощью краудсорсинга',\n",
              " 'Численные методы'}"
            ]
          },
          "metadata": {},
          "execution_count": 14
        }
      ],
      "source": [
        "lst = pd.unique(data[['fall_1', 'fall_2', 'fall_3', 'spring_1', 'spring_2', 'spring_3', 'blended']].values.ravel('K'))\n",
        "data18 = data[data['17_group'] == '0']\n",
        "data17 = data[data['18_group'] == '0']\n",
        "lst18 = pd.unique(data18[['fall_1', 'fall_2', 'fall_3', 'spring_1', 'spring_2', 'spring_3', 'blended']].values.ravel('K'))\n",
        "lst17 = pd.unique(data17[['fall_1', 'fall_2', 'fall_3', 'spring_1', 'spring_2', 'spring_3', 'blended']].values.ravel('K'))\n",
        "commonlst = set(lst18) & set(lst17)\n",
        "commonlst"
      ]
    },
    {
      "cell_type": "markdown",
      "metadata": {
        "id": "PYfX-Dr5hLu0"
      },
      "source": [
        "Методом исключения найдите курсы, которые предлагались только студентам 18-го года и только студентам 17-го года."
      ]
    },
    {
      "cell_type": "markdown",
      "source": [
        "Курсы, которые предлагались только студентам 17-го года:"
      ],
      "metadata": {
        "id": "1prDCszTmxIl"
      }
    },
    {
      "cell_type": "code",
      "execution_count": 15,
      "metadata": {
        "colab": {
          "base_uri": "https://localhost:8080/"
        },
        "id": "G9SWBOpehLu1",
        "outputId": "3196034f-8ad6-44a9-f94b-d8a7a02bf29c"
      },
      "outputs": [
        {
          "output_type": "execute_result",
          "data": {
            "text/plain": [
              "['Символьные вычисления',\n",
              " 'Анализ неструктурированных данных',\n",
              " 'Глубинное обучение в обработке звука',\n",
              " 'Введение в дифференциальную геометрию',\n",
              " 'Обучение с подкреплением',\n",
              " 'Методы сжатия и передачи медиаданных',\n",
              " 'Конфликты и кооперация',\n",
              " 'DevOps',\n",
              " 'Байесовские методы машинного обучения',\n",
              " 'Генеративные модели в машинном обучении',\n",
              " 'Соревновательный анализ данных',\n",
              " 'Компьютерное зрение',\n",
              " 'Проектирование и разработка высоконагруженных сервисов']"
            ]
          },
          "metadata": {},
          "execution_count": 15
        }
      ],
      "source": [
        "list(set(lst) - set(lst18))"
      ]
    },
    {
      "cell_type": "markdown",
      "source": [
        "Курсы, которые предлагались только студентам 18-го года:"
      ],
      "metadata": {
        "id": "lHpgKmIMnHh7"
      }
    },
    {
      "cell_type": "code",
      "source": [
        "list(set(lst) - set(lst17) - set(commonlst))"
      ],
      "metadata": {
        "colab": {
          "base_uri": "https://localhost:8080/"
        },
        "id": "3lL2uKrEmRx2",
        "outputId": "e2de1cb9-4f1b-418c-b7d5-b08bf776ce81"
      },
      "execution_count": 16,
      "outputs": [
        {
          "output_type": "execute_result",
          "data": {
            "text/plain": [
              "['',\n",
              " 'Системы баз данных',\n",
              " 'Теория баз данных',\n",
              " 'Язык SQL',\n",
              " 'Дискретная оптимизация',\n",
              " 'Матричные вычисления',\n",
              " 'Дополнительные главы прикладной статистики',\n",
              " 'Анализ данных в бизнесе',\n",
              " 'Машинное обучение 2',\n",
              " 'Компьютерные сети',\n",
              " 'Промышленное программирование на языке Java']"
            ]
          },
          "metadata": {},
          "execution_count": 16
        }
      ]
    },
    {
      "cell_type": "markdown",
      "metadata": {
        "id": "uL45Tg5fhLu1"
      },
      "source": [
        "### Визуализации и matplotlib"
      ]
    },
    {
      "cell_type": "markdown",
      "metadata": {
        "id": "MY9lKmP2hLu1"
      },
      "source": [
        "При работе с данными часто неудобно делать какие-то выводы, если смотреть на таблицу и числа в частности, поэтому важно уметь визуализировать данные. Здесь будут описаны ключевые правила оформления графиков для **всех** домашних заданий.\n",
        "\n",
        "У matplotlib, конечно же, есть [документация](https://matplotlib.org/users/index.html) с большим количеством [примеров](https://matplotlib.org/examples/), но для начала достаточно знать про несколько основных типов графиков:\n",
        "- plot — обычный поточечный график, которым можно изображать кривые или отдельные точки;\n",
        "- hist — гистограмма, показывающая распределение некоторой величины;\n",
        "- scatter — график, показывающий взаимосвязь двух величин;\n",
        "- bar — столбцовый график, показывающий взаимосвязь количественной величины от категориальной.\n",
        "\n",
        "В этом задании вы попробуете построить один из них. Не забывайте про базовые принципы построения приличных графиков:\n",
        "- оси должны быть подписаны, причём не слишком мелко;\n",
        "- у графика должно быть название;\n",
        "- если изображено несколько графиков, то необходима поясняющая легенда;\n",
        "- все линии на графиках должны быть чётко видны (нет похожих цветов или цветов, сливающихся с фоном);\n",
        "- если отображена величина, имеющая очевидный диапазон значений (например, проценты могут быть от 0 до 100), то желательно масштабировать ось на весь диапазон значений (исключением является случай, когда вам необходимо показать малое отличие, которое незаметно в таких масштабах);\n",
        "- сетка на графике помогает оценить значения в точках на глаз, это обычно полезно, поэтому лучше ее отрисовывать;\n",
        "- если распределение на гистограмме имеет тяжёлые хвосты, лучше использовать логарифмическую шкалу.\n",
        "\n",
        "Еще одна билиотека для визуализации: [seaborn](https://jakevdp.github.io/PythonDataScienceHandbook/04.14-visualization-with-seaborn.html) (обычно сокращается до sns). Это настройка над matplotlib, иногда удобнее и красивее делать визуализации через неё.\n",
        "\n",
        "**5 пунктов после которых ваши графики не будут прежними:**\n",
        "- для красивой картинки <code>%config InlineBackend.figure_format = 'retina'</code>\n",
        "- задаем размер (почти) всех графиков (можно выбрать другие значения) <code>plt.rcParams['figure.figsize'] = 8, 5</code>\n",
        "- размер шрифта подписей графиков <code>plt.rcParams['font.size'] = 12</code>\n",
        "- формат в котором сохраняется изображение <code>mpl.rcParams['savefig.format'] = 'pdf'</code>\n",
        "- sns – seaborn, добавляет решетку <code>sns.set_style('darkgrid')</code>\n",
        "\n",
        "Добавьте эти функции в ячейку ниже. Каждый график все равно придется настраивать отдельно, но указанные строчки позволят значительно упростить процесс.  "
      ]
    },
    {
      "cell_type": "code",
      "execution_count": 17,
      "metadata": {
        "id": "na9doUOFhLu1"
      },
      "outputs": [],
      "source": [
        "%matplotlib inline\n",
        "import matplotlib.pyplot as plt\n",
        "import seaborn as sns\n",
        "\n",
        "%config InlineBackend.figure_format = 'retina'\n",
        "plt.rcParams['figure.figsize'] = 8, 5\n",
        "plt.rcParams['font.size'] = 12\n",
        "mpl.rcParams['savefig.format'] = 'pdf'\n",
        "sns.set_style('darkgrid')"
      ]
    },
    {
      "cell_type": "markdown",
      "metadata": {
        "id": "kikwLpxfhLu1"
      },
      "source": [
        "#### 8. [0.5 балла] Постройте график средних рейтингов по дням получения ответов (bar plot)."
      ]
    },
    {
      "cell_type": "code",
      "source": [
        "data['date'] = data['timestamp'].dt.date\n",
        "data_time = data.groupby(by = 'date')['rating'].agg(['mean'])"
      ],
      "metadata": {
        "id": "E1qXAncp-1P_"
      },
      "execution_count": 18,
      "outputs": []
    },
    {
      "cell_type": "code",
      "source": [
        "data_time"
      ],
      "metadata": {
        "colab": {
          "base_uri": "https://localhost:8080/",
          "height": 390
        },
        "id": "u65M1wakD13u",
        "outputId": "0f6a160b-8e88-45ef-ecd3-7793e3df6f07"
      },
      "execution_count": 19,
      "outputs": [
        {
          "output_type": "execute_result",
          "data": {
            "text/plain": [
              "                   mean\n",
              "date                   \n",
              "2020-05-14  1160.277778\n",
              "2020-05-15   719.866667\n",
              "2020-05-16   736.400000\n",
              "2020-05-17   915.027027\n",
              "2020-05-18   827.352679\n",
              "2020-05-19   761.142857\n",
              "2020-05-20   689.500000\n",
              "2020-05-21   584.000000\n",
              "2020-05-23  1080.500000\n",
              "2020-05-24   670.500000"
            ],
            "text/html": [
              "\n",
              "  <div id=\"df-fcf73055-17e1-4bfc-8cbb-58636251459a\" class=\"colab-df-container\">\n",
              "    <div>\n",
              "<style scoped>\n",
              "    .dataframe tbody tr th:only-of-type {\n",
              "        vertical-align: middle;\n",
              "    }\n",
              "\n",
              "    .dataframe tbody tr th {\n",
              "        vertical-align: top;\n",
              "    }\n",
              "\n",
              "    .dataframe thead th {\n",
              "        text-align: right;\n",
              "    }\n",
              "</style>\n",
              "<table border=\"1\" class=\"dataframe\">\n",
              "  <thead>\n",
              "    <tr style=\"text-align: right;\">\n",
              "      <th></th>\n",
              "      <th>mean</th>\n",
              "    </tr>\n",
              "    <tr>\n",
              "      <th>date</th>\n",
              "      <th></th>\n",
              "    </tr>\n",
              "  </thead>\n",
              "  <tbody>\n",
              "    <tr>\n",
              "      <th>2020-05-14</th>\n",
              "      <td>1160.277778</td>\n",
              "    </tr>\n",
              "    <tr>\n",
              "      <th>2020-05-15</th>\n",
              "      <td>719.866667</td>\n",
              "    </tr>\n",
              "    <tr>\n",
              "      <th>2020-05-16</th>\n",
              "      <td>736.400000</td>\n",
              "    </tr>\n",
              "    <tr>\n",
              "      <th>2020-05-17</th>\n",
              "      <td>915.027027</td>\n",
              "    </tr>\n",
              "    <tr>\n",
              "      <th>2020-05-18</th>\n",
              "      <td>827.352679</td>\n",
              "    </tr>\n",
              "    <tr>\n",
              "      <th>2020-05-19</th>\n",
              "      <td>761.142857</td>\n",
              "    </tr>\n",
              "    <tr>\n",
              "      <th>2020-05-20</th>\n",
              "      <td>689.500000</td>\n",
              "    </tr>\n",
              "    <tr>\n",
              "      <th>2020-05-21</th>\n",
              "      <td>584.000000</td>\n",
              "    </tr>\n",
              "    <tr>\n",
              "      <th>2020-05-23</th>\n",
              "      <td>1080.500000</td>\n",
              "    </tr>\n",
              "    <tr>\n",
              "      <th>2020-05-24</th>\n",
              "      <td>670.500000</td>\n",
              "    </tr>\n",
              "  </tbody>\n",
              "</table>\n",
              "</div>\n",
              "    <div class=\"colab-df-buttons\">\n",
              "\n",
              "  <div class=\"colab-df-container\">\n",
              "    <button class=\"colab-df-convert\" onclick=\"convertToInteractive('df-fcf73055-17e1-4bfc-8cbb-58636251459a')\"\n",
              "            title=\"Convert this dataframe to an interactive table.\"\n",
              "            style=\"display:none;\">\n",
              "\n",
              "  <svg xmlns=\"http://www.w3.org/2000/svg\" height=\"24px\" viewBox=\"0 -960 960 960\">\n",
              "    <path d=\"M120-120v-720h720v720H120Zm60-500h600v-160H180v160Zm220 220h160v-160H400v160Zm0 220h160v-160H400v160ZM180-400h160v-160H180v160Zm440 0h160v-160H620v160ZM180-180h160v-160H180v160Zm440 0h160v-160H620v160Z\"/>\n",
              "  </svg>\n",
              "    </button>\n",
              "\n",
              "  <style>\n",
              "    .colab-df-container {\n",
              "      display:flex;\n",
              "      gap: 12px;\n",
              "    }\n",
              "\n",
              "    .colab-df-convert {\n",
              "      background-color: #E8F0FE;\n",
              "      border: none;\n",
              "      border-radius: 50%;\n",
              "      cursor: pointer;\n",
              "      display: none;\n",
              "      fill: #1967D2;\n",
              "      height: 32px;\n",
              "      padding: 0 0 0 0;\n",
              "      width: 32px;\n",
              "    }\n",
              "\n",
              "    .colab-df-convert:hover {\n",
              "      background-color: #E2EBFA;\n",
              "      box-shadow: 0px 1px 2px rgba(60, 64, 67, 0.3), 0px 1px 3px 1px rgba(60, 64, 67, 0.15);\n",
              "      fill: #174EA6;\n",
              "    }\n",
              "\n",
              "    .colab-df-buttons div {\n",
              "      margin-bottom: 4px;\n",
              "    }\n",
              "\n",
              "    [theme=dark] .colab-df-convert {\n",
              "      background-color: #3B4455;\n",
              "      fill: #D2E3FC;\n",
              "    }\n",
              "\n",
              "    [theme=dark] .colab-df-convert:hover {\n",
              "      background-color: #434B5C;\n",
              "      box-shadow: 0px 1px 3px 1px rgba(0, 0, 0, 0.15);\n",
              "      filter: drop-shadow(0px 1px 2px rgba(0, 0, 0, 0.3));\n",
              "      fill: #FFFFFF;\n",
              "    }\n",
              "  </style>\n",
              "\n",
              "    <script>\n",
              "      const buttonEl =\n",
              "        document.querySelector('#df-fcf73055-17e1-4bfc-8cbb-58636251459a button.colab-df-convert');\n",
              "      buttonEl.style.display =\n",
              "        google.colab.kernel.accessAllowed ? 'block' : 'none';\n",
              "\n",
              "      async function convertToInteractive(key) {\n",
              "        const element = document.querySelector('#df-fcf73055-17e1-4bfc-8cbb-58636251459a');\n",
              "        const dataTable =\n",
              "          await google.colab.kernel.invokeFunction('convertToInteractive',\n",
              "                                                    [key], {});\n",
              "        if (!dataTable) return;\n",
              "\n",
              "        const docLinkHtml = 'Like what you see? Visit the ' +\n",
              "          '<a target=\"_blank\" href=https://colab.research.google.com/notebooks/data_table.ipynb>data table notebook</a>'\n",
              "          + ' to learn more about interactive tables.';\n",
              "        element.innerHTML = '';\n",
              "        dataTable['output_type'] = 'display_data';\n",
              "        await google.colab.output.renderOutput(dataTable, element);\n",
              "        const docLink = document.createElement('div');\n",
              "        docLink.innerHTML = docLinkHtml;\n",
              "        element.appendChild(docLink);\n",
              "      }\n",
              "    </script>\n",
              "  </div>\n",
              "\n",
              "\n",
              "<div id=\"df-1203ffd1-bcac-4f3f-a273-947b8b2b7df3\">\n",
              "  <button class=\"colab-df-quickchart\" onclick=\"quickchart('df-1203ffd1-bcac-4f3f-a273-947b8b2b7df3')\"\n",
              "            title=\"Suggest charts.\"\n",
              "            style=\"display:none;\">\n",
              "\n",
              "<svg xmlns=\"http://www.w3.org/2000/svg\" height=\"24px\"viewBox=\"0 0 24 24\"\n",
              "     width=\"24px\">\n",
              "    <g>\n",
              "        <path d=\"M19 3H5c-1.1 0-2 .9-2 2v14c0 1.1.9 2 2 2h14c1.1 0 2-.9 2-2V5c0-1.1-.9-2-2-2zM9 17H7v-7h2v7zm4 0h-2V7h2v10zm4 0h-2v-4h2v4z\"/>\n",
              "    </g>\n",
              "</svg>\n",
              "  </button>\n",
              "\n",
              "<style>\n",
              "  .colab-df-quickchart {\n",
              "      --bg-color: #E8F0FE;\n",
              "      --fill-color: #1967D2;\n",
              "      --hover-bg-color: #E2EBFA;\n",
              "      --hover-fill-color: #174EA6;\n",
              "      --disabled-fill-color: #AAA;\n",
              "      --disabled-bg-color: #DDD;\n",
              "  }\n",
              "\n",
              "  [theme=dark] .colab-df-quickchart {\n",
              "      --bg-color: #3B4455;\n",
              "      --fill-color: #D2E3FC;\n",
              "      --hover-bg-color: #434B5C;\n",
              "      --hover-fill-color: #FFFFFF;\n",
              "      --disabled-bg-color: #3B4455;\n",
              "      --disabled-fill-color: #666;\n",
              "  }\n",
              "\n",
              "  .colab-df-quickchart {\n",
              "    background-color: var(--bg-color);\n",
              "    border: none;\n",
              "    border-radius: 50%;\n",
              "    cursor: pointer;\n",
              "    display: none;\n",
              "    fill: var(--fill-color);\n",
              "    height: 32px;\n",
              "    padding: 0;\n",
              "    width: 32px;\n",
              "  }\n",
              "\n",
              "  .colab-df-quickchart:hover {\n",
              "    background-color: var(--hover-bg-color);\n",
              "    box-shadow: 0 1px 2px rgba(60, 64, 67, 0.3), 0 1px 3px 1px rgba(60, 64, 67, 0.15);\n",
              "    fill: var(--button-hover-fill-color);\n",
              "  }\n",
              "\n",
              "  .colab-df-quickchart-complete:disabled,\n",
              "  .colab-df-quickchart-complete:disabled:hover {\n",
              "    background-color: var(--disabled-bg-color);\n",
              "    fill: var(--disabled-fill-color);\n",
              "    box-shadow: none;\n",
              "  }\n",
              "\n",
              "  .colab-df-spinner {\n",
              "    border: 2px solid var(--fill-color);\n",
              "    border-color: transparent;\n",
              "    border-bottom-color: var(--fill-color);\n",
              "    animation:\n",
              "      spin 1s steps(1) infinite;\n",
              "  }\n",
              "\n",
              "  @keyframes spin {\n",
              "    0% {\n",
              "      border-color: transparent;\n",
              "      border-bottom-color: var(--fill-color);\n",
              "      border-left-color: var(--fill-color);\n",
              "    }\n",
              "    20% {\n",
              "      border-color: transparent;\n",
              "      border-left-color: var(--fill-color);\n",
              "      border-top-color: var(--fill-color);\n",
              "    }\n",
              "    30% {\n",
              "      border-color: transparent;\n",
              "      border-left-color: var(--fill-color);\n",
              "      border-top-color: var(--fill-color);\n",
              "      border-right-color: var(--fill-color);\n",
              "    }\n",
              "    40% {\n",
              "      border-color: transparent;\n",
              "      border-right-color: var(--fill-color);\n",
              "      border-top-color: var(--fill-color);\n",
              "    }\n",
              "    60% {\n",
              "      border-color: transparent;\n",
              "      border-right-color: var(--fill-color);\n",
              "    }\n",
              "    80% {\n",
              "      border-color: transparent;\n",
              "      border-right-color: var(--fill-color);\n",
              "      border-bottom-color: var(--fill-color);\n",
              "    }\n",
              "    90% {\n",
              "      border-color: transparent;\n",
              "      border-bottom-color: var(--fill-color);\n",
              "    }\n",
              "  }\n",
              "</style>\n",
              "\n",
              "  <script>\n",
              "    async function quickchart(key) {\n",
              "      const quickchartButtonEl =\n",
              "        document.querySelector('#' + key + ' button');\n",
              "      quickchartButtonEl.disabled = true;  // To prevent multiple clicks.\n",
              "      quickchartButtonEl.classList.add('colab-df-spinner');\n",
              "      try {\n",
              "        const charts = await google.colab.kernel.invokeFunction(\n",
              "            'suggestCharts', [key], {});\n",
              "      } catch (error) {\n",
              "        console.error('Error during call to suggestCharts:', error);\n",
              "      }\n",
              "      quickchartButtonEl.classList.remove('colab-df-spinner');\n",
              "      quickchartButtonEl.classList.add('colab-df-quickchart-complete');\n",
              "    }\n",
              "    (() => {\n",
              "      let quickchartButtonEl =\n",
              "        document.querySelector('#df-1203ffd1-bcac-4f3f-a273-947b8b2b7df3 button');\n",
              "      quickchartButtonEl.style.display =\n",
              "        google.colab.kernel.accessAllowed ? 'block' : 'none';\n",
              "    })();\n",
              "  </script>\n",
              "</div>\n",
              "    </div>\n",
              "  </div>\n"
            ]
          },
          "metadata": {},
          "execution_count": 19
        }
      ]
    },
    {
      "cell_type": "code",
      "execution_count": 20,
      "metadata": {
        "colab": {
          "base_uri": "https://localhost:8080/",
          "height": 500
        },
        "id": "Qhscc8eKoi41",
        "outputId": "9715e15e-ee5b-4bea-a42d-348ef10e87df"
      },
      "outputs": [
        {
          "output_type": "display_data",
          "data": {
            "text/plain": [
              "<Figure size 800x500 with 1 Axes>"
            ],
            "image/png": "[encoded data removed]"
          },
          "metadata": {
            "image/png": {
              "width": 782,
              "height": 483
            }
          }
        }
      ],
      "source": [
        "plt.bar(data_time.index, data_time['mean'], color='violet',  align='center')\n",
        "plt.xlabel('Date')\n",
        "plt.ylabel('Mean Rating')\n",
        "plt.title('Mean Rating by Date')\n",
        "plt.xticks(data_time.index, rotation=75)\n",
        "plt.tight_layout()\n",
        "plt.show()\n"
      ]
    },
    {
      "cell_type": "markdown",
      "metadata": {
        "id": "AmsQg9_xhLu2"
      },
      "source": [
        "Сохраните график в формате pdf (так он останется векторизованным)."
      ]
    },
    {
      "cell_type": "code",
      "execution_count": 21,
      "metadata": {
        "id": "vKZNSwWghLu2",
        "colab": {
          "base_uri": "https://localhost:8080/",
          "height": 34
        },
        "outputId": "b9a891bc-5c5f-4c51-b7a1-479c446dee9b"
      },
      "outputs": [
        {
          "output_type": "display_data",
          "data": {
            "text/plain": [
              "<Figure size 800x500 with 0 Axes>"
            ]
          },
          "metadata": {}
        }
      ],
      "source": [
        "plt.tight_layout()\n",
        "plt.savefig('plot.pdf', format='pdf')"
      ]
    },
    {
      "cell_type": "markdown",
      "metadata": {
        "id": "sCgWwjl0hLu2"
      },
      "source": [
        "### 2. Распределение студентов по курсам."
      ]
    },
    {
      "cell_type": "markdown",
      "metadata": {
        "id": "O77GVUmZIR0h"
      },
      "source": [
        "<span style=\"color:red\">!!!ВНИМАТЕЛЬНО ИЗУЧИТЕ ТЕКСТ НИЖЕ!!!</span>.\n",
        "\n",
        "<span style=\"color:orange\">Если во время выполнения заданий у вас вознинут вопросы -- еще раз перечитайте текст целиком, скорее всего ответы уже содержатся в нем.</span>"
      ]
    },
    {
      "cell_type": "markdown",
      "metadata": {
        "id": "VNqXUpr4hLu3"
      },
      "source": [
        "Теперь вам нужно распределить студентов по осенним курсам по выбору, учитывая их предпочтения."
      ]
    },
    {
      "cell_type": "markdown",
      "metadata": {
        "id": "5cAR2FgphLu3"
      },
      "source": [
        "Алгоритм распределения студентов по курсам:\n",
        "1. По умолчанию на каждой дисциплине по выбору у 3 и 4 курсов может учиться 1 группа (до 30 студентов). Исключения описаны ниже. На blended-дисциплинах для четверокурсников количество мест не ограничено.\n",
        "2. Проводится первая волна отбора. Для каждой дисциплины формируется список тех, кто указал её первым приоритетом (если студент должен выбрать два курса по выбору, то для него дисциплины, которые он указал первым и вторым приоритетом, рассматриваются как дисциплины первого приоритета). Если желающих больше, чем мест, то выбирается топ по перцентилю рейтинга.\n",
        "3. На дисциплинах, где остались места после первой волны, формируются списки тех, кто выбрал их вторым приоритетом и еще не прошел на необходимое количество курсов. Места заполняются лучшими по перцентилю рейтинга студентами. После этого проводится такая же процедура для дисциплин третьего приоритета.\n",
        "4. Если студент не попал на необходимое количество курсов по итогам трёх волн, с ним связывается учебный офис и решает вопрос в индивидуальном порядке."
      ]
    },
    {
      "cell_type": "markdown",
      "metadata": {
        "id": "BiNKVwS6hLu3"
      },
      "source": [
        "Обращаем ваше внимание на следующие детали:\n",
        "- Конкурс на каждый курс общий для 3-го и 4-го курса\n",
        "\n",
        "- По умолчанию студент выбирает один осенний и один весенний курс по выбору, а также четверокурсники выбирают один blended-курс. Студенты групп 17-го года специализаций МОП и ТИ выбирают по 2 осенних и 2 весенних курса по выбору, также студенты групп 18' специализации МИ выбирают 2 осенних курса. <i>Для студентов, которые выбирают 2 курса (например, осенних) первый приоритет — <code>fall_1</code> и <code>fall_2</code>, второй приоритет — <code>fall_3</code>. Такие студенты участвуют только в двух волнах отбора</i>.\n",
        "\n",
        "- Студенты специализации МОП не могут выбрать весенним курсом по выбору Машинное обучение 2. **Если студент специализации МОП выбрал Машинное обучение 2, то его приоритеты сдвигаются.** Из-за совпадений первого и второго курса по выбору двигать приоритеты не надо.\n",
        "\n",
        "- Blended-курсы не трогайте, по ним не надо распределять, на другие курсы они никак не влияют.\n",
        "\n",
        "- Заведомо известно, что в процессе распределения не возникнет ситуации, когда на одно место претендуют студенты с одинаковым перцентилем.\n",
        "\n",
        "- Постарайтесь воздержаться от использования циклов там, где это возможно. <i>Допустимо итерироваться по <b>курсам</b>, на которые проводится отбор, и по <b>волнам</b> отбора. Если вы придумаете, как обойтись и без этих циклов, то на усмотрение проверяющего могут быть добавлены бонусные баллы. <b>Дублирование кода не признается успешным избавлением от циклов</b></i>\n",
        "\n",
        "- На выходе ожидается файл res_fall.csv с результатами распределения на осенние курсы по выбору. Файл должен быть следующего формата:\n",
        "\n",
        "    * Три колонки: ID, course1, course2\n",
        "    \n",
        "    * Если студент не попал на курс, но должен был, то вместо названия курса в ячейке должна быть строка \"???\"\n",
        "    \n",
        "    * Если студент должен выбрать только один курс, то в колонке course2 для него должна стоять строка \"-\"\n",
        "    \n",
        "    * Если студент должен выбрать два курса по выбору, то порядок в колонках course1 и course2 не важен.\n",
        "    \n",
        "    * hint: для сохранения воспользуйтесь df.to_csv('solution.csv', index=None)\n",
        "    \n",
        "\n",
        "Для работы вам могут понадобиться следующие данные:\n",
        "\n",
        "- Результаты опроса (вы уже использовали этот файл в первой части задания, но на всякий случай ссылка: https://www.dropbox.com/s/f4rm8sjc3v99p0m/_end_seminar.xlsx?dl=0)\n",
        "\n",
        "- Соответствие номеров групп специализациям:\n",
        "\n",
        "    * 171, 172 - МОП; 173 - ТИ; 174 — АДИС; 175, 176 — РС; 177 — АПР\n",
        "    \n",
        "    * У студентов 18-го года номера групп соответствуют номерам до распределения по специализациям. Это означает, что по номеру группы 18* нельзя однозначно определить специализацию студента. При этом в рамках распределения важно знать информацию только о двух из них: МОП и МИ. Эти знание можно получить из колонок 'is_ml_student\n",
        "' и 'is_mi' соответственно.\n",
        "\n",
        "- Ограничения по количеству мест на курсах по выбору:\n",
        "\n",
        "    * Осенние: везде 30 мест, кроме Statistical Learning Theory (60 мест), Высокопроизводительных вычислений (60 мест), Анализа неструктурированных данных ($\\infty$ мест)\n",
        "\n",
        "    * Весенние: везде 30 мест, кроме Обучения с подкреплением (60 мест), Анализа данных в бизнесе (60 мест).\n",
        "\n",
        "\n",
        "Кстати, убедитесь, что в данных больше нет пропусков и повторных записей."
      ]
    },
    {
      "cell_type": "markdown",
      "metadata": {
        "id": "o5t55IcQhLu4"
      },
      "source": [
        "#### 0. Проверка\n",
        "\n",
        "Для начала давайте убедимся, что вы успешно выполнили задания первой части и проверим ваши данные на наличие пропусков и повторов:"
      ]
    },
    {
      "cell_type": "code",
      "execution_count": 22,
      "metadata": {
        "id": "34HWEdVdhLu4"
      },
      "outputs": [],
      "source": [
        "assert data.shape[0] == 347, 'В таблице остались повторы или потеряны данные'\n",
        "\n",
        "assert data.isna().sum().sum() == 0, 'В таблице остались пропуски'"
      ]
    },
    {
      "cell_type": "markdown",
      "metadata": {
        "id": "_ImUFyG3hLu4"
      },
      "source": [
        "Если вы не получили AssertionError, то можете продолжать."
      ]
    },
    {
      "cell_type": "markdown",
      "metadata": {
        "id": "LTGSwwvAhLu4"
      },
      "source": [
        "#### 1. [1 балл] Создайте новый признак, обозначающий, сколько осенних курсов должен выбрать студент\n",
        "\n",
        "В этом вам может помочь информация о специализации и группе стундента."
      ]
    },
    {
      "cell_type": "markdown",
      "source": [
        "Сначала немного подготовим данные и переведем столбцы в числовой формат."
      ],
      "metadata": {
        "id": "wRKca023SU77"
      }
    },
    {
      "cell_type": "code",
      "execution_count": 23,
      "metadata": {
        "id": "qTcOGZC7dVPe"
      },
      "outputs": [],
      "source": [
        "df = data\n",
        "df['is_mi'] = pd.to_numeric(df['is_mi'])\n",
        "df['17_group'] = pd.to_numeric(df['17_group'])"
      ]
    },
    {
      "cell_type": "markdown",
      "source": [
        "Напишем функцию, которая возвращает количество курсов в зависимости от группы и применим ее ко всему столбцу."
      ],
      "metadata": {
        "id": "4_wiA_95Sd0V"
      }
    },
    {
      "cell_type": "code",
      "execution_count": 24,
      "metadata": {
        "id": "ouxo0kHFhLu4"
      },
      "outputs": [],
      "source": [
        "def course_number(row):\n",
        "  if ((row['17_group'] == 171) | (row['17_group'] == 172) | (row['17_group'] == 173) | ((row['is_mi'] == 1) & (row['17_group'] == 0))):\n",
        "    return 2\n",
        "  else:\n",
        "    return 1\n",
        "df['course_number'] = df.apply(course_number, axis=1)"
      ]
    },
    {
      "cell_type": "markdown",
      "metadata": {
        "id": "S47aq1sQhLu4"
      },
      "source": [
        "Проверка:"
      ]
    },
    {
      "cell_type": "code",
      "execution_count": 25,
      "metadata": {
        "id": "OlOgzDKDhLu5"
      },
      "outputs": [],
      "source": [
        "col_name = 'course_number'\n",
        "\n",
        "assert(df[df['id'] == '2662600c2c37e11e62f6ee0b88452f22'][col_name] == 2).all()\n",
        "assert(df[df['id'] == 'd555d2805e1d93d4f023e57dc4c8f403'][col_name] == 2).all()\n",
        "assert(df[df['id'] == '8fe79f84f36e3a5d2d6745621321302c'][col_name] == 1).all()\n",
        "assert(df[df['id'] == 'e4caca755ee0bdd711e18fb8084958b5'][col_name] == 1).all()"
      ]
    },
    {
      "cell_type": "markdown",
      "metadata": {
        "id": "VtQYhwuPhLu5"
      },
      "source": [
        "#### 2. [2 балла] Распределите студентов в соответствии с первым приоритетом"
      ]
    },
    {
      "cell_type": "markdown",
      "source": [
        "Создадим списки и словари, которые нам пригодятся позднее"
      ],
      "metadata": {
        "id": "kluJl5m7St-9"
      }
    },
    {
      "cell_type": "code",
      "execution_count": 26,
      "metadata": {
        "id": "X69agUFwqhO9"
      },
      "outputs": [],
      "source": [
        "limit60 = ['Statistical Learning Theory', 'Высокопроизводительные вычисления', 'Обучение с подкреплением', 'Анализ данных в бизнесе'] # Список курсов, на которых максимальное число студентов 60\n",
        "limitinf = ['Анализ неструктурированных данных']  # Список курсов, на которых нет лимита по количеству студентов\n",
        "courselist = pd.unique(df[['fall_1', 'fall_2',  'fall_3']].values.ravel('K')) # Список всех курсов на осень\n",
        "res_fall = pd.DataFrame(columns=['ID', 'course1', 'course2']) # Итоговый датафрейм с курсами\n",
        "coursedict = {course: None for course in courselist} # Словарь, где ключи - курсы, а значения - студенты, которые на них записаны"
      ]
    },
    {
      "cell_type": "markdown",
      "source": [
        "Заведем функцию, которая возвращает максимальное значение для курсов, на которых установлено максимальное число студентов."
      ],
      "metadata": {
        "id": "KHXm27_0TjPB"
      }
    },
    {
      "cell_type": "code",
      "execution_count": 27,
      "metadata": {
        "id": "TKdAiSLaZx7Z"
      },
      "outputs": [],
      "source": [
        "def limit(key): # функция, которая возвращает лимит для курсов (она неправильно работает для limitinf, но это учтено позже, так просто легче)\n",
        "  if key in limit60:\n",
        "    return 60\n",
        "  else:\n",
        "    return 30"
      ]
    },
    {
      "cell_type": "code",
      "execution_count": 28,
      "metadata": {
        "id": "2wNJF_VTPTwR"
      },
      "outputs": [],
      "source": [
        "for key in coursedict: # Проходимся по всем курсам из списка\n",
        "  lst = df.index[df['fall_1'] == key].tolist() # Создаем список индексов студентов, у которых курс стоит первым приоритетом\n",
        "  lst.extend(df.index[(df['course_number'] == 2) & (df['fall_2'] == key)].tolist()) # Для тех, кому можно брать два курса\n",
        "  courseids = list(set(df.loc[lst, 'id'].tolist())) # По индексам находим id, убираем повторяющихся студентов\n",
        "  sorted_ids = df[df['id'].isin(courseids)].sort_values(by='percentile', ascending=True)['id'].tolist() #сортируем список студентов по их пернцентилю\n",
        "  if((len((sorted_ids)) > limit(key)) and (key not in limitinf)): # Проверяем, не превышает ли количество записанных студентов лимит\n",
        "    coursedict[key] = (sorted_ids[:limit(key)]) # Отбрасываем тех, кто не поместился\n",
        "  else:\n",
        "    coursedict[key] = sorted_ids # Заполняем словарь id"
      ]
    },
    {
      "cell_type": "code",
      "execution_count": 29,
      "metadata": {
        "id": "K1wDHaO33eoq",
        "colab": {
          "base_uri": "https://localhost:8080/",
          "height": 204
        },
        "outputId": "4125384c-db8a-44d7-8e9b-99648647487c"
      },
      "outputs": [
        {
          "output_type": "execute_result",
          "data": {
            "text/plain": [
              "                                   id                           course1  \\\n",
              "261  feb53dcdd28fff9dc4a981c3419fea6f                          Язык SQL   \n",
              "262  fecff7bd30995d16b59fb392d47b3760  Безопасность компьютерных систем   \n",
              "263  ff549c331d45453052f28ad2614afda9     Моделирование временных рядов   \n",
              "264  ffc04c64d068f8d85e4dc44e7f297ecc       Statistical Learning Theory   \n",
              "265  ffc58d371e2f52e1c7f45d49d3d629d0              Матричные вычисления   \n",
              "\n",
              "                                   course2  \n",
              "261                                    NaN  \n",
              "262      Анализ неструктурированных данных  \n",
              "263                                    NaN  \n",
              "264  Байесовские методы машинного обучения  \n",
              "265                                    NaN  "
            ],
            "text/html": [
              "\n",
              "  <div id=\"df-e9480023-2f69-4c02-ab98-f4fc84cd5b92\" class=\"colab-df-container\">\n",
              "    <div>\n",
              "<style scoped>\n",
              "    .dataframe tbody tr th:only-of-type {\n",
              "        vertical-align: middle;\n",
              "    }\n",
              "\n",
              "    .dataframe tbody tr th {\n",
              "        vertical-align: top;\n",
              "    }\n",
              "\n",
              "    .dataframe thead th {\n",
              "        text-align: right;\n",
              "    }\n",
              "</style>\n",
              "<table border=\"1\" class=\"dataframe\">\n",
              "  <thead>\n",
              "    <tr style=\"text-align: right;\">\n",
              "      <th></th>\n",
              "      <th>id</th>\n",
              "      <th>course1</th>\n",
              "      <th>course2</th>\n",
              "    </tr>\n",
              "  </thead>\n",
              "  <tbody>\n",
              "    <tr>\n",
              "      <th>261</th>\n",
              "      <td>feb53dcdd28fff9dc4a981c3419fea6f</td>\n",
              "      <td>Язык SQL</td>\n",
              "      <td>NaN</td>\n",
              "    </tr>\n",
              "    <tr>\n",
              "      <th>262</th>\n",
              "      <td>fecff7bd30995d16b59fb392d47b3760</td>\n",
              "      <td>Безопасность компьютерных систем</td>\n",
              "      <td>Анализ неструктурированных данных</td>\n",
              "    </tr>\n",
              "    <tr>\n",
              "      <th>263</th>\n",
              "      <td>ff549c331d45453052f28ad2614afda9</td>\n",
              "      <td>Моделирование временных рядов</td>\n",
              "      <td>NaN</td>\n",
              "    </tr>\n",
              "    <tr>\n",
              "      <th>264</th>\n",
              "      <td>ffc04c64d068f8d85e4dc44e7f297ecc</td>\n",
              "      <td>Statistical Learning Theory</td>\n",
              "      <td>Байесовские методы машинного обучения</td>\n",
              "    </tr>\n",
              "    <tr>\n",
              "      <th>265</th>\n",
              "      <td>ffc58d371e2f52e1c7f45d49d3d629d0</td>\n",
              "      <td>Матричные вычисления</td>\n",
              "      <td>NaN</td>\n",
              "    </tr>\n",
              "  </tbody>\n",
              "</table>\n",
              "</div>\n",
              "    <div class=\"colab-df-buttons\">\n",
              "\n",
              "  <div class=\"colab-df-container\">\n",
              "    <button class=\"colab-df-convert\" onclick=\"convertToInteractive('df-e9480023-2f69-4c02-ab98-f4fc84cd5b92')\"\n",
              "            title=\"Convert this dataframe to an interactive table.\"\n",
              "            style=\"display:none;\">\n",
              "\n",
              "  <svg xmlns=\"http://www.w3.org/2000/svg\" height=\"24px\" viewBox=\"0 -960 960 960\">\n",
              "    <path d=\"M120-120v-720h720v720H120Zm60-500h600v-160H180v160Zm220 220h160v-160H400v160Zm0 220h160v-160H400v160ZM180-400h160v-160H180v160Zm440 0h160v-160H620v160ZM180-180h160v-160H180v160Zm440 0h160v-160H620v160Z\"/>\n",
              "  </svg>\n",
              "    </button>\n",
              "\n",
              "  <style>\n",
              "    .colab-df-container {\n",
              "      display:flex;\n",
              "      gap: 12px;\n",
              "    }\n",
              "\n",
              "    .colab-df-convert {\n",
              "      background-color: #E8F0FE;\n",
              "      border: none;\n",
              "      border-radius: 50%;\n",
              "      cursor: pointer;\n",
              "      display: none;\n",
              "      fill: #1967D2;\n",
              "      height: 32px;\n",
              "      padding: 0 0 0 0;\n",
              "      width: 32px;\n",
              "    }\n",
              "\n",
              "    .colab-df-convert:hover {\n",
              "      background-color: #E2EBFA;\n",
              "      box-shadow: 0px 1px 2px rgba(60, 64, 67, 0.3), 0px 1px 3px 1px rgba(60, 64, 67, 0.15);\n",
              "      fill: #174EA6;\n",
              "    }\n",
              "\n",
              "    .colab-df-buttons div {\n",
              "      margin-bottom: 4px;\n",
              "    }\n",
              "\n",
              "    [theme=dark] .colab-df-convert {\n",
              "      background-color: #3B4455;\n",
              "      fill: #D2E3FC;\n",
              "    }\n",
              "\n",
              "    [theme=dark] .colab-df-convert:hover {\n",
              "      background-color: #434B5C;\n",
              "      box-shadow: 0px 1px 3px 1px rgba(0, 0, 0, 0.15);\n",
              "      filter: drop-shadow(0px 1px 2px rgba(0, 0, 0, 0.3));\n",
              "      fill: #FFFFFF;\n",
              "    }\n",
              "  </style>\n",
              "\n",
              "    <script>\n",
              "      const buttonEl =\n",
              "        document.querySelector('#df-e9480023-2f69-4c02-ab98-f4fc84cd5b92 button.colab-df-convert');\n",
              "      buttonEl.style.display =\n",
              "        google.colab.kernel.accessAllowed ? 'block' : 'none';\n",
              "\n",
              "      async function convertToInteractive(key) {\n",
              "        const element = document.querySelector('#df-e9480023-2f69-4c02-ab98-f4fc84cd5b92');\n",
              "        const dataTable =\n",
              "          await google.colab.kernel.invokeFunction('convertToInteractive',\n",
              "                                                    [key], {});\n",
              "        if (!dataTable) return;\n",
              "\n",
              "        const docLinkHtml = 'Like what you see? Visit the ' +\n",
              "          '<a target=\"_blank\" href=https://colab.research.google.com/notebooks/data_table.ipynb>data table notebook</a>'\n",
              "          + ' to learn more about interactive tables.';\n",
              "        element.innerHTML = '';\n",
              "        dataTable['output_type'] = 'display_data';\n",
              "        await google.colab.output.renderOutput(dataTable, element);\n",
              "        const docLink = document.createElement('div');\n",
              "        docLink.innerHTML = docLinkHtml;\n",
              "        element.appendChild(docLink);\n",
              "      }\n",
              "    </script>\n",
              "  </div>\n",
              "\n",
              "\n",
              "<div id=\"df-d114ce12-aca8-4cee-aeb6-28f9dda8c583\">\n",
              "  <button class=\"colab-df-quickchart\" onclick=\"quickchart('df-d114ce12-aca8-4cee-aeb6-28f9dda8c583')\"\n",
              "            title=\"Suggest charts.\"\n",
              "            style=\"display:none;\">\n",
              "\n",
              "<svg xmlns=\"http://www.w3.org/2000/svg\" height=\"24px\"viewBox=\"0 0 24 24\"\n",
              "     width=\"24px\">\n",
              "    <g>\n",
              "        <path d=\"M19 3H5c-1.1 0-2 .9-2 2v14c0 1.1.9 2 2 2h14c1.1 0 2-.9 2-2V5c0-1.1-.9-2-2-2zM9 17H7v-7h2v7zm4 0h-2V7h2v10zm4 0h-2v-4h2v4z\"/>\n",
              "    </g>\n",
              "</svg>\n",
              "  </button>\n",
              "\n",
              "<style>\n",
              "  .colab-df-quickchart {\n",
              "      --bg-color: #E8F0FE;\n",
              "      --fill-color: #1967D2;\n",
              "      --hover-bg-color: #E2EBFA;\n",
              "      --hover-fill-color: #174EA6;\n",
              "      --disabled-fill-color: #AAA;\n",
              "      --disabled-bg-color: #DDD;\n",
              "  }\n",
              "\n",
              "  [theme=dark] .colab-df-quickchart {\n",
              "      --bg-color: #3B4455;\n",
              "      --fill-color: #D2E3FC;\n",
              "      --hover-bg-color: #434B5C;\n",
              "      --hover-fill-color: #FFFFFF;\n",
              "      --disabled-bg-color: #3B4455;\n",
              "      --disabled-fill-color: #666;\n",
              "  }\n",
              "\n",
              "  .colab-df-quickchart {\n",
              "    background-color: var(--bg-color);\n",
              "    border: none;\n",
              "    border-radius: 50%;\n",
              "    cursor: pointer;\n",
              "    display: none;\n",
              "    fill: var(--fill-color);\n",
              "    height: 32px;\n",
              "    padding: 0;\n",
              "    width: 32px;\n",
              "  }\n",
              "\n",
              "  .colab-df-quickchart:hover {\n",
              "    background-color: var(--hover-bg-color);\n",
              "    box-shadow: 0 1px 2px rgba(60, 64, 67, 0.3), 0 1px 3px 1px rgba(60, 64, 67, 0.15);\n",
              "    fill: var(--button-hover-fill-color);\n",
              "  }\n",
              "\n",
              "  .colab-df-quickchart-complete:disabled,\n",
              "  .colab-df-quickchart-complete:disabled:hover {\n",
              "    background-color: var(--disabled-bg-color);\n",
              "    fill: var(--disabled-fill-color);\n",
              "    box-shadow: none;\n",
              "  }\n",
              "\n",
              "  .colab-df-spinner {\n",
              "    border: 2px solid var(--fill-color);\n",
              "    border-color: transparent;\n",
              "    border-bottom-color: var(--fill-color);\n",
              "    animation:\n",
              "      spin 1s steps(1) infinite;\n",
              "  }\n",
              "\n",
              "  @keyframes spin {\n",
              "    0% {\n",
              "      border-color: transparent;\n",
              "      border-bottom-color: var(--fill-color);\n",
              "      border-left-color: var(--fill-color);\n",
              "    }\n",
              "    20% {\n",
              "      border-color: transparent;\n",
              "      border-left-color: var(--fill-color);\n",
              "      border-top-color: var(--fill-color);\n",
              "    }\n",
              "    30% {\n",
              "      border-color: transparent;\n",
              "      border-left-color: var(--fill-color);\n",
              "      border-top-color: var(--fill-color);\n",
              "      border-right-color: var(--fill-color);\n",
              "    }\n",
              "    40% {\n",
              "      border-color: transparent;\n",
              "      border-right-color: var(--fill-color);\n",
              "      border-top-color: var(--fill-color);\n",
              "    }\n",
              "    60% {\n",
              "      border-color: transparent;\n",
              "      border-right-color: var(--fill-color);\n",
              "    }\n",
              "    80% {\n",
              "      border-color: transparent;\n",
              "      border-right-color: var(--fill-color);\n",
              "      border-bottom-color: var(--fill-color);\n",
              "    }\n",
              "    90% {\n",
              "      border-color: transparent;\n",
              "      border-bottom-color: var(--fill-color);\n",
              "    }\n",
              "  }\n",
              "</style>\n",
              "\n",
              "  <script>\n",
              "    async function quickchart(key) {\n",
              "      const quickchartButtonEl =\n",
              "        document.querySelector('#' + key + ' button');\n",
              "      quickchartButtonEl.disabled = true;  // To prevent multiple clicks.\n",
              "      quickchartButtonEl.classList.add('colab-df-spinner');\n",
              "      try {\n",
              "        const charts = await google.colab.kernel.invokeFunction(\n",
              "            'suggestCharts', [key], {});\n",
              "      } catch (error) {\n",
              "        console.error('Error during call to suggestCharts:', error);\n",
              "      }\n",
              "      quickchartButtonEl.classList.remove('colab-df-spinner');\n",
              "      quickchartButtonEl.classList.add('colab-df-quickchart-complete');\n",
              "    }\n",
              "    (() => {\n",
              "      let quickchartButtonEl =\n",
              "        document.querySelector('#df-d114ce12-aca8-4cee-aeb6-28f9dda8c583 button');\n",
              "      quickchartButtonEl.style.display =\n",
              "        google.colab.kernel.accessAllowed ? 'block' : 'none';\n",
              "    })();\n",
              "  </script>\n",
              "</div>\n",
              "    </div>\n",
              "  </div>\n"
            ]
          },
          "metadata": {},
          "execution_count": 29
        }
      ],
      "source": [
        "res_fall = pd.DataFrame([(course, ID) for course, IDs in coursedict.items() for ID in IDs], columns=['course', 'id'])\n",
        "res_fall = res_fall.assign(occurrence=res_fall.groupby('id').cumcount()).pivot_table(index='id', columns='occurrence', values='course', aggfunc='first').reset_index()\n",
        "res_fall.columns = ['id', 'course1', 'course2']\n",
        "\n",
        "res_fall.tail(5)\n"
      ]
    },
    {
      "cell_type": "markdown",
      "source": [
        "Добавим в наш датафрейм course1 и course2 и отсортируем его по перцентилю."
      ],
      "metadata": {
        "id": "KZuAITyhUr7n"
      }
    },
    {
      "cell_type": "code",
      "execution_count": 30,
      "metadata": {
        "id": "lBibMf2pA8K2"
      },
      "outputs": [],
      "source": [
        "df = df.merge(res_fall, on='id', how='left')\n",
        "df = df.sort_values('percentile', ascending = True)"
      ]
    },
    {
      "cell_type": "markdown",
      "metadata": {
        "id": "vc5zXP5hhLu5"
      },
      "source": [
        "Здесь для проверки приведена таблица, в которой есть 2 дополнительные колонки:\n",
        "    \n",
        "    1) is_first_place - является ли студент лучшим по перцентили хотя бы на одном из курсов, куда он был зачислен\n",
        "    (True / NaN)\n",
        "    \n",
        "    2) is_last_place  - является ли студент худшим по перцентили хотя бы на одном из курсов, куда он был зачислен (True / NaN)"
      ]
    },
    {
      "cell_type": "code",
      "execution_count": 31,
      "metadata": {
        "id": "uZTkGEq5hLu5"
      },
      "outputs": [],
      "source": [
        "!wget  -O '2_task_check.csv' -q 'https://www.dropbox.com/s/v8o2zzq3iz5gc9w/_2_task_check.csv?dl=0'\n",
        "check_df = pd.read_csv('2_task_check.csv')"
      ]
    },
    {
      "cell_type": "markdown",
      "metadata": {
        "id": "E_fbyB9qhLu5"
      },
      "source": [
        "После распределения студентов в соответствии с первым приоритетом добавьте в свой датафрейм аналогичные признаки и запустите проверку:"
      ]
    },
    {
      "cell_type": "code",
      "execution_count": 32,
      "metadata": {
        "id": "pTU6DFVcHsDD"
      },
      "outputs": [],
      "source": [
        "for index, row in df.iterrows():\n",
        "    same_course1 = df[(df['course1'] == row['course1']) | (df['course2'] == row['course1'])]\n",
        "    same_course2 = df[(df['course1'] == row['course2']) | (df['course2'] == row['course2'])]\n",
        "    if row['percentile'] == same_course1['percentile'].min() or row['percentile'] == same_course2['percentile'].min():\n",
        "        df.at[index, 'is_first_place'] = True\n",
        "    if row['percentile'] == same_course1['percentile'].max() or row['percentile'] == same_course2['percentile'].max():\n",
        "        df.at[index, 'is_last_place'] = True"
      ]
    },
    {
      "cell_type": "code",
      "execution_count": 33,
      "metadata": {
        "id": "GOAzQeYehLu6"
      },
      "outputs": [],
      "source": [
        "fir_col_name = 'is_first_place'\n",
        "last_col_name =  'is_last_place'\n",
        "\n",
        "\n",
        "assert((df[df[fir_col_name].isna() == False][['id']].sort_values('id').reset_index(drop=True)\n",
        "        ==\n",
        "        check_df[check_df['is_first_place'].isna() == False][['id']].sort_values('id').reset_index(drop=True)\n",
        "       ).id.values).all()\n",
        "\n",
        "\n",
        "assert((df[df[last_col_name].isna() == False][['id']].sort_values('id').reset_index(drop=True)\n",
        "       ==\n",
        "       check_df[check_df['is_last_place'].isna() == False][['id']].sort_values('id').reset_index(drop=True)\n",
        "      ).id.values).all()"
      ]
    },
    {
      "cell_type": "markdown",
      "metadata": {
        "id": "RO6DwNNFhLu6"
      },
      "source": [
        "#### 3. [3 балла] Проведите все три волны отбора студентов на курсы по выбору"
      ]
    },
    {
      "cell_type": "markdown",
      "source": [
        "Проведем 2-ю волну."
      ],
      "metadata": {
        "id": "4TOze3rvWVDI"
      }
    },
    {
      "cell_type": "code",
      "execution_count": 34,
      "metadata": {
        "id": "WTdancy1Okpe"
      },
      "outputs": [],
      "source": [
        "for key in coursedict: # Проходимся по всем курсам из списка\n",
        "  lst = df.index[(df['fall_2'] == key) & (df['course_number'] == 1) & (pd.isna(df['course1']))].tolist() # Создаем список индексов студентов, которые должны взять 1 курс, они ни на что не записаны, и этот курс стоит вторым приоритетом\n",
        "  lst.extend(df.index[(df['fall_3'] == key) & (df['course_number'] == 2) & (~pd.isna(df['course1'])) & (pd.isna(df['course2']))].tolist()) # Для тех, кому можно брать два курса, но они не записаны на второй\n",
        "  lst.extend(df.index[(df['fall_3'] == key) & (df['course_number'] == 2) & (pd.isna(df['course1'])) & (pd.isna(df['course2']))].tolist()) # Для тех, кому можно брать два курса, но они не записаны ни на какой\n",
        "  courseids = list(set(df.loc[lst, 'id'].tolist())) # По индексам находим id, отбрасываем повторных\n",
        "  courseids = [id for id in courseids if id not in coursedict[key]] # убираем студентов, которые уже записаны на этот курс\n",
        "  sorted_ids = df[df['id'].isin(courseids)].sort_values(by='percentile', ascending=True)['id'].tolist() #сортируем список студентов по их пернцентилю\n",
        "  if ((len(sorted_ids) + len(coursedict[key]) >= limit(key)) and (key not in limitinf)): # Проверяем, не превышает ли количество записанных студентов лимит\n",
        "    coursedict[key] += sorted_ids[:(limit(key) - len(coursedict[key]))] # Отбрасываем тех, кто не поместился\n",
        "  else:\n",
        "    coursedict[key] += sorted_ids # Заполняем словарь id"
      ]
    },
    {
      "cell_type": "code",
      "execution_count": 35,
      "metadata": {
        "id": "3EAY4L1obg_R"
      },
      "outputs": [],
      "source": [
        "res_fall = pd.DataFrame([(course, ID) for course, IDs in coursedict.items() for ID in IDs], columns=['course', 'id'])\n",
        "res_fall = res_fall.assign(occurrence=res_fall.groupby('id').cumcount()).pivot_table(index='id', columns='occurrence', values='course', aggfunc='first').reset_index()\n",
        "res_fall.columns = ['id', 'course1', 'course2']"
      ]
    },
    {
      "cell_type": "code",
      "execution_count": 36,
      "metadata": {
        "id": "ASASAEHod5S7"
      },
      "outputs": [],
      "source": [
        "df.set_index('id', inplace=True)\n",
        "res_fall.set_index('id', inplace=True)\n",
        "df.update(res_fall[['course1', 'course2']])\n",
        "df.reset_index(inplace=True)"
      ]
    },
    {
      "cell_type": "markdown",
      "source": [
        "Теперь проведем 3-ю волну."
      ],
      "metadata": {
        "id": "muVov17aWRqt"
      }
    },
    {
      "cell_type": "code",
      "execution_count": 37,
      "metadata": {
        "id": "gTBRnmmDePcQ"
      },
      "outputs": [],
      "source": [
        "for key in coursedict: # Проходимся по всем курсам из списка\n",
        "  lst = df.index[(df['fall_3'] == key) & (df['course_number'] == 1) & (pd.isna(df['course1']))].tolist() # Создаем список индексов студентов, которые должны взять 1 курс, они ни на что не записаны, и этот курс стоит третьим приоритетом\n",
        "  courseids = list(set(df.loc[lst, 'id'].tolist())) # По индексам находим id, убираем тех, кто повторяется\n",
        "  courseids = [id for id in courseids if id not in coursedict[key]] # убираем студентов, которые уже записаны на этот курс\n",
        "  sorted_ids = df[df['id'].isin(courseids)].sort_values(by='percentile', ascending=True)['id'].tolist() #сортируем список студентов по их пернцентилю\n",
        "  if ((len(sorted_ids) + len(coursedict[key]) >= limit(key)) and (key not in limitinf)): # Проверяем, не превышает ли количество записанных студентов лимит\n",
        "    coursedict[key] += sorted_ids[:(limit(key) - len(coursedict[key]))] # Отбрасываем тех, кто не поместился\n",
        "  else:\n",
        "    coursedict[key] += sorted_ids # Заполняем словарь id"
      ]
    },
    {
      "cell_type": "code",
      "source": [
        "res_fall = pd.DataFrame([(course, ID) for course, IDs in coursedict.items() for ID in IDs], columns=['course', 'id'])\n",
        "res_fall = res_fall.assign(occurrence=res_fall.groupby('id').cumcount()).pivot_table(index='id', columns='occurrence', values='course', aggfunc='first').reset_index()\n",
        "res_fall.columns = ['id', 'course1', 'course2']"
      ],
      "metadata": {
        "id": "2DnuxStNnSSb"
      },
      "execution_count": 38,
      "outputs": []
    },
    {
      "cell_type": "code",
      "source": [
        "res_fall = pd.merge(res_fall, data[['id', 'course_number']], on='id', how='outer')"
      ],
      "metadata": {
        "id": "OLxmSJ6GnVHz"
      },
      "execution_count": 39,
      "outputs": []
    },
    {
      "cell_type": "code",
      "source": [
        "res_fall.loc[pd.isna(res_fall['course1']), 'course1'] = \"???\"\n",
        "res_fall.loc[(pd.isna(res_fall['course2'])) & (res_fall['course_number'] == 2), 'course2'] = \"???\"\n",
        "res_fall.loc[(pd.isna(res_fall['course2'])) & (res_fall['course_number'] == 1), 'course2'] = \"-\""
      ],
      "metadata": {
        "id": "5pd316npnX0g"
      },
      "execution_count": 40,
      "outputs": []
    },
    {
      "cell_type": "code",
      "source": [
        "res_fall.drop(columns=['course_number'], inplace=True)"
      ],
      "metadata": {
        "id": "d8Lp-Ofsn0ZL"
      },
      "execution_count": 41,
      "outputs": []
    },
    {
      "cell_type": "code",
      "source": [
        "res_fall.rename(columns={'id': 'ID'}, inplace=True)"
      ],
      "metadata": {
        "id": "KIUqopMOq8wC"
      },
      "execution_count": 42,
      "outputs": []
    },
    {
      "cell_type": "code",
      "source": [
        "res_fall.to_csv('res_fall.csv', index=None)"
      ],
      "metadata": {
        "id": "vp5qS2eSn7i_"
      },
      "execution_count": 43,
      "outputs": []
    },
    {
      "cell_type": "code",
      "source": [
        "from google.colab import files"
      ],
      "metadata": {
        "id": "KpAwYhtpn9HR"
      },
      "execution_count": 44,
      "outputs": []
    },
    {
      "cell_type": "code",
      "source": [
        "files.download('res_fall.csv')"
      ],
      "metadata": {
        "id": "KGCx9cI-n_sB",
        "colab": {
          "base_uri": "https://localhost:8080/",
          "height": 34
        },
        "outputId": "2d43c400-5f77-4934-d5ca-afa192c49128"
      },
      "execution_count": 45,
      "outputs": [
        {
          "output_type": "display_data",
          "data": {
            "text/plain": [
              "<IPython.core.display.Javascript object>"
            ],
            "application/javascript": [
              "\n",
              "    async function download(id, filename, size) {\n",
              "      if (!google.colab.kernel.accessAllowed) {\n",
              "        return;\n",
              "      }\n",
              "      const div = document.createElement('div');\n",
              "      const label = document.createElement('label');\n",
              "      label.textContent = `Downloading \"${filename}\": `;\n",
              "      div.appendChild(label);\n",
              "      const progress = document.createElement('progress');\n",
              "      progress.max = size;\n",
              "      div.appendChild(progress);\n",
              "      document.body.appendChild(div);\n",
              "\n",
              "      const buffers = [];\n",
              "      let downloaded = 0;\n",
              "\n",
              "      const channel = await google.colab.kernel.comms.open(id);\n",
              "      // Send a message to notify the kernel that we're ready.\n",
              "      channel.send({})\n",
              "\n",
              "      for await (const message of channel.messages) {\n",
              "        // Send a message to notify the kernel that we're ready.\n",
              "        channel.send({})\n",
              "        if (message.buffers) {\n",
              "          for (const buffer of message.buffers) {\n",
              "            buffers.push(buffer);\n",
              "            downloaded += buffer.byteLength;\n",
              "            progress.value = downloaded;\n",
              "          }\n",
              "        }\n",
              "      }\n",
              "      const blob = new Blob(buffers, {type: 'application/binary'});\n",
              "      const a = document.createElement('a');\n",
              "      a.href = window.URL.createObjectURL(blob);\n",
              "      a.download = filename;\n",
              "      div.appendChild(a);\n",
              "      a.click();\n",
              "      div.remove();\n",
              "    }\n",
              "  "
            ]
          },
          "metadata": {}
        },
        {
          "output_type": "display_data",
          "data": {
            "text/plain": [
              "<IPython.core.display.Javascript object>"
            ],
            "application/javascript": [
              "download(\"download_b04b5b3c-0e7b-474b-9273-c2b8a0d9dbb6\", \"res_fall.csv\", 34454)"
            ]
          },
          "metadata": {}
        }
      ]
    },
    {
      "cell_type": "markdown",
      "metadata": {
        "id": "1xQjV9BuhLu6"
      },
      "source": [
        "**Отправьте свой файл res_fall.csv в контест (https://contest.yandex.ru/contest/40211/problems/A/) и прикрепите/укажите ниже ваш никнейм и ссылку на успешную посылку.**"
      ]
    },
    {
      "cell_type": "markdown",
      "source": [
        "Вера Буйлова: https://contest.yandex.ru/contest/40211/run-report/91799811/"
      ],
      "metadata": {
        "id": "7ehu98kMpCRQ"
      }
    },
    {
      "cell_type": "markdown",
      "metadata": {
        "id": "QRTbPrgbhLu6"
      },
      "source": [
        "*Дисклеймер:*\n",
        "\n",
        "Успешная посылка в контесте является **обязательным** условием получения полного балла за этот (и следующий) пункт. Если добиться успешной посылки не удастся, баллы будут выставляться на усмотрение проверяюшего.\n",
        "\n",
        "При этом ОК в контесте не гарантирует полный балл. Оценка всё равно может быть снижена в случае обнаружения неэффективностей или ошибок в коде. Если вы сдадите в AnyTask очевидно неработающий код или ноутбук без кода, но при этом в контест будет сдан корректный файл, то это будет расцениваться как плагиат."
      ]
    },
    {
      "cell_type": "markdown",
      "metadata": {
        "id": "1IkQa_gdhLu6"
      },
      "source": [
        "На всякий случай просим вас сдать вместе с ноутбуком файл res_fall.csv в anytask"
      ]
    },
    {
      "cell_type": "markdown",
      "metadata": {
        "id": "k8d711qGhLu7"
      },
      "source": [
        "**Дополнительное задание. [2 бонусных балла] Распределите таким же образом студентов еще и на весенние курсы по выбору.**\n",
        "\n",
        "Если ваш код был хорошо структурирован, то это не составит проблем.\n",
        "\n",
        "Если вы выполнили это задание, сдайте среди прочего файл res_spring.csv в таком же формате, как и res_fall.csv."
      ]
    },
    {
      "cell_type": "code",
      "source": [
        "df = data"
      ],
      "metadata": {
        "id": "w66y6FlacEM-"
      },
      "execution_count": 46,
      "outputs": []
    },
    {
      "cell_type": "markdown",
      "source": [
        "Создадим новый признак, отвечающий за то, сколько весенних курсов может брать студент))"
      ],
      "metadata": {
        "id": "1ZFygVBwcWzB"
      }
    },
    {
      "cell_type": "code",
      "source": [
        "def course_number(row):\n",
        "  if ((row['17_group'] == 171) | (row['17_group'] == 172) | (row['17_group'] == 173)):\n",
        "    return 2\n",
        "  else:\n",
        "    return 1\n",
        "df['course_number'] = df.apply(course_number, axis=1)"
      ],
      "metadata": {
        "id": "lLpJMkfUc38b"
      },
      "execution_count": 47,
      "outputs": []
    },
    {
      "cell_type": "markdown",
      "source": [
        "Обновим необходимые списки."
      ],
      "metadata": {
        "id": "MK6wiYP7dew3"
      }
    },
    {
      "cell_type": "code",
      "source": [
        "courselist = pd.unique(df[['spring_1', 'spring_2',  'spring_3']].values.ravel('K')) # Список всех курсов на весну\n",
        "res_spring = pd.DataFrame(columns=['ID', 'course1', 'course2']) # Итоговый датафрейм с курсами\n",
        "coursedict = {course: None for course in courselist} # Словарь, где ключи - курсы, а значения - студенты, которые на них записаны"
      ],
      "metadata": {
        "id": "7iCHqPHmdLAX"
      },
      "execution_count": 48,
      "outputs": []
    },
    {
      "cell_type": "markdown",
      "source": [
        "Разберемся со студентами МОПа, которые взяли МО-2."
      ],
      "metadata": {
        "id": "vkg_iXZ-iA9n"
      }
    },
    {
      "cell_type": "code",
      "source": [
        "df_ml = df[(df['is_ml_student'] == 1.0) &\n",
        "                     ((df['spring_1'] == 'Машинное обучение 2') |\n",
        "                      (df['spring_2'] == 'Машинное обучение 2') |\n",
        "                      (df['spring_3'] == 'Машинное обучение 2'))]"
      ],
      "metadata": {
        "id": "tvW6MX0TrDcx"
      },
      "execution_count": 49,
      "outputs": []
    },
    {
      "cell_type": "code",
      "source": [
        "df_ml"
      ],
      "metadata": {
        "id": "9DAGR-vGypEk",
        "colab": {
          "base_uri": "https://localhost:8080/",
          "height": 530
        },
        "outputId": "80fa0864-cb5f-4d68-b362-078172b40ba1"
      },
      "execution_count": 50,
      "outputs": [
        {
          "output_type": "execute_result",
          "data": {
            "text/plain": [
              "                  timestamp                                id  rating  \\\n",
              "20  2020-05-15 21:55:16.699  f0f6f3881894172a0f04e79b554b49e6     673   \n",
              "27  2020-05-16 13:02:24.706  5daee1bd98559bb2c52373e416942225     593   \n",
              "119 2020-05-18 20:34:07.220  fc2c60b8004aa91bc272df84628621ff     639   \n",
              "137 2020-05-18 21:24:23.667  6ed89e424179b0510e3f7c0cb7369ad6     558   \n",
              "179 2020-05-18 23:01:03.214  abceddfa2fc4eae8cff4a4e712abb3fb     664   \n",
              "\n",
              "    18_group  is_mi                                           fall_1  \\\n",
              "20     181.0    0.0                 Безопасность компьютерных систем   \n",
              "27     182.0    0.0  Сбор и обработка данных с помощью краудсорсинга   \n",
              "119    183.0    0.0                                         Язык SQL   \n",
              "137    187.0    0.0                    Моделирование временных рядов   \n",
              "179    183.0    0.0                    Моделирование временных рядов   \n",
              "\n",
              "                                                fall_2  \\\n",
              "20     Сбор и обработка данных с помощью краудсорсинга   \n",
              "27                         Statistical Learning Theory   \n",
              "119    Сбор и обработка данных с помощью краудсорсинга   \n",
              "137                               Матричные вычисления   \n",
              "179  Принятие решений в условиях риска и неопределё...   \n",
              "\n",
              "                                                fall_3  \\\n",
              "20   Принятие решений в условиях риска и неопределё...   \n",
              "27                       Моделирование временных рядов   \n",
              "119                        Statistical Learning Theory   \n",
              "137                                           Язык SQL   \n",
              "179                        Statistical Learning Theory   \n",
              "\n",
              "                    spring_1                                     spring_2  \\\n",
              "20       Машинное обучение 2                             Численные методы   \n",
              "27       Машинное обучение 2  Промышленное программирование на языке Java   \n",
              "119       Системы баз данных                          Машинное обучение 2   \n",
              "137  Анализ данных в бизнесе  Промышленное программирование на языке Java   \n",
              "179      Машинное обучение 2  Промышленное программирование на языке Java   \n",
              "\n",
              "                                       spring_3 is_first_time  percentile  \\\n",
              "20   Дополнительные главы прикладной статистики            Да    0.300448   \n",
              "27                      Анализ данных в бизнесе           Нет    0.681614   \n",
              "119                     Анализ данных в бизнесе           Нет    0.461883   \n",
              "137                         Машинное обучение 2            Да    0.838565   \n",
              "179  Дополнительные главы прикладной статистики            Да    0.345291   \n",
              "\n",
              "     17_group blended is_ml_student        date  course_number  \n",
              "20        0.0                   1.0  2020-05-15              1  \n",
              "27        0.0                   1.0  2020-05-16              1  \n",
              "119       0.0                   1.0  2020-05-18              1  \n",
              "137       0.0                   1.0  2020-05-18              1  \n",
              "179       0.0                   1.0  2020-05-18              1  "
            ],
            "text/html": [
              "\n",
              "  <div id=\"df-03a1fecf-219f-4cdb-a95b-45c47cdd2478\" class=\"colab-df-container\">\n",
              "    <div>\n",
              "<style scoped>\n",
              "    .dataframe tbody tr th:only-of-type {\n",
              "        vertical-align: middle;\n",
              "    }\n",
              "\n",
              "    .dataframe tbody tr th {\n",
              "        vertical-align: top;\n",
              "    }\n",
              "\n",
              "    .dataframe thead th {\n",
              "        text-align: right;\n",
              "    }\n",
              "</style>\n",
              "<table border=\"1\" class=\"dataframe\">\n",
              "  <thead>\n",
              "    <tr style=\"text-align: right;\">\n",
              "      <th></th>\n",
              "      <th>timestamp</th>\n",
              "      <th>id</th>\n",
              "      <th>rating</th>\n",
              "      <th>18_group</th>\n",
              "      <th>is_mi</th>\n",
              "      <th>fall_1</th>\n",
              "      <th>fall_2</th>\n",
              "      <th>fall_3</th>\n",
              "      <th>spring_1</th>\n",
              "      <th>spring_2</th>\n",
              "      <th>spring_3</th>\n",
              "      <th>is_first_time</th>\n",
              "      <th>percentile</th>\n",
              "      <th>17_group</th>\n",
              "      <th>blended</th>\n",
              "      <th>is_ml_student</th>\n",
              "      <th>date</th>\n",
              "      <th>course_number</th>\n",
              "    </tr>\n",
              "  </thead>\n",
              "  <tbody>\n",
              "    <tr>\n",
              "      <th>20</th>\n",
              "      <td>2020-05-15 21:55:16.699</td>\n",
              "      <td>f0f6f3881894172a0f04e79b554b49e6</td>\n",
              "      <td>673</td>\n",
              "      <td>181.0</td>\n",
              "      <td>0.0</td>\n",
              "      <td>Безопасность компьютерных систем</td>\n",
              "      <td>Сбор и обработка данных с помощью краудсорсинга</td>\n",
              "      <td>Принятие решений в условиях риска и неопределё...</td>\n",
              "      <td>Машинное обучение 2</td>\n",
              "      <td>Численные методы</td>\n",
              "      <td>Дополнительные главы прикладной статистики</td>\n",
              "      <td>Да</td>\n",
              "      <td>0.300448</td>\n",
              "      <td>0.0</td>\n",
              "      <td></td>\n",
              "      <td>1.0</td>\n",
              "      <td>2020-05-15</td>\n",
              "      <td>1</td>\n",
              "    </tr>\n",
              "    <tr>\n",
              "      <th>27</th>\n",
              "      <td>2020-05-16 13:02:24.706</td>\n",
              "      <td>5daee1bd98559bb2c52373e416942225</td>\n",
              "      <td>593</td>\n",
              "      <td>182.0</td>\n",
              "      <td>0.0</td>\n",
              "      <td>Сбор и обработка данных с помощью краудсорсинга</td>\n",
              "      <td>Statistical Learning Theory</td>\n",
              "      <td>Моделирование временных рядов</td>\n",
              "      <td>Машинное обучение 2</td>\n",
              "      <td>Промышленное программирование на языке Java</td>\n",
              "      <td>Анализ данных в бизнесе</td>\n",
              "      <td>Нет</td>\n",
              "      <td>0.681614</td>\n",
              "      <td>0.0</td>\n",
              "      <td></td>\n",
              "      <td>1.0</td>\n",
              "      <td>2020-05-16</td>\n",
              "      <td>1</td>\n",
              "    </tr>\n",
              "    <tr>\n",
              "      <th>119</th>\n",
              "      <td>2020-05-18 20:34:07.220</td>\n",
              "      <td>fc2c60b8004aa91bc272df84628621ff</td>\n",
              "      <td>639</td>\n",
              "      <td>183.0</td>\n",
              "      <td>0.0</td>\n",
              "      <td>Язык SQL</td>\n",
              "      <td>Сбор и обработка данных с помощью краудсорсинга</td>\n",
              "      <td>Statistical Learning Theory</td>\n",
              "      <td>Системы баз данных</td>\n",
              "      <td>Машинное обучение 2</td>\n",
              "      <td>Анализ данных в бизнесе</td>\n",
              "      <td>Нет</td>\n",
              "      <td>0.461883</td>\n",
              "      <td>0.0</td>\n",
              "      <td></td>\n",
              "      <td>1.0</td>\n",
              "      <td>2020-05-18</td>\n",
              "      <td>1</td>\n",
              "    </tr>\n",
              "    <tr>\n",
              "      <th>137</th>\n",
              "      <td>2020-05-18 21:24:23.667</td>\n",
              "      <td>6ed89e424179b0510e3f7c0cb7369ad6</td>\n",
              "      <td>558</td>\n",
              "      <td>187.0</td>\n",
              "      <td>0.0</td>\n",
              "      <td>Моделирование временных рядов</td>\n",
              "      <td>Матричные вычисления</td>\n",
              "      <td>Язык SQL</td>\n",
              "      <td>Анализ данных в бизнесе</td>\n",
              "      <td>Промышленное программирование на языке Java</td>\n",
              "      <td>Машинное обучение 2</td>\n",
              "      <td>Да</td>\n",
              "      <td>0.838565</td>\n",
              "      <td>0.0</td>\n",
              "      <td></td>\n",
              "      <td>1.0</td>\n",
              "      <td>2020-05-18</td>\n",
              "      <td>1</td>\n",
              "    </tr>\n",
              "    <tr>\n",
              "      <th>179</th>\n",
              "      <td>2020-05-18 23:01:03.214</td>\n",
              "      <td>abceddfa2fc4eae8cff4a4e712abb3fb</td>\n",
              "      <td>664</td>\n",
              "      <td>183.0</td>\n",
              "      <td>0.0</td>\n",
              "      <td>Моделирование временных рядов</td>\n",
              "      <td>Принятие решений в условиях риска и неопределё...</td>\n",
              "      <td>Statistical Learning Theory</td>\n",
              "      <td>Машинное обучение 2</td>\n",
              "      <td>Промышленное программирование на языке Java</td>\n",
              "      <td>Дополнительные главы прикладной статистики</td>\n",
              "      <td>Да</td>\n",
              "      <td>0.345291</td>\n",
              "      <td>0.0</td>\n",
              "      <td></td>\n",
              "      <td>1.0</td>\n",
              "      <td>2020-05-18</td>\n",
              "      <td>1</td>\n",
              "    </tr>\n",
              "  </tbody>\n",
              "</table>\n",
              "</div>\n",
              "    <div class=\"colab-df-buttons\">\n",
              "\n",
              "  <div class=\"colab-df-container\">\n",
              "    <button class=\"colab-df-convert\" onclick=\"convertToInteractive('df-03a1fecf-219f-4cdb-a95b-45c47cdd2478')\"\n",
              "            title=\"Convert this dataframe to an interactive table.\"\n",
              "            style=\"display:none;\">\n",
              "\n",
              "  <svg xmlns=\"http://www.w3.org/2000/svg\" height=\"24px\" viewBox=\"0 -960 960 960\">\n",
              "    <path d=\"M120-120v-720h720v720H120Zm60-500h600v-160H180v160Zm220 220h160v-160H400v160Zm0 220h160v-160H400v160ZM180-400h160v-160H180v160Zm440 0h160v-160H620v160ZM180-180h160v-160H180v160Zm440 0h160v-160H620v160Z\"/>\n",
              "  </svg>\n",
              "    </button>\n",
              "\n",
              "  <style>\n",
              "    .colab-df-container {\n",
              "      display:flex;\n",
              "      gap: 12px;\n",
              "    }\n",
              "\n",
              "    .colab-df-convert {\n",
              "      background-color: #E8F0FE;\n",
              "      border: none;\n",
              "      border-radius: 50%;\n",
              "      cursor: pointer;\n",
              "      display: none;\n",
              "      fill: #1967D2;\n",
              "      height: 32px;\n",
              "      padding: 0 0 0 0;\n",
              "      width: 32px;\n",
              "    }\n",
              "\n",
              "    .colab-df-convert:hover {\n",
              "      background-color: #E2EBFA;\n",
              "      box-shadow: 0px 1px 2px rgba(60, 64, 67, 0.3), 0px 1px 3px 1px rgba(60, 64, 67, 0.15);\n",
              "      fill: #174EA6;\n",
              "    }\n",
              "\n",
              "    .colab-df-buttons div {\n",
              "      margin-bottom: 4px;\n",
              "    }\n",
              "\n",
              "    [theme=dark] .colab-df-convert {\n",
              "      background-color: #3B4455;\n",
              "      fill: #D2E3FC;\n",
              "    }\n",
              "\n",
              "    [theme=dark] .colab-df-convert:hover {\n",
              "      background-color: #434B5C;\n",
              "      box-shadow: 0px 1px 3px 1px rgba(0, 0, 0, 0.15);\n",
              "      filter: drop-shadow(0px 1px 2px rgba(0, 0, 0, 0.3));\n",
              "      fill: #FFFFFF;\n",
              "    }\n",
              "  </style>\n",
              "\n",
              "    <script>\n",
              "      const buttonEl =\n",
              "        document.querySelector('#df-03a1fecf-219f-4cdb-a95b-45c47cdd2478 button.colab-df-convert');\n",
              "      buttonEl.style.display =\n",
              "        google.colab.kernel.accessAllowed ? 'block' : 'none';\n",
              "\n",
              "      async function convertToInteractive(key) {\n",
              "        const element = document.querySelector('#df-03a1fecf-219f-4cdb-a95b-45c47cdd2478');\n",
              "        const dataTable =\n",
              "          await google.colab.kernel.invokeFunction('convertToInteractive',\n",
              "                                                    [key], {});\n",
              "        if (!dataTable) return;\n",
              "\n",
              "        const docLinkHtml = 'Like what you see? Visit the ' +\n",
              "          '<a target=\"_blank\" href=https://colab.research.google.com/notebooks/data_table.ipynb>data table notebook</a>'\n",
              "          + ' to learn more about interactive tables.';\n",
              "        element.innerHTML = '';\n",
              "        dataTable['output_type'] = 'display_data';\n",
              "        await google.colab.output.renderOutput(dataTable, element);\n",
              "        const docLink = document.createElement('div');\n",
              "        docLink.innerHTML = docLinkHtml;\n",
              "        element.appendChild(docLink);\n",
              "      }\n",
              "    </script>\n",
              "  </div>\n",
              "\n",
              "\n",
              "<div id=\"df-01bb18f5-0fda-45fe-86e2-837127983918\">\n",
              "  <button class=\"colab-df-quickchart\" onclick=\"quickchart('df-01bb18f5-0fda-45fe-86e2-837127983918')\"\n",
              "            title=\"Suggest charts.\"\n",
              "            style=\"display:none;\">\n",
              "\n",
              "<svg xmlns=\"http://www.w3.org/2000/svg\" height=\"24px\"viewBox=\"0 0 24 24\"\n",
              "     width=\"24px\">\n",
              "    <g>\n",
              "        <path d=\"M19 3H5c-1.1 0-2 .9-2 2v14c0 1.1.9 2 2 2h14c1.1 0 2-.9 2-2V5c0-1.1-.9-2-2-2zM9 17H7v-7h2v7zm4 0h-2V7h2v10zm4 0h-2v-4h2v4z\"/>\n",
              "    </g>\n",
              "</svg>\n",
              "  </button>\n",
              "\n",
              "<style>\n",
              "  .colab-df-quickchart {\n",
              "      --bg-color: #E8F0FE;\n",
              "      --fill-color: #1967D2;\n",
              "      --hover-bg-color: #E2EBFA;\n",
              "      --hover-fill-color: #174EA6;\n",
              "      --disabled-fill-color: #AAA;\n",
              "      --disabled-bg-color: #DDD;\n",
              "  }\n",
              "\n",
              "  [theme=dark] .colab-df-quickchart {\n",
              "      --bg-color: #3B4455;\n",
              "      --fill-color: #D2E3FC;\n",
              "      --hover-bg-color: #434B5C;\n",
              "      --hover-fill-color: #FFFFFF;\n",
              "      --disabled-bg-color: #3B4455;\n",
              "      --disabled-fill-color: #666;\n",
              "  }\n",
              "\n",
              "  .colab-df-quickchart {\n",
              "    background-color: var(--bg-color);\n",
              "    border: none;\n",
              "    border-radius: 50%;\n",
              "    cursor: pointer;\n",
              "    display: none;\n",
              "    fill: var(--fill-color);\n",
              "    height: 32px;\n",
              "    padding: 0;\n",
              "    width: 32px;\n",
              "  }\n",
              "\n",
              "  .colab-df-quickchart:hover {\n",
              "    background-color: var(--hover-bg-color);\n",
              "    box-shadow: 0 1px 2px rgba(60, 64, 67, 0.3), 0 1px 3px 1px rgba(60, 64, 67, 0.15);\n",
              "    fill: var(--button-hover-fill-color);\n",
              "  }\n",
              "\n",
              "  .colab-df-quickchart-complete:disabled,\n",
              "  .colab-df-quickchart-complete:disabled:hover {\n",
              "    background-color: var(--disabled-bg-color);\n",
              "    fill: var(--disabled-fill-color);\n",
              "    box-shadow: none;\n",
              "  }\n",
              "\n",
              "  .colab-df-spinner {\n",
              "    border: 2px solid var(--fill-color);\n",
              "    border-color: transparent;\n",
              "    border-bottom-color: var(--fill-color);\n",
              "    animation:\n",
              "      spin 1s steps(1) infinite;\n",
              "  }\n",
              "\n",
              "  @keyframes spin {\n",
              "    0% {\n",
              "      border-color: transparent;\n",
              "      border-bottom-color: var(--fill-color);\n",
              "      border-left-color: var(--fill-color);\n",
              "    }\n",
              "    20% {\n",
              "      border-color: transparent;\n",
              "      border-left-color: var(--fill-color);\n",
              "      border-top-color: var(--fill-color);\n",
              "    }\n",
              "    30% {\n",
              "      border-color: transparent;\n",
              "      border-left-color: var(--fill-color);\n",
              "      border-top-color: var(--fill-color);\n",
              "      border-right-color: var(--fill-color);\n",
              "    }\n",
              "    40% {\n",
              "      border-color: transparent;\n",
              "      border-right-color: var(--fill-color);\n",
              "      border-top-color: var(--fill-color);\n",
              "    }\n",
              "    60% {\n",
              "      border-color: transparent;\n",
              "      border-right-color: var(--fill-color);\n",
              "    }\n",
              "    80% {\n",
              "      border-color: transparent;\n",
              "      border-right-color: var(--fill-color);\n",
              "      border-bottom-color: var(--fill-color);\n",
              "    }\n",
              "    90% {\n",
              "      border-color: transparent;\n",
              "      border-bottom-color: var(--fill-color);\n",
              "    }\n",
              "  }\n",
              "</style>\n",
              "\n",
              "  <script>\n",
              "    async function quickchart(key) {\n",
              "      const quickchartButtonEl =\n",
              "        document.querySelector('#' + key + ' button');\n",
              "      quickchartButtonEl.disabled = true;  // To prevent multiple clicks.\n",
              "      quickchartButtonEl.classList.add('colab-df-spinner');\n",
              "      try {\n",
              "        const charts = await google.colab.kernel.invokeFunction(\n",
              "            'suggestCharts', [key], {});\n",
              "      } catch (error) {\n",
              "        console.error('Error during call to suggestCharts:', error);\n",
              "      }\n",
              "      quickchartButtonEl.classList.remove('colab-df-spinner');\n",
              "      quickchartButtonEl.classList.add('colab-df-quickchart-complete');\n",
              "    }\n",
              "    (() => {\n",
              "      let quickchartButtonEl =\n",
              "        document.querySelector('#df-01bb18f5-0fda-45fe-86e2-837127983918 button');\n",
              "      quickchartButtonEl.style.display =\n",
              "        google.colab.kernel.accessAllowed ? 'block' : 'none';\n",
              "    })();\n",
              "  </script>\n",
              "</div>\n",
              "    </div>\n",
              "  </div>\n"
            ]
          },
          "metadata": {},
          "execution_count": 50
        }
      ]
    },
    {
      "cell_type": "code",
      "source": [
        "# Если МО2 в spring_3\n",
        "df_ml.loc[df_ml[\"spring_3\"] == \"Машинное обучение 2\", \"spring_3\"] = np.nan\n",
        "\n",
        "# Если МО2 в spring_2\n",
        "condition = df_ml['spring_2'] == 'Машинное обучение 2'\n",
        "df_ml.loc[condition, 'spring_2'] = df_ml.loc[condition, 'spring_3']\n",
        "df_ml.loc[condition, 'spring_3'] = np.nan\n",
        "\n",
        "# Если МО2 в spring_1\n",
        "condition = df_ml['spring_1'] == 'Машинное обучение 2'\n",
        "df_ml.loc[condition, 'spring_1'] = df_ml.loc[condition, 'spring_2']\n",
        "df_ml.loc[condition, 'spring_2'] = df_ml.loc[condition, 'spring_3']\n",
        "df_ml.loc[condition, 'spring_3'] = np.nan"
      ],
      "metadata": {
        "id": "Lb_tUaM9iG9k"
      },
      "execution_count": 51,
      "outputs": []
    },
    {
      "cell_type": "code",
      "source": [
        "df_ml.fillna('???', inplace=True)"
      ],
      "metadata": {
        "id": "YtgrjRhO1UbJ",
        "colab": {
          "base_uri": "https://localhost:8080/"
        },
        "outputId": "75d0fdd6-4bae-42ee-866f-cd1a30bbb2ed"
      },
      "execution_count": 52,
      "outputs": [
        {
          "output_type": "stream",
          "name": "stderr",
          "text": [
            "<ipython-input-52-4b4a88646af0>:1: SettingWithCopyWarning: \n",
            "A value is trying to be set on a copy of a slice from a DataFrame\n",
            "\n",
            "See the caveats in the documentation: https://pandas.pydata.org/pandas-docs/stable/user_guide/indexing.html#returning-a-view-versus-a-copy\n",
            "  df_ml.fillna('???', inplace=True)\n"
          ]
        }
      ]
    },
    {
      "cell_type": "markdown",
      "source": [
        "Объединим наш старый датафрейм с новым."
      ],
      "metadata": {
        "id": "wo-k2J4exYRg"
      }
    },
    {
      "cell_type": "code",
      "source": [
        "df.update(df_ml)"
      ],
      "metadata": {
        "id": "92dKiMspxgdd"
      },
      "execution_count": 53,
      "outputs": []
    },
    {
      "cell_type": "markdown",
      "source": [
        "Проведем первую волну."
      ],
      "metadata": {
        "id": "QE5wSbU8d5Sr"
      }
    },
    {
      "cell_type": "code",
      "source": [
        "for key in coursedict: # Проходимся по всем курсам из списка\n",
        "  lst = df.index[df['spring_1'] == key].tolist() # Создаем список индексов студентов, у которых курс стоит первым приоритетом\n",
        "  lst.extend(df.index[(df['course_number'] == 2) & (df['spring_2'] == key)].tolist()) # Для тех, кому можно брать два курса\n",
        "  courseids = list(set(df.loc[lst, 'id'].tolist())) # По индексам находим id, убираем повторяющихся студентов\n",
        "  sorted_ids = df[df['id'].isin(courseids)].sort_values(by='percentile', ascending=True)['id'].tolist() #сортируем список студентов по их пернцентилю\n",
        "  if((len((sorted_ids)) > limit(key)) and (key not in limitinf)): # Проверяем, не превышает ли количество записанных студентов лимит\n",
        "    coursedict[key] = (sorted_ids[:limit(key)]) # Отбрасываем тех, кто не поместился\n",
        "  else:\n",
        "    coursedict[key] = sorted_ids # Заполняем словарь id"
      ],
      "metadata": {
        "id": "15yEKUL5d3y4"
      },
      "execution_count": 54,
      "outputs": []
    },
    {
      "cell_type": "markdown",
      "source": [
        "Заполним нашу табличку."
      ],
      "metadata": {
        "id": "mzGDXNRReONv"
      }
    },
    {
      "cell_type": "code",
      "source": [
        "res_spring = pd.DataFrame([(course, ID) for course, IDs in coursedict.items() for ID in IDs], columns=['course', 'id'])\n",
        "res_spring = res_spring.assign(occurrence=res_spring.groupby('id').cumcount()).pivot_table(index='id', columns='occurrence', values='course', aggfunc='first').reset_index()\n",
        "res_spring.columns = ['id', 'course1', 'course2']\n",
        "\n",
        "res_spring.tail(5)"
      ],
      "metadata": {
        "id": "69X_mcgReJR-",
        "colab": {
          "base_uri": "https://localhost:8080/",
          "height": 204
        },
        "outputId": "7d3137d1-5849-47bd-d810-00c366fbb978"
      },
      "execution_count": 55,
      "outputs": [
        {
          "output_type": "execute_result",
          "data": {
            "text/plain": [
              "                                   id                   course1  \\\n",
              "284  fe631bea98b075dd781e11df3987533b    Конфликты и кооперация   \n",
              "285  fecff7bd30995d16b59fb392d47b3760       Компьютерное зрение   \n",
              "286  ff549c331d45453052f28ad2614afda9          Численные методы   \n",
              "287  ffc04c64d068f8d85e4dc44e7f297ecc  Обучение с подкреплением   \n",
              "288  ffc58d371e2f52e1c7f45d49d3d629d0        Системы баз данных   \n",
              "\n",
              "                                     course2  \n",
              "284                    Символьные вычисления  \n",
              "285                 Обучение с подкреплением  \n",
              "286                                      NaN  \n",
              "287  Генеративные модели в машинном обучении  \n",
              "288                                      NaN  "
            ],
            "text/html": [
              "\n",
              "  <div id=\"df-23118747-2139-43a1-a3b8-b1fc54fb7be4\" class=\"colab-df-container\">\n",
              "    <div>\n",
              "<style scoped>\n",
              "    .dataframe tbody tr th:only-of-type {\n",
              "        vertical-align: middle;\n",
              "    }\n",
              "\n",
              "    .dataframe tbody tr th {\n",
              "        vertical-align: top;\n",
              "    }\n",
              "\n",
              "    .dataframe thead th {\n",
              "        text-align: right;\n",
              "    }\n",
              "</style>\n",
              "<table border=\"1\" class=\"dataframe\">\n",
              "  <thead>\n",
              "    <tr style=\"text-align: right;\">\n",
              "      <th></th>\n",
              "      <th>id</th>\n",
              "      <th>course1</th>\n",
              "      <th>course2</th>\n",
              "    </tr>\n",
              "  </thead>\n",
              "  <tbody>\n",
              "    <tr>\n",
              "      <th>284</th>\n",
              "      <td>fe631bea98b075dd781e11df3987533b</td>\n",
              "      <td>Конфликты и кооперация</td>\n",
              "      <td>Символьные вычисления</td>\n",
              "    </tr>\n",
              "    <tr>\n",
              "      <th>285</th>\n",
              "      <td>fecff7bd30995d16b59fb392d47b3760</td>\n",
              "      <td>Компьютерное зрение</td>\n",
              "      <td>Обучение с подкреплением</td>\n",
              "    </tr>\n",
              "    <tr>\n",
              "      <th>286</th>\n",
              "      <td>ff549c331d45453052f28ad2614afda9</td>\n",
              "      <td>Численные методы</td>\n",
              "      <td>NaN</td>\n",
              "    </tr>\n",
              "    <tr>\n",
              "      <th>287</th>\n",
              "      <td>ffc04c64d068f8d85e4dc44e7f297ecc</td>\n",
              "      <td>Обучение с подкреплением</td>\n",
              "      <td>Генеративные модели в машинном обучении</td>\n",
              "    </tr>\n",
              "    <tr>\n",
              "      <th>288</th>\n",
              "      <td>ffc58d371e2f52e1c7f45d49d3d629d0</td>\n",
              "      <td>Системы баз данных</td>\n",
              "      <td>NaN</td>\n",
              "    </tr>\n",
              "  </tbody>\n",
              "</table>\n",
              "</div>\n",
              "    <div class=\"colab-df-buttons\">\n",
              "\n",
              "  <div class=\"colab-df-container\">\n",
              "    <button class=\"colab-df-convert\" onclick=\"convertToInteractive('df-23118747-2139-43a1-a3b8-b1fc54fb7be4')\"\n",
              "            title=\"Convert this dataframe to an interactive table.\"\n",
              "            style=\"display:none;\">\n",
              "\n",
              "  <svg xmlns=\"http://www.w3.org/2000/svg\" height=\"24px\" viewBox=\"0 -960 960 960\">\n",
              "    <path d=\"M120-120v-720h720v720H120Zm60-500h600v-160H180v160Zm220 220h160v-160H400v160Zm0 220h160v-160H400v160ZM180-400h160v-160H180v160Zm440 0h160v-160H620v160ZM180-180h160v-160H180v160Zm440 0h160v-160H620v160Z\"/>\n",
              "  </svg>\n",
              "    </button>\n",
              "\n",
              "  <style>\n",
              "    .colab-df-container {\n",
              "      display:flex;\n",
              "      gap: 12px;\n",
              "    }\n",
              "\n",
              "    .colab-df-convert {\n",
              "      background-color: #E8F0FE;\n",
              "      border: none;\n",
              "      border-radius: 50%;\n",
              "      cursor: pointer;\n",
              "      display: none;\n",
              "      fill: #1967D2;\n",
              "      height: 32px;\n",
              "      padding: 0 0 0 0;\n",
              "      width: 32px;\n",
              "    }\n",
              "\n",
              "    .colab-df-convert:hover {\n",
              "      background-color: #E2EBFA;\n",
              "      box-shadow: 0px 1px 2px rgba(60, 64, 67, 0.3), 0px 1px 3px 1px rgba(60, 64, 67, 0.15);\n",
              "      fill: #174EA6;\n",
              "    }\n",
              "\n",
              "    .colab-df-buttons div {\n",
              "      margin-bottom: 4px;\n",
              "    }\n",
              "\n",
              "    [theme=dark] .colab-df-convert {\n",
              "      background-color: #3B4455;\n",
              "      fill: #D2E3FC;\n",
              "    }\n",
              "\n",
              "    [theme=dark] .colab-df-convert:hover {\n",
              "      background-color: #434B5C;\n",
              "      box-shadow: 0px 1px 3px 1px rgba(0, 0, 0, 0.15);\n",
              "      filter: drop-shadow(0px 1px 2px rgba(0, 0, 0, 0.3));\n",
              "      fill: #FFFFFF;\n",
              "    }\n",
              "  </style>\n",
              "\n",
              "    <script>\n",
              "      const buttonEl =\n",
              "        document.querySelector('#df-23118747-2139-43a1-a3b8-b1fc54fb7be4 button.colab-df-convert');\n",
              "      buttonEl.style.display =\n",
              "        google.colab.kernel.accessAllowed ? 'block' : 'none';\n",
              "\n",
              "      async function convertToInteractive(key) {\n",
              "        const element = document.querySelector('#df-23118747-2139-43a1-a3b8-b1fc54fb7be4');\n",
              "        const dataTable =\n",
              "          await google.colab.kernel.invokeFunction('convertToInteractive',\n",
              "                                                    [key], {});\n",
              "        if (!dataTable) return;\n",
              "\n",
              "        const docLinkHtml = 'Like what you see? Visit the ' +\n",
              "          '<a target=\"_blank\" href=https://colab.research.google.com/notebooks/data_table.ipynb>data table notebook</a>'\n",
              "          + ' to learn more about interactive tables.';\n",
              "        element.innerHTML = '';\n",
              "        dataTable['output_type'] = 'display_data';\n",
              "        await google.colab.output.renderOutput(dataTable, element);\n",
              "        const docLink = document.createElement('div');\n",
              "        docLink.innerHTML = docLinkHtml;\n",
              "        element.appendChild(docLink);\n",
              "      }\n",
              "    </script>\n",
              "  </div>\n",
              "\n",
              "\n",
              "<div id=\"df-e0347d48-6f12-4d8a-9bc1-b98beae09621\">\n",
              "  <button class=\"colab-df-quickchart\" onclick=\"quickchart('df-e0347d48-6f12-4d8a-9bc1-b98beae09621')\"\n",
              "            title=\"Suggest charts.\"\n",
              "            style=\"display:none;\">\n",
              "\n",
              "<svg xmlns=\"http://www.w3.org/2000/svg\" height=\"24px\"viewBox=\"0 0 24 24\"\n",
              "     width=\"24px\">\n",
              "    <g>\n",
              "        <path d=\"M19 3H5c-1.1 0-2 .9-2 2v14c0 1.1.9 2 2 2h14c1.1 0 2-.9 2-2V5c0-1.1-.9-2-2-2zM9 17H7v-7h2v7zm4 0h-2V7h2v10zm4 0h-2v-4h2v4z\"/>\n",
              "    </g>\n",
              "</svg>\n",
              "  </button>\n",
              "\n",
              "<style>\n",
              "  .colab-df-quickchart {\n",
              "      --bg-color: #E8F0FE;\n",
              "      --fill-color: #1967D2;\n",
              "      --hover-bg-color: #E2EBFA;\n",
              "      --hover-fill-color: #174EA6;\n",
              "      --disabled-fill-color: #AAA;\n",
              "      --disabled-bg-color: #DDD;\n",
              "  }\n",
              "\n",
              "  [theme=dark] .colab-df-quickchart {\n",
              "      --bg-color: #3B4455;\n",
              "      --fill-color: #D2E3FC;\n",
              "      --hover-bg-color: #434B5C;\n",
              "      --hover-fill-color: #FFFFFF;\n",
              "      --disabled-bg-color: #3B4455;\n",
              "      --disabled-fill-color: #666;\n",
              "  }\n",
              "\n",
              "  .colab-df-quickchart {\n",
              "    background-color: var(--bg-color);\n",
              "    border: none;\n",
              "    border-radius: 50%;\n",
              "    cursor: pointer;\n",
              "    display: none;\n",
              "    fill: var(--fill-color);\n",
              "    height: 32px;\n",
              "    padding: 0;\n",
              "    width: 32px;\n",
              "  }\n",
              "\n",
              "  .colab-df-quickchart:hover {\n",
              "    background-color: var(--hover-bg-color);\n",
              "    box-shadow: 0 1px 2px rgba(60, 64, 67, 0.3), 0 1px 3px 1px rgba(60, 64, 67, 0.15);\n",
              "    fill: var(--button-hover-fill-color);\n",
              "  }\n",
              "\n",
              "  .colab-df-quickchart-complete:disabled,\n",
              "  .colab-df-quickchart-complete:disabled:hover {\n",
              "    background-color: var(--disabled-bg-color);\n",
              "    fill: var(--disabled-fill-color);\n",
              "    box-shadow: none;\n",
              "  }\n",
              "\n",
              "  .colab-df-spinner {\n",
              "    border: 2px solid var(--fill-color);\n",
              "    border-color: transparent;\n",
              "    border-bottom-color: var(--fill-color);\n",
              "    animation:\n",
              "      spin 1s steps(1) infinite;\n",
              "  }\n",
              "\n",
              "  @keyframes spin {\n",
              "    0% {\n",
              "      border-color: transparent;\n",
              "      border-bottom-color: var(--fill-color);\n",
              "      border-left-color: var(--fill-color);\n",
              "    }\n",
              "    20% {\n",
              "      border-color: transparent;\n",
              "      border-left-color: var(--fill-color);\n",
              "      border-top-color: var(--fill-color);\n",
              "    }\n",
              "    30% {\n",
              "      border-color: transparent;\n",
              "      border-left-color: var(--fill-color);\n",
              "      border-top-color: var(--fill-color);\n",
              "      border-right-color: var(--fill-color);\n",
              "    }\n",
              "    40% {\n",
              "      border-color: transparent;\n",
              "      border-right-color: var(--fill-color);\n",
              "      border-top-color: var(--fill-color);\n",
              "    }\n",
              "    60% {\n",
              "      border-color: transparent;\n",
              "      border-right-color: var(--fill-color);\n",
              "    }\n",
              "    80% {\n",
              "      border-color: transparent;\n",
              "      border-right-color: var(--fill-color);\n",
              "      border-bottom-color: var(--fill-color);\n",
              "    }\n",
              "    90% {\n",
              "      border-color: transparent;\n",
              "      border-bottom-color: var(--fill-color);\n",
              "    }\n",
              "  }\n",
              "</style>\n",
              "\n",
              "  <script>\n",
              "    async function quickchart(key) {\n",
              "      const quickchartButtonEl =\n",
              "        document.querySelector('#' + key + ' button');\n",
              "      quickchartButtonEl.disabled = true;  // To prevent multiple clicks.\n",
              "      quickchartButtonEl.classList.add('colab-df-spinner');\n",
              "      try {\n",
              "        const charts = await google.colab.kernel.invokeFunction(\n",
              "            'suggestCharts', [key], {});\n",
              "      } catch (error) {\n",
              "        console.error('Error during call to suggestCharts:', error);\n",
              "      }\n",
              "      quickchartButtonEl.classList.remove('colab-df-spinner');\n",
              "      quickchartButtonEl.classList.add('colab-df-quickchart-complete');\n",
              "    }\n",
              "    (() => {\n",
              "      let quickchartButtonEl =\n",
              "        document.querySelector('#df-e0347d48-6f12-4d8a-9bc1-b98beae09621 button');\n",
              "      quickchartButtonEl.style.display =\n",
              "        google.colab.kernel.accessAllowed ? 'block' : 'none';\n",
              "    })();\n",
              "  </script>\n",
              "</div>\n",
              "    </div>\n",
              "  </div>\n"
            ]
          },
          "metadata": {},
          "execution_count": 55
        }
      ]
    },
    {
      "cell_type": "markdown",
      "source": [
        "Снова добавим и отсортируем."
      ],
      "metadata": {
        "id": "NtMJb7l0elNk"
      }
    },
    {
      "cell_type": "code",
      "source": [
        "df = df.merge(res_spring, on='id', how='left')\n",
        "df = df.sort_values('percentile', ascending = True)"
      ],
      "metadata": {
        "id": "bVUNdHdsenmF"
      },
      "execution_count": 56,
      "outputs": []
    },
    {
      "cell_type": "markdown",
      "source": [
        "Вторая волна."
      ],
      "metadata": {
        "id": "rd7IL3PfezGy"
      }
    },
    {
      "cell_type": "code",
      "source": [
        "for key in coursedict: # Проходимся по всем курсам из списка\n",
        "  lst = df.index[(df['spring_2'] == key) & (df['course_number'] == 1) & (pd.isna(df['course1']))].tolist() # Создаем список индексов студентов, которые должны взять 1 курс, они ни на что не записаны, и этот курс стоит вторым приоритетом\n",
        "  lst.extend(df.index[(df['spring_3'] == key) & (df['course_number'] == 2) & (~pd.isna(df['course1'])) & (pd.isna(df['course2']))].tolist()) # Для тех, кому можно брать два курса, но они не записаны на второй\n",
        "  lst.extend(df.index[(df['spring_3'] == key) & (df['course_number'] == 2) & (pd.isna(df['course1'])) & (pd.isna(df['course2']))].tolist()) # Для тех, кому можно брать два курса, но они не записаны ни на какой\n",
        "  courseids = list(set(df.loc[lst, 'id'].tolist())) # По индексам находим id, отбрасываем повторных\n",
        "  courseids = [id for id in courseids if id not in coursedict[key]] # убираем студентов, которые уже записаны на этот курс\n",
        "  sorted_ids = df[df['id'].isin(courseids)].sort_values(by='percentile', ascending=True)['id'].tolist() #сортируем список студентов по их пернцентилю\n",
        "  if ((len(sorted_ids) + len(coursedict[key]) >= limit(key)) and (key not in limitinf)): # Проверяем, не превышает ли количество записанных студентов лимит\n",
        "    coursedict[key] += sorted_ids[:(limit(key) - len(coursedict[key]))] # Отбрасываем тех, кто не поместился\n",
        "  else:\n",
        "    coursedict[key] += sorted_ids # Заполняем словарь id"
      ],
      "metadata": {
        "id": "Vqd--jCze1u_"
      },
      "execution_count": 57,
      "outputs": []
    },
    {
      "cell_type": "code",
      "source": [
        "res_spring = pd.DataFrame([(course, ID) for course, IDs in coursedict.items() for ID in IDs], columns=['course', 'id'])\n",
        "res_spring = res_spring.assign(occurrence=res_spring.groupby('id').cumcount()).pivot_table(index='id', columns='occurrence', values='course', aggfunc='first').reset_index()\n",
        "res_spring.columns = ['id', 'course1', 'course2']"
      ],
      "metadata": {
        "id": "wyflORFYfKlz"
      },
      "execution_count": 58,
      "outputs": []
    },
    {
      "cell_type": "code",
      "source": [
        "df.set_index('id', inplace=True)\n",
        "res_spring.set_index('id', inplace=True)\n",
        "df.update(res_spring[['course1', 'course2']])\n",
        "df.reset_index(inplace=True)"
      ],
      "metadata": {
        "id": "F0T365whfTxx"
      },
      "execution_count": 59,
      "outputs": []
    },
    {
      "cell_type": "markdown",
      "source": [
        "И 3-я волна."
      ],
      "metadata": {
        "id": "WFn7Fp-ufeVI"
      }
    },
    {
      "cell_type": "code",
      "source": [
        "for key in coursedict: # Проходимся по всем курсам из списка\n",
        "  lst = df.index[(df['spring_3'] == key) & (df['course_number'] == 1) & (pd.isna(df['course1']))].tolist() # Создаем список индексов студентов, которые должны взять 1 курс, они ни на что не записаны, и этот курс стоит третьим приоритетом\n",
        "  courseids = list(set(df.loc[lst, 'id'].tolist())) # По индексам находим id, убираем тех, кто повторяется\n",
        "  courseids = [id for id in courseids if id not in coursedict[key]] # убираем студентов, которые уже записаны на этот курс\n",
        "  sorted_ids = df[df['id'].isin(courseids)].sort_values(by='percentile', ascending=True)['id'].tolist() #сортируем список студентов по их пернцентилю\n",
        "  if ((len(sorted_ids) + len(coursedict[key]) >= limit(key)) and (key not in limitinf)): # Проверяем, не превышает ли количество записанных студентов лимит\n",
        "    coursedict[key] += sorted_ids[:(limit(key) - len(coursedict[key]))] # Отбрасываем тех, кто не поместился\n",
        "  else:\n",
        "    coursedict[key] += sorted_ids # Заполняем словарь id"
      ],
      "metadata": {
        "id": "HrCRJb6bfgCl"
      },
      "execution_count": 60,
      "outputs": []
    },
    {
      "cell_type": "code",
      "source": [
        "res_spring = pd.DataFrame([(course, ID) for course, IDs in coursedict.items() for ID in IDs], columns=['course', 'id'])\n",
        "res_spring = res_spring.assign(occurrence=res_spring.groupby('id').cumcount()).pivot_table(index='id', columns='occurrence', values='course', aggfunc='first').reset_index()\n",
        "res_spring.columns = ['id', 'course1', 'course2']"
      ],
      "metadata": {
        "id": "xNcqhmhkftnl"
      },
      "execution_count": 61,
      "outputs": []
    },
    {
      "cell_type": "code",
      "source": [
        "res_spring = pd.merge(res_spring, data[['id', 'course_number']], on='id', how='outer')"
      ],
      "metadata": {
        "id": "c7_cUzEgf6Rv"
      },
      "execution_count": 62,
      "outputs": []
    },
    {
      "cell_type": "code",
      "source": [
        "res_spring.loc[pd.isna(res_spring['course1']), 'course1'] = \"???\"\n",
        "res_spring.loc[(pd.isna(res_spring['course2'])) & (res_spring['course_number'] == 2), 'course2'] = \"???\"\n",
        "res_spring.loc[(pd.isna(res_spring['course2'])) & (res_spring['course_number'] == 1), 'course2'] = \"-\""
      ],
      "metadata": {
        "id": "yA3NDeCwgBJ6"
      },
      "execution_count": 63,
      "outputs": []
    },
    {
      "cell_type": "code",
      "source": [
        "res_spring.drop(columns=['course_number'], inplace=True)"
      ],
      "metadata": {
        "id": "SVibB2VtgNNQ"
      },
      "execution_count": 64,
      "outputs": []
    },
    {
      "cell_type": "code",
      "source": [
        "res_spring.rename(columns={'id': 'ID'}, inplace=True)"
      ],
      "metadata": {
        "id": "dvbt9XZcgO5W"
      },
      "execution_count": 65,
      "outputs": []
    },
    {
      "cell_type": "code",
      "source": [
        "res_spring.to_csv('res_spring.csv', index=None)"
      ],
      "metadata": {
        "id": "ci7FRdO1gUbS"
      },
      "execution_count": 66,
      "outputs": []
    },
    {
      "cell_type": "code",
      "source": [
        "files.download('res_spring.csv')"
      ],
      "metadata": {
        "id": "MlLZ1f2kgaCK",
        "colab": {
          "base_uri": "https://localhost:8080/",
          "height": 34
        },
        "outputId": "6f603117-a3a4-46f6-c86c-5c3e80611741"
      },
      "execution_count": 67,
      "outputs": [
        {
          "output_type": "display_data",
          "data": {
            "text/plain": [
              "<IPython.core.display.Javascript object>"
            ],
            "application/javascript": [
              "\n",
              "    async function download(id, filename, size) {\n",
              "      if (!google.colab.kernel.accessAllowed) {\n",
              "        return;\n",
              "      }\n",
              "      const div = document.createElement('div');\n",
              "      const label = document.createElement('label');\n",
              "      label.textContent = `Downloading \"${filename}\": `;\n",
              "      div.appendChild(label);\n",
              "      const progress = document.createElement('progress');\n",
              "      progress.max = size;\n",
              "      div.appendChild(progress);\n",
              "      document.body.appendChild(div);\n",
              "\n",
              "      const buffers = [];\n",
              "      let downloaded = 0;\n",
              "\n",
              "      const channel = await google.colab.kernel.comms.open(id);\n",
              "      // Send a message to notify the kernel that we're ready.\n",
              "      channel.send({})\n",
              "\n",
              "      for await (const message of channel.messages) {\n",
              "        // Send a message to notify the kernel that we're ready.\n",
              "        channel.send({})\n",
              "        if (message.buffers) {\n",
              "          for (const buffer of message.buffers) {\n",
              "            buffers.push(buffer);\n",
              "            downloaded += buffer.byteLength;\n",
              "            progress.value = downloaded;\n",
              "          }\n",
              "        }\n",
              "      }\n",
              "      const blob = new Blob(buffers, {type: 'application/binary'});\n",
              "      const a = document.createElement('a');\n",
              "      a.href = window.URL.createObjectURL(blob);\n",
              "      a.download = filename;\n",
              "      div.appendChild(a);\n",
              "      a.click();\n",
              "      div.remove();\n",
              "    }\n",
              "  "
            ]
          },
          "metadata": {}
        },
        {
          "output_type": "display_data",
          "data": {
            "text/plain": [
              "<IPython.core.display.Javascript object>"
            ],
            "application/javascript": [
              "download(\"download_c9d525ef-97ef-4901-aa80-42344c1fc48b\", \"res_spring.csv\", 33321)"
            ]
          },
          "metadata": {}
        }
      ]
    },
    {
      "cell_type": "markdown",
      "metadata": {
        "id": "It7QQZLYhLu7"
      },
      "source": [
        "**Отправьте свой файл res_spring.csv в контест (https://contest.yandex.ru/contest/40211/problems/B/) и прикрепите/укажите ниже ваш никнейм и ссылку на успешную посылку.**"
      ]
    },
    {
      "cell_type": "markdown",
      "source": [
        "Вера Буйлова: https://contest.yandex.ru/contest/40211/run-report/91808812/"
      ],
      "metadata": {
        "id": "QIAuVjkkpIzX"
      }
    },
    {
      "cell_type": "markdown",
      "metadata": {
        "id": "1YcouVTihLu7"
      },
      "source": [
        "На всякий случай просим вас сдать вместе с ноутбуком файл res_spring.csv в anytask"
      ]
    },
    {
      "cell_type": "markdown",
      "metadata": {
        "id": "uY_OY6inhLu7"
      },
      "source": [
        "Вставьте картинку, описывающую ваш опыт выполнения этого задания:"
      ]
    },
    {
      "cell_type": "markdown",
      "source": [
        "<img src=\"https://media.tenor.com/0mLfJSvtQMkAAAAd/ohshit-monkey.gif\" style=\"width: 200px\">"
      ],
      "metadata": {
        "id": "632RHJtkHrVi"
      }
    }
  ],
  "metadata": {
    "colab": {
      "provenance": []
    },
    "kernelspec": {
      "display_name": "Python 3 (ipykernel)",
      "language": "python",
      "name": "python3"
    },
    "language_info": {
      "codemirror_mode": {
        "name": "ipython",
        "version": 3
      },
      "file_extension": ".py",
      "mimetype": "text/x-python",
      "name": "python",
      "nbconvert_exporter": "python",
      "pygments_lexer": "ipython3",
      "version": "3.10.4"
    },
    "varInspector": {
      "cols": {
        "lenName": 16,
        "lenType": 16,
        "lenVar": 40
      },
      "kernels_config": {
        "python": {
          "delete_cmd_postfix": "",
          "delete_cmd_prefix": "del ",
          "library": "var_list.py",
          "varRefreshCmd": "print(var_dic_list())"
        },
        "r": {
          "delete_cmd_postfix": ") ",
          "delete_cmd_prefix": "rm(",
          "library": "var_list.r",
          "varRefreshCmd": "cat(var_dic_list()) "
        }
      },
      "types_to_exclude": [
        "module",
        "function",
        "builtin_function_or_method",
        "instance",
        "_Feature"
      ],
      "window_display": false
    },
    "vscode": {
      "interpreter": {
        "hash": "e7370f93d1d0cde622a1f8e1c04877d8463912d04d973331ad4851f04de6915a"
      }
    }
  },
  "nbformat": 4,
  "nbformat_minor": 0
}