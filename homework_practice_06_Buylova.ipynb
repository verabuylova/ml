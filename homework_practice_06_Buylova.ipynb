{
  "cells": [
    {
      "cell_type": "markdown",
      "metadata": {
        "id": "LW1xd0jJk26S",
        "pycharm": {
          "name": "#%% md\n"
        }
      },
      "source": [
        "# Машинное обучение, ФКН ВШЭ\n",
        "\n",
        "# Практическое задание 6. Бустинговое\n",
        "\n",
        "## Общая информация\n",
        "\n",
        "Дата выдачи: 12.12.2023\n",
        "\n",
        "Мягкий дедлайн: 24.12.2023 23:59 MSK\n",
        "\n",
        "Жёсткий дедлайн: 24.12.2023 23:59 MSK\n",
        "\n",
        "## Оценивание и штрафы\n",
        "\n",
        "Каждая из задач имеет определенную «стоимость» (указана в скобках около задачи). Максимально допустимая оценка за работу — 10 баллов.\n",
        "\n",
        "Сдавать задание после указанного срока сдачи нельзя. При выставлении неполного балла за задание в связи с наличием ошибок на усмотрение проверяющего предусмотрена возможность исправить работу на указанных в ответном письме условиях.\n",
        "\n",
        "Задание выполняется самостоятельно. «Похожие» решения считаются плагиатом и все задействованные студенты (в том числе те, у кого списали) не могут получить за него больше 0 баллов (подробнее о плагиате см. на странице курса). Если вы нашли решение какого-то из заданий (или его часть) в открытом источнике, необходимо указать ссылку на этот источник в отдельном блоке в конце вашей работы (скорее всего вы будете не единственным, кто это нашел, поэтому чтобы исключить подозрение в плагиате, необходима ссылка на источник).\n",
        "\n",
        "Неэффективная реализация кода может негативно отразиться на оценке.\n",
        "\n",
        "## Формат сдачи\n",
        "Задания сдаются через систему anytask. Посылка должна содержать:\n",
        "* Ноутбук homework-practice-06-Username.ipynb\n",
        "\n",
        "Username — ваша фамилия на латинице"
      ]
    },
    {
      "cell_type": "markdown",
      "metadata": {
        "id": "1HQRbRGBk26X",
        "pycharm": {
          "name": "#%% md\n"
        }
      },
      "source": [
        "## О задании\n",
        "\n",
        "В этом задании вам предстоит вручную запрограммировать один из самых мощных алгоритмов машинного обучения — бустинг."
      ]
    },
    {
      "cell_type": "code",
      "execution_count": null,
      "metadata": {
        "id": "trv1_uwPk26Y",
        "pycharm": {
          "name": "#%%\n"
        }
      },
      "outputs": [],
      "source": [
        "from warnings import filterwarnings\n",
        "\n",
        "import matplotlib.pyplot as plt\n",
        "import numpy as np\n",
        "import seaborn as sns\n",
        "from scipy.sparse import load_npz\n",
        "from sklearn.model_selection import train_test_split\n",
        "\n",
        "\n",
        "sns.set(style='darkgrid')\n",
        "filterwarnings('ignore')"
      ]
    },
    {
      "cell_type": "code",
      "execution_count": null,
      "metadata": {
        "id": "nrP9Fehfk26a",
        "pycharm": {
          "name": "#%%\n"
        }
      },
      "outputs": [],
      "source": [
        "x = load_npz('x.npz')\n",
        "y = np.load('y.npy')"
      ]
    },
    {
      "cell_type": "markdown",
      "metadata": {
        "id": "YnxtNli_k26b",
        "pycharm": {
          "name": "#%% md\n"
        }
      },
      "source": [
        "Разделим на обучающую, валидационную и тестовую выборки (`random_state` оставьте равным 1337 для воспроизводимости)."
      ]
    },
    {
      "cell_type": "code",
      "execution_count": null,
      "metadata": {
        "colab": {
          "base_uri": "https://localhost:8080/"
        },
        "id": "rwCb0Qdbk26c",
        "outputId": "20153fd6-8628-4656-87bd-9149fd8b8eee",
        "pycharm": {
          "name": "#%%\n"
        }
      },
      "outputs": [
        {
          "data": {
            "text/plain": [
              "((18825, 169), (2354, 169), (2353, 169))"
            ]
          },
          "execution_count": 3,
          "metadata": {},
          "output_type": "execute_result"
        }
      ],
      "source": [
        "x_train, x_test, y_train, y_test = train_test_split(x, y, test_size=0.2, random_state=1337)\n",
        "\n",
        "x_test, x_valid, y_test, y_valid = train_test_split(x_test, y_test, test_size=0.5, random_state=1337)\n",
        "\n",
        "x_train.shape, x_valid.shape, x_test.shape"
      ]
    },
    {
      "cell_type": "markdown",
      "metadata": {
        "id": "Anrx2Kfuk26d",
        "pycharm": {
          "name": "#%% md\n"
        }
      },
      "source": [
        "## Задание 1. Реализация градиентного бустингового (4 балла)\n",
        "\n",
        "Вам нужно дописать код в файлике `boosting.py`. Для вас уже подготовлен шаблон класса `Boosting`, вы можете менять его по своему усмотрению.\n",
        "\n",
        "### Инструкции для функций:\n",
        "\n",
        "#### `__init__`\n",
        "\n",
        "В `__init__` приходит кучка параметров, распишем что есть что:\n",
        "\n",
        " - `base_model_class` - класс базовой модели нашего бустинга\n",
        " - `base_model_params` - словарь с гиперпараметрами для базовой модели\n",
        " - `n_estimators` - какое количество базовых моделей нужно обучить\n",
        " - `learning_rate` - темп обучения, должен быть из полуинтервала $(0, 1]$\n",
        " - `subsample` - доля объектов, на которой будет обучаться базовая модель (какую часть составляет бутстрапная выборка от исходной обучающей)\n",
        " - `early_stopping_rounds` - число итераций, после которых при отсутствии улучшения качества на валидационной выборке обучение останавливается\n",
        " - `plot` - строить ли после обучения всех базовых моделей график с качеством\n",
        "\n",
        "#### `fit`\n",
        "\n",
        "В `fit` приходит две выборки, обучающая и валидационная. На обучающей мы обучаем новые базовые модели, на валидационной считаем качество для ранней остановки (если это предусматривают параметры).\n",
        "\n",
        "Сначала нам нужно сделать какую-то нулевую модель, сделать предсказания для обучающей и валидационной выборок (в шаблоне это нулевая модель, соответственно предсказания это просто `np.zeros`). После этого нужно обучить `n_estimators` базовых моделей (как и на что обучаются базовые модели смотрите в лекциях и семинарах). После каждой обученной базовой модели мы должны обновить текущие предсказания, посчитать ошибку на обучающей и валидационной выборках (используем `loss_fn` для этого), проверить на раннюю остановку.\n",
        "\n",
        "После всего цикла обучения надо нарисовать график (если `plot`).\n",
        "\n",
        "\n",
        "#### `fit_new_base_model`\n",
        "\n",
        "В `fit_new_base_model` приходит обучающая выборка (целиком) и текущие предсказания для неё. Мы должны сгенерировать бутстрап выборку для обучения базовой модели и обучить базовую модель. После обучения модели запускаем поиск оптимальной гаммы, добавляем новую модель и гамму (не забываем про темп обучения) в соответствующие списки.\n",
        "\n",
        "#### `predict_proba`\n",
        "\n",
        "В `predict_proba` приходит выборка, нужно предсказать вероятности для неё. Суммируем предсказания базовых моделей на этой выборке (не забываем про гаммы) и накидываем сигмоиду."
      ]
    },
    {
      "cell_type": "code",
      "execution_count": null,
      "metadata": {
        "id": "_4XzSTku61-A"
      },
      "outputs": [],
      "source": [
        "from sklearn.metrics import mean_squared_error"
      ]
    },
    {
      "cell_type": "code",
      "execution_count": null,
      "metadata": {
        "id": "zHnSGBe_G97O"
      },
      "outputs": [],
      "source": [
        "from sklearn.tree import DecisionTreeRegressor"
      ]
    },
    {
      "cell_type": "code",
      "execution_count": null,
      "metadata": {
        "id": "S61DoYaimlIa"
      },
      "outputs": [],
      "source": [
        "from __future__ import annotations\n",
        "\n",
        "from collections import defaultdict\n",
        "\n",
        "import numpy as np\n",
        "from sklearn.metrics import roc_auc_score\n",
        "from sklearn.tree import DecisionTreeRegressor\n",
        "\n",
        "\n",
        "def score(clf, x, y):\n",
        "    return roc_auc_score(y == 1, clf.predict_proba(x)[:, 1])\n",
        "\n",
        "class Boosting:\n",
        "\n",
        "    def __init__(\n",
        "            self,\n",
        "            base_model_params: dict = None,\n",
        "            n_estimators: int = 10,\n",
        "            learning_rate: float = 0.1,\n",
        "            subsample: float = 0.3,\n",
        "            early_stopping_rounds: int = None,\n",
        "            plot: bool = False,\n",
        "    ):\n",
        "        self.base_model_class = DecisionTreeRegressor\n",
        "        self.base_model_params: dict = {} if base_model_params is None else base_model_params\n",
        "\n",
        "        self.n_estimators: int = n_estimators\n",
        "\n",
        "        self.models: list = []\n",
        "        self.gammas: list = []\n",
        "        self.validation_losses = []\n",
        "        self.train_losses = []\n",
        "\n",
        "        self.learning_rate: float = learning_rate\n",
        "        self.subsample: float = subsample\n",
        "\n",
        "        self.early_stopping_rounds: int = early_stopping_rounds\n",
        "        if early_stopping_rounds is not None:\n",
        "            self.validation_loss = np.full(self.early_stopping_rounds, np.inf)\n",
        "\n",
        "        self.plot: bool = plot\n",
        "\n",
        "        self.history = defaultdict(list)\n",
        "\n",
        "        self.sigmoid = lambda x: 1 / (1 + np.exp(-x))\n",
        "        self.loss_fn = lambda y, z: -np.log(self.sigmoid(y * z)).mean()\n",
        "        self.loss_derivative = lambda y, z: -y * self.sigmoid(-y * z)\n",
        "\n",
        "        self.no_improvement_count = 0\n",
        "\n",
        "    def predict_proba(self, x):\n",
        "        predictions = np.zeros(x.shape[0])\n",
        "        for gamma, model in zip(self.gammas, self.models):\n",
        "          predictions += gamma * model.predict(x)\n",
        "        return np.array([1 - self.sigmoid(predictions), self.sigmoid(predictions)]).T\n",
        "\n",
        "    def fit_new_base_model(self, x, y, predictions):\n",
        "        indexes = np.random.choice(x.shape[0], size=int(self.subsample * x.shape[0]), replace = True)\n",
        "        x_bootstrap = x[indexes]\n",
        "        y_bootstrap = y[indexes]\n",
        "        s = -self.loss_derivative(y_bootstrap,predictions[indexes])\n",
        "        base_model = self.base_model_class(**self.base_model_params)\n",
        "        base_model.fit(x_bootstrap, s)\n",
        "        gamma = self.find_optimal_gamma(y, predictions, base_model.predict(x))\n",
        "        self.models.append(base_model)\n",
        "        self.gammas.append(gamma * self.learning_rate)\n",
        "    def fit(self, x_train, y_train, x_valid, y_valid):\n",
        "        \"\"\"\n",
        "        :param x_train: features array (train set)\n",
        "        :param y_train: targets array (train set)\n",
        "        :param x_valid: features array (validation set)\n",
        "        :param y_valid: targets array (validation set)\n",
        "        \"\"\"\n",
        "        train_predictions = np.zeros(y_train.shape[0])\n",
        "        valid_predictions = np.zeros(y_valid.shape[0])\n",
        "        self.validation_losses.append(self.loss_fn(y_valid, valid_predictions))\n",
        "        self.train_losses.append(self.loss_fn(y_train, train_predictions))\n",
        "        for i in range(self.n_estimators):\n",
        "            self.fit_new_base_model(x_train, y_train, train_predictions)\n",
        "            train_predictions += self.gammas[-1] * self.models[-1].predict(x_train)\n",
        "            valid_predictions += self.gammas[-1] * self.models[-1].predict(x_valid)\n",
        "            self.train_losses.append(self.loss_fn(y_train, train_predictions))\n",
        "            self.validation_losses.append(self.loss_fn(y_valid, valid_predictions))\n",
        "            if self.early_stopping_rounds is not None:\n",
        "                if i >= self.early_stopping_rounds and np.all(np.diff(self.validation_losses[-self.early_stopping_rounds:]) >= 0):\n",
        "                    break\n",
        "        if self.plot:\n",
        "          fig = plt.figure()\n",
        "          plt.plot(list(range(0, len(self.validation_losses))), self.validation_losses)\n",
        "          plt.xlabel('Iteration')\n",
        "          plt.ylabel('Loss')\n",
        "          plt.title('GBM Losses')\n",
        "\n",
        "\n",
        "    def find_optimal_gamma(self, y, old_predictions, new_predictions) -> float:\n",
        "        gammas = np.linspace(start=0, stop=1, num=100)\n",
        "        losses = [self.loss_fn(y, old_predictions + gamma * new_predictions) for gamma in gammas]\n",
        "\n",
        "        return gammas[np.argmin(losses)]\n",
        "\n",
        "    def score(self, x, y):\n",
        "        return score(self, x, y)\n",
        "\n",
        "    @property\n",
        "    def feature_importances_(self):\n",
        "      return np.mean([model.featur_importances_ for model in self.models], axis = 0)"
      ]
    },
    {
      "cell_type": "code",
      "execution_count": null,
      "metadata": {
        "colab": {
          "base_uri": "https://localhost:8080/"
        },
        "id": "1e37dYLUk26e",
        "outputId": "78e4c1a3-01f2-418c-c67e-c50477190409",
        "pycharm": {
          "name": "#%%\n"
        }
      },
      "outputs": [
        {
          "name": "stdout",
          "output_type": "stream",
          "text": [
            "The autoreload extension is already loaded. To reload it, use:\n",
            "  %reload_ext autoreload\n"
          ]
        }
      ],
      "source": [
        "%load_ext autoreload"
      ]
    },
    {
      "cell_type": "code",
      "execution_count": null,
      "metadata": {
        "id": "ZhgKU_Dk12dl"
      },
      "outputs": [],
      "source": [
        "from boosting import Boosting"
      ]
    },
    {
      "cell_type": "code",
      "execution_count": null,
      "metadata": {
        "id": "letjkcPRk26e",
        "pycharm": {
          "name": "#%%\n"
        }
      },
      "outputs": [],
      "source": [
        "%autoreload 2\n",
        "\n",
        "from boosting import Boosting"
      ]
    },
    {
      "cell_type": "markdown",
      "metadata": {
        "id": "upYLlSiOk26f",
        "pycharm": {
          "name": "#%% md\n"
        }
      },
      "source": [
        "### Проверка кода\n",
        "\n",
        "У автора задания всё учится около одной секунды."
      ]
    },
    {
      "cell_type": "code",
      "execution_count": null,
      "metadata": {
        "colab": {
          "base_uri": "https://localhost:8080/"
        },
        "id": "dl42B_l_k26g",
        "outputId": "e9bd6004-877f-4e7c-dc51-8d765f43d052",
        "pycharm": {
          "name": "#%%\n"
        }
      },
      "outputs": [
        {
          "name": "stdout",
          "output_type": "stream",
          "text": [
            "CPU times: user 1.77 s, sys: 1.7 ms, total: 1.77 s\n",
            "Wall time: 1.77 s\n",
            "Train ROC-AUC 0.9906\n",
            "Valid ROC-AUC 0.9127\n",
            "Test ROC-AUC 0.9122\n"
          ]
        }
      ],
      "source": [
        "boosting = Boosting()\n",
        "\n",
        "%time boosting.fit(x_train, y_train, x_valid, y_valid)\n",
        "\n",
        "assert len(boosting.models) == boosting.n_estimators\n",
        "assert len(boosting.gammas) == boosting.n_estimators\n",
        "\n",
        "assert boosting.predict_proba(x_test).shape == (x_test.shape[0], 2)\n",
        "\n",
        "print(f'Train ROC-AUC {boosting.score(x_train, y_train):.4f}')\n",
        "print(f'Valid ROC-AUC {boosting.score(x_valid, y_valid):.4f}')\n",
        "print(f'Test ROC-AUC {boosting.score(x_test, y_test):.4f}')"
      ]
    },
    {
      "cell_type": "markdown",
      "metadata": {
        "id": "PYJ9zsm6k26h",
        "pycharm": {
          "name": "#%% md\n"
        }
      },
      "source": [
        "## Задание 2. Обучение градиентного бустингового (1 балл)\n",
        "\n",
        "Оцените качество на тестовой выборке вашей имплементации бустинга для различной максимальной глубины решающего дерева в качестве базовой модели. Здесь и далее мы будем использовать метрику ROC-AUC.\n",
        "\n",
        "Перебирайте максимальную глубину от 1 до 30 с шагом 2 (остальные параметры бустинга стоит оставить равными по умолчанию). Постройте график зависимости качества на обучающей и тестовой выборке в зависимости от глубины."
      ]
    },
    {
      "cell_type": "code",
      "execution_count": null,
      "metadata": {
        "id": "w-nWw3qnk26i",
        "pycharm": {
          "name": "#%%\n"
        }
      },
      "outputs": [],
      "source": [
        "results = {}\n",
        "depths = range(1, 30, 2)\n",
        "for i in depths:\n",
        "  model = Boosting(base_model_params = {'max_depth': i})\n",
        "  model.fit(x_train, y_train, x_valid, y_valid)\n",
        "  results[i] = [model.score(x_valid, y_valid)]\n",
        "  results[i].append(model.score(x_train, y_train))"
      ]
    },
    {
      "cell_type": "code",
      "execution_count": null,
      "metadata": {
        "colab": {
          "base_uri": "https://localhost:8080/",
          "height": 455
        },
        "id": "cZexEmLL1LHT",
        "outputId": "4c73c2d0-6c72-49a9-8ec2-3774ac01715f"
      },
      "outputs": [
        {
          "data": {
            "text/plain": [
              "<matplotlib.legend.Legend at 0x7c5f1be39ed0>"
            ]
          },
          "execution_count": 17,
          "metadata": {},
          "output_type": "execute_result"
        },
        {
          "data": {
            "image/png": "[encoded data removed]",
            "text/plain": [
              "<Figure size 1000x600 with 1 Axes>"
            ]
          },
          "metadata": {},
          "output_type": "display_data"
        }
      ],
      "source": [
        "plt.figure(figsize=(10, 6))\n",
        "plt.plot(list(results.keys()), [values[1] for values in results.values()], label='train score')\n",
        "plt.plot(list(results.keys()), [values[0] for values in results.values()], label='validation score')\n",
        "plt.legend()"
      ]
    },
    {
      "cell_type": "code",
      "execution_count": null,
      "metadata": {
        "id": "Y1CLTt1z8Ws1"
      },
      "outputs": [],
      "source": [
        "max_val_score = max([values[0] for values in results.values()])\n",
        "max_val_depth = depths[[values[0] for values in results.values()].index(max_val_score)]\n",
        "plt.axvline(x=max_val_depth, color='red', linestyle='--', label=f'Max validation score at depth {max_val_depth}')"
      ]
    },
    {
      "cell_type": "markdown",
      "metadata": {
        "id": "VmDbZ4ZogVAC"
      },
      "source": [
        "**Какая из моделей имеет лучшее качество? Как вы можете это объяснить?**\n",
        "\n",
        "Конечно, на трейне лучше качество дает максимально глубокое дерево, поскольку деревья очень легко переобучаются, и глубокие деревья идеально подстраиваются под обучающую выборку. На валидационной же все немного иначе. Здесь нужно взять не слишком глубокое, не слишком не глубокое дерево, глубиной 7 - здесь хорошее качество и на трейне (и дальше оно растет не так значительно), и на валидационной."
      ]
    },
    {
      "cell_type": "markdown",
      "metadata": {
        "id": "hbnbmwlZk26k",
        "pycharm": {
          "name": "#%% md\n"
        }
      },
      "source": [
        "## Задание 3. Подбираем гиперпараметры и ищем лучшую модель (3 балла)\n",
        "\n",
        "Подберите по валидационной выборке основные гиперпараметры для вашей модели бустинга. Следует подобрать все основные параметры для самого градиентного бустинга и для самих базовых моделей. Существуют библиотеки для подбора гиперпараметров, попробуйте использовать какую-нибудь из следующих двух - [Hyperopt](https://github.com/hyperopt/hyperopt), [Optuna](https://optuna.org/)."
      ]
    },
    {
      "cell_type": "code",
      "execution_count": null,
      "metadata": {
        "id": "SIkeUaLdSLN7"
      },
      "outputs": [],
      "source": [
        "import optuna"
      ]
    },
    {
      "cell_type": "code",
      "execution_count": null,
      "metadata": {
        "colab": {
          "base_uri": "https://localhost:8080/"
        },
        "id": "DGqEfyD5QuI5",
        "outputId": "98494a57-6030-431d-95fd-b524f7cb4a6f"
      },
      "outputs": [
        {
          "name": "stderr",
          "output_type": "stream",
          "text": [
            "[I 2023-12-24 19:25:27,282] A new study created in memory with name: no-name-aab39e99-4509-473c-8f76-044e2acf7928\n",
            "[I 2023-12-24 19:25:39,281] Trial 0 finished with value: 0.9395158812068328 and parameters: {'learning_rate': 0.5973026616459096, 'n_estimators': 77, 'early_stopping_rounds': 8, 'subsample': 0.8746738889683666, 'max_depth': 3, 'min_samples_split': 6, 'min_samples_leaf': 2}. Best is trial 0 with value: 0.9395158812068328.\n",
            "[I 2023-12-24 19:25:41,308] Trial 1 finished with value: 0.9297472208985555 and parameters: {'learning_rate': 0.5264906590040914, 'n_estimators': 40, 'early_stopping_rounds': 5, 'subsample': 0.12630028565906737, 'max_depth': 2, 'min_samples_split': 2, 'min_samples_leaf': 2}. Best is trial 0 with value: 0.9395158812068328.\n",
            "[I 2023-12-24 19:25:45,894] Trial 2 finished with value: 0.9313368182351519 and parameters: {'learning_rate': 0.15167612068214364, 'n_estimators': 84, 'early_stopping_rounds': 7, 'subsample': 0.3016718388750459, 'max_depth': 3, 'min_samples_split': 6, 'min_samples_leaf': 9}. Best is trial 0 with value: 0.9395158812068328.\n",
            "[I 2023-12-24 19:25:48,356] Trial 3 finished with value: 0.9402825436430874 and parameters: {'learning_rate': 0.8305524961570491, 'n_estimators': 40, 'early_stopping_rounds': 7, 'subsample': 0.12619834763088977, 'max_depth': 8, 'min_samples_split': 2, 'min_samples_leaf': 7}. Best is trial 3 with value: 0.9402825436430874.\n",
            "[I 2023-12-24 19:25:54,675] Trial 4 finished with value: 0.9342558026488766 and parameters: {'learning_rate': 0.5391932266036616, 'n_estimators': 78, 'early_stopping_rounds': 4, 'subsample': 0.8999125048252061, 'max_depth': 2, 'min_samples_split': 8, 'min_samples_leaf': 5}. Best is trial 3 with value: 0.9402825436430874.\n",
            "[I 2023-12-24 19:25:58,547] Trial 5 finished with value: 0.9407315260693165 and parameters: {'learning_rate': 0.96157396213299, 'n_estimators': 44, 'early_stopping_rounds': 10, 'subsample': 0.8393394399746367, 'max_depth': 6, 'min_samples_split': 10, 'min_samples_leaf': 9}. Best is trial 5 with value: 0.9407315260693165.\n",
            "[I 2023-12-24 19:26:00,154] Trial 6 finished with value: 0.9369800284634904 and parameters: {'learning_rate': 0.6677515984700433, 'n_estimators': 29, 'early_stopping_rounds': 9, 'subsample': 0.15322649061659122, 'max_depth': 5, 'min_samples_split': 10, 'min_samples_leaf': 2}. Best is trial 5 with value: 0.9407315260693165.\n",
            "[I 2023-12-24 19:26:01,637] Trial 7 finished with value: 0.9288001673008294 and parameters: {'learning_rate': 0.7956385076911836, 'n_estimators': 27, 'early_stopping_rounds': 10, 'subsample': 0.4649935455406161, 'max_depth': 2, 'min_samples_split': 6, 'min_samples_leaf': 6}. Best is trial 5 with value: 0.9407315260693165.\n",
            "[I 2023-12-24 19:26:03,721] Trial 8 finished with value: 0.9342881293835652 and parameters: {'learning_rate': 0.24347544158615542, 'n_estimators': 15, 'early_stopping_rounds': 5, 'subsample': 0.4505264752802016, 'max_depth': 9, 'min_samples_split': 7, 'min_samples_leaf': 10}. Best is trial 5 with value: 0.9407315260693165.\n",
            "[I 2023-12-24 19:26:08,329] Trial 9 finished with value: 0.9354207623841326 and parameters: {'learning_rate': 0.8290128870617498, 'n_estimators': 84, 'early_stopping_rounds': 6, 'subsample': 0.5189526881062521, 'max_depth': 10, 'min_samples_split': 3, 'min_samples_leaf': 6}. Best is trial 5 with value: 0.9407315260693165.\n",
            "[I 2023-12-24 19:26:13,268] Trial 10 finished with value: 0.9415524654922083 and parameters: {'learning_rate': 0.9948044131917609, 'n_estimators': 57, 'early_stopping_rounds': 10, 'subsample': 0.7519579632985178, 'max_depth': 6, 'min_samples_split': 10, 'min_samples_leaf': 8}. Best is trial 10 with value: 0.9415524654922083.\n",
            "[I 2023-12-24 19:26:19,506] Trial 11 finished with value: 0.9409769697956551 and parameters: {'learning_rate': 0.9913349747941355, 'n_estimators': 60, 'early_stopping_rounds': 10, 'subsample': 0.7236192417542664, 'max_depth': 6, 'min_samples_split': 10, 'min_samples_leaf': 8}. Best is trial 10 with value: 0.9415524654922083.\n",
            "[I 2023-12-24 19:26:25,127] Trial 12 finished with value: 0.9420241963613666 and parameters: {'learning_rate': 0.9901090180768576, 'n_estimators': 63, 'early_stopping_rounds': 9, 'subsample': 0.6913569301035111, 'max_depth': 7, 'min_samples_split': 9, 'min_samples_leaf': 8}. Best is trial 12 with value: 0.9420241963613666.\n",
            "[I 2023-12-24 19:26:32,223] Trial 13 finished with value: 0.940829304464362 and parameters: {'learning_rate': 0.39468704414698186, 'n_estimators': 61, 'early_stopping_rounds': 8, 'subsample': 0.661246953346883, 'max_depth': 8, 'min_samples_split': 8, 'min_samples_leaf': 8}. Best is trial 12 with value: 0.9420241963613666.\n",
            "[I 2023-12-24 19:26:38,688] Trial 14 finished with value: 0.9359479675263982 and parameters: {'learning_rate': 0.02172324047617391, 'n_estimators': 67, 'early_stopping_rounds': 9, 'subsample': 0.6791339852005576, 'max_depth': 7, 'min_samples_split': 9, 'min_samples_leaf': 5}. Best is trial 12 with value: 0.9420241963613666.\n",
            "[I 2023-12-24 19:26:47,305] Trial 15 finished with value: 0.9434102549980725 and parameters: {'learning_rate': 0.7334337290333208, 'n_estimators': 100, 'early_stopping_rounds': 9, 'subsample': 0.5926387411948787, 'max_depth': 5, 'min_samples_split': 4, 'min_samples_leaf': 10}. Best is trial 15 with value: 0.9434102549980725.\n",
            "[I 2023-12-24 19:26:54,134] Trial 16 finished with value: 0.9431684031311436 and parameters: {'learning_rate': 0.709951911449402, 'n_estimators': 98, 'early_stopping_rounds': 8, 'subsample': 0.5783346569102785, 'max_depth': 4, 'min_samples_split': 4, 'min_samples_leaf': 10}. Best is trial 15 with value: 0.9434102549980725.\n",
            "[I 2023-12-24 19:27:03,153] Trial 17 finished with value: 0.9432761589134385 and parameters: {'learning_rate': 0.7008305263801614, 'n_estimators': 99, 'early_stopping_rounds': 8, 'subsample': 0.9934130314574069, 'max_depth': 4, 'min_samples_split': 4, 'min_samples_leaf': 10}. Best is trial 15 with value: 0.9434102549980725.\n",
            "[I 2023-12-24 19:27:12,294] Trial 18 finished with value: 0.9407191541091271 and parameters: {'learning_rate': 0.3593444167359712, 'n_estimators': 98, 'early_stopping_rounds': 3, 'subsample': 0.9825004790225551, 'max_depth': 4, 'min_samples_split': 4, 'min_samples_leaf': 10}. Best is trial 15 with value: 0.9434102549980725.\n",
            "[I 2023-12-24 19:27:18,037] Trial 19 finished with value: 0.942336688130022 and parameters: {'learning_rate': 0.7133034810335133, 'n_estimators': 91, 'early_stopping_rounds': 6, 'subsample': 0.2891639606105537, 'max_depth': 4, 'min_samples_split': 4, 'min_samples_leaf': 4}. Best is trial 15 with value: 0.9434102549980725.\n",
            "[I 2023-12-24 19:27:24,978] Trial 20 finished with value: 0.9408392818516115 and parameters: {'learning_rate': 0.393025313744822, 'n_estimators': 72, 'early_stopping_rounds': 8, 'subsample': 0.9971432650029801, 'max_depth': 5, 'min_samples_split': 5, 'min_samples_leaf': 9}. Best is trial 15 with value: 0.9434102549980725.\n",
            "[I 2023-12-24 19:27:32,081] Trial 21 finished with value: 0.9435327773134967 and parameters: {'learning_rate': 0.7074723278897725, 'n_estimators': 98, 'early_stopping_rounds': 8, 'subsample': 0.5727847282005394, 'max_depth': 4, 'min_samples_split': 4, 'min_samples_leaf': 10}. Best is trial 21 with value: 0.9435327773134967.\n",
            "[I 2023-12-24 19:27:40,678] Trial 22 finished with value: 0.9429153765904953 and parameters: {'learning_rate': 0.6237066188570536, 'n_estimators': 100, 'early_stopping_rounds': 7, 'subsample': 0.5876296594257573, 'max_depth': 5, 'min_samples_split': 3, 'min_samples_leaf': 10}. Best is trial 21 with value: 0.9435327773134967.\n",
            "[I 2023-12-24 19:27:45,534] Trial 23 finished with value: 0.9358793231021214 and parameters: {'learning_rate': 0.7596337211931896, 'n_estimators': 89, 'early_stopping_rounds': 9, 'subsample': 0.0073235810548062386, 'max_depth': 3, 'min_samples_split': 5, 'min_samples_leaf': 9}. Best is trial 21 with value: 0.9435327773134967.\n",
            "[I 2023-12-24 19:27:52,465] Trial 24 finished with value: 0.9437043883741887 and parameters: {'learning_rate': 0.8924789894791141, 'n_estimators': 90, 'early_stopping_rounds': 8, 'subsample': 0.355545841773259, 'max_depth': 4, 'min_samples_split': 3, 'min_samples_leaf': 10}. Best is trial 24 with value: 0.9437043883741887.\n",
            "[I 2023-12-24 19:28:01,129] Trial 25 finished with value: 0.940936262055677 and parameters: {'learning_rate': 0.8724418535448728, 'n_estimators': 93, 'early_stopping_rounds': 9, 'subsample': 0.3281783834199968, 'max_depth': 5, 'min_samples_split': 3, 'min_samples_leaf': 9}. Best is trial 24 with value: 0.9437043883741887.\n",
            "[I 2023-12-24 19:28:07,958] Trial 26 finished with value: 0.9418533834916545 and parameters: {'learning_rate': 0.9005504124629091, 'n_estimators': 83, 'early_stopping_rounds': 7, 'subsample': 0.4325697906747732, 'max_depth': 3, 'min_samples_split': 5, 'min_samples_leaf': 7}. Best is trial 24 with value: 0.9437043883741887.\n",
            "[I 2023-12-24 19:28:15,969] Trial 27 finished with value: 0.9418126757516765 and parameters: {'learning_rate': 0.909828907683963, 'n_estimators': 73, 'early_stopping_rounds': 8, 'subsample': 0.3638171011197715, 'max_depth': 4, 'min_samples_split': 2, 'min_samples_leaf': 10}. Best is trial 24 with value: 0.9437043883741887.\n",
            "[I 2023-12-24 19:28:23,504] Trial 28 finished with value: 0.9428874399061966 and parameters: {'learning_rate': 0.6124358548570497, 'n_estimators': 90, 'early_stopping_rounds': 6, 'subsample': 0.5862687926422089, 'max_depth': 5, 'min_samples_split': 3, 'min_samples_leaf': 7}. Best is trial 24 with value: 0.9437043883741887.\n",
            "[I 2023-12-24 19:28:24,232] Trial 29 finished with value: 0.930146715484027 and parameters: {'learning_rate': 0.46783389771262995, 'n_estimators': 5, 'early_stopping_rounds': 8, 'subsample': 0.20758667313336968, 'max_depth': 7, 'min_samples_split': 5, 'min_samples_leaf': 3}. Best is trial 24 with value: 0.9437043883741887.\n",
            "[I 2023-12-24 19:28:33,012] Trial 30 finished with value: 0.9408444700929811 and parameters: {'learning_rate': 0.7644368137567616, 'n_estimators': 81, 'early_stopping_rounds': 9, 'subsample': 0.3850898047648986, 'max_depth': 3, 'min_samples_split': 3, 'min_samples_leaf': 9}. Best is trial 24 with value: 0.9437043883741887.\n",
            "[I 2023-12-24 19:28:42,430] Trial 31 finished with value: 0.9420301827937164 and parameters: {'learning_rate': 0.7070302821455569, 'n_estimators': 95, 'early_stopping_rounds': 8, 'subsample': 0.804164236354605, 'max_depth': 4, 'min_samples_split': 4, 'min_samples_leaf': 10}. Best is trial 24 with value: 0.9437043883741887.\n",
            "[I 2023-12-24 19:28:49,096] Trial 32 finished with value: 0.9427214161823643 and parameters: {'learning_rate': 0.573645363717754, 'n_estimators': 100, 'early_stopping_rounds': 7, 'subsample': 0.5247636994444, 'max_depth': 4, 'min_samples_split': 4, 'min_samples_leaf': 10}. Best is trial 24 with value: 0.9437043883741887.\n",
            "[I 2023-12-24 19:28:56,971] Trial 33 finished with value: 0.9425386304479527 and parameters: {'learning_rate': 0.6529613342116886, 'n_estimators': 88, 'early_stopping_rounds': 8, 'subsample': 0.6254350307573131, 'max_depth': 5, 'min_samples_split': 2, 'min_samples_leaf': 9}. Best is trial 24 with value: 0.9437043883741887.\n",
            "[I 2023-12-24 19:29:01,324] Trial 34 finished with value: 0.9416729923301829 and parameters: {'learning_rate': 0.8728586848125915, 'n_estimators': 75, 'early_stopping_rounds': 9, 'subsample': 0.24958818835458185, 'max_depth': 3, 'min_samples_split': 5, 'min_samples_leaf': 10}. Best is trial 24 with value: 0.9437043883741887.\n",
            "[I 2023-12-24 19:29:08,750] Trial 35 finished with value: 0.9357611908370868 and parameters: {'learning_rate': 0.478661743348197, 'n_estimators': 94, 'early_stopping_rounds': 7, 'subsample': 0.8980486341256954, 'max_depth': 2, 'min_samples_split': 4, 'min_samples_leaf': 9}. Best is trial 24 with value: 0.9437043883741887.\n",
            "[I 2023-12-24 19:29:16,251] Trial 36 finished with value: 0.9416785796670426 and parameters: {'learning_rate': 0.8042263431665382, 'n_estimators': 87, 'early_stopping_rounds': 7, 'subsample': 0.805131248366882, 'max_depth': 6, 'min_samples_split': 2, 'min_samples_leaf': 8}. Best is trial 24 with value: 0.9437043883741887.\n",
            "[I 2023-12-24 19:29:20,880] Trial 37 finished with value: 0.9387284658050994 and parameters: {'learning_rate': 0.5370119962642497, 'n_estimators': 49, 'early_stopping_rounds': 9, 'subsample': 0.5321062397693677, 'max_depth': 4, 'min_samples_split': 7, 'min_samples_leaf': 10}. Best is trial 24 with value: 0.9437043883741887.\n",
            "[I 2023-12-24 19:29:25,637] Trial 38 finished with value: 0.9408021659710433 and parameters: {'learning_rate': 0.7420144820580156, 'n_estimators': 79, 'early_stopping_rounds': 10, 'subsample': 0.3707103500218327, 'max_depth': 3, 'min_samples_split': 3, 'min_samples_leaf': 9}. Best is trial 24 with value: 0.9437043883741887.\n",
            "[I 2023-12-24 19:29:31,505] Trial 39 finished with value: 0.9401684023329525 and parameters: {'learning_rate': 0.9237597585051109, 'n_estimators': 94, 'early_stopping_rounds': 5, 'subsample': 0.0685861093204182, 'max_depth': 2, 'min_samples_split': 6, 'min_samples_leaf': 9}. Best is trial 24 with value: 0.9437043883741887.\n",
            "[I 2023-12-24 19:29:37,592] Trial 40 finished with value: 0.9411996650790648 and parameters: {'learning_rate': 0.8445363845385473, 'n_estimators': 85, 'early_stopping_rounds': 8, 'subsample': 0.9381300126413072, 'max_depth': 5, 'min_samples_split': 2, 'min_samples_leaf': 7}. Best is trial 24 with value: 0.9437043883741887.\n",
            "[I 2023-12-24 19:29:45,028] Trial 41 finished with value: 0.9427170261319746 and parameters: {'learning_rate': 0.6633900357434632, 'n_estimators': 100, 'early_stopping_rounds': 8, 'subsample': 0.5761807508073152, 'max_depth': 4, 'min_samples_split': 4, 'min_samples_leaf': 10}. Best is trial 24 with value: 0.9437043883741887.\n",
            "[I 2023-12-24 19:29:52,036] Trial 42 finished with value: 0.9428291719646592 and parameters: {'learning_rate': 0.7064804149639289, 'n_estimators': 95, 'early_stopping_rounds': 9, 'subsample': 0.4818399596727246, 'max_depth': 4, 'min_samples_split': 4, 'min_samples_leaf': 10}. Best is trial 24 with value: 0.9437043883741887.\n",
            "[I 2023-12-24 19:29:59,888] Trial 43 finished with value: 0.9424157090370385 and parameters: {'learning_rate': 0.5811995878649281, 'n_estimators': 95, 'early_stopping_rounds': 8, 'subsample': 0.4021949999200719, 'max_depth': 6, 'min_samples_split': 3, 'min_samples_leaf': 10}. Best is trial 24 with value: 0.9437043883741887.\n",
            "[I 2023-12-24 19:30:02,284] Trial 44 finished with value: 0.9380615772413402 and parameters: {'learning_rate': 0.7903718692232424, 'n_estimators': 30, 'early_stopping_rounds': 7, 'subsample': 0.6154022992463086, 'max_depth': 5, 'min_samples_split': 6, 'min_samples_leaf': 9}. Best is trial 24 with value: 0.9437043883741887.\n",
            "[I 2023-12-24 19:30:08,862] Trial 45 finished with value: 0.9411262315089082 and parameters: {'learning_rate': 0.6646035564784085, 'n_estimators': 98, 'early_stopping_rounds': 10, 'subsample': 0.7382659373771538, 'max_depth': 3, 'min_samples_split': 5, 'min_samples_leaf': 10}. Best is trial 24 with value: 0.9437043883741887.\n",
            "[I 2023-12-24 19:30:15,223] Trial 46 finished with value: 0.9427693076411621 and parameters: {'learning_rate': 0.9486869290141092, 'n_estimators': 85, 'early_stopping_rounds': 8, 'subsample': 0.182029893121755, 'max_depth': 4, 'min_samples_split': 4, 'min_samples_leaf': 8}. Best is trial 24 with value: 0.9437043883741887.\n",
            "[I 2023-12-24 19:30:20,960] Trial 47 finished with value: 0.9417001308235016 and parameters: {'learning_rate': 0.8247647220524414, 'n_estimators': 78, 'early_stopping_rounds': 6, 'subsample': 0.4954579362137485, 'max_depth': 6, 'min_samples_split': 3, 'min_samples_leaf': 10}. Best is trial 24 with value: 0.9437043883741887.\n",
            "[I 2023-12-24 19:30:26,468] Trial 48 finished with value: 0.9428618977948378 and parameters: {'learning_rate': 0.712683665763419, 'n_estimators': 67, 'early_stopping_rounds': 9, 'subsample': 0.5591259493152098, 'max_depth': 4, 'min_samples_split': 4, 'min_samples_leaf': 8}. Best is trial 24 with value: 0.9437043883741887.\n",
            "[I 2023-12-24 19:30:32,138] Trial 49 finished with value: 0.9389631339532085 and parameters: {'learning_rate': 0.5122462411843413, 'n_estimators': 89, 'early_stopping_rounds': 7, 'subsample': 0.42520643515263723, 'max_depth': 3, 'min_samples_split': 5, 'min_samples_leaf': 6}. Best is trial 24 with value: 0.9437043883741887.\n",
            "[I 2023-12-24 19:30:40,429] Trial 50 finished with value: 0.9420633077193847 and parameters: {'learning_rate': 0.2821243617018358, 'n_estimators': 97, 'early_stopping_rounds': 10, 'subsample': 0.6533745898438755, 'max_depth': 5, 'min_samples_split': 3, 'min_samples_leaf': 2}. Best is trial 24 with value: 0.9437043883741887.\n",
            "[I 2023-12-24 19:30:48,073] Trial 51 finished with value: 0.9425629752728415 and parameters: {'learning_rate': 0.6227737544559397, 'n_estimators': 100, 'early_stopping_rounds': 7, 'subsample': 0.7014197254065754, 'max_depth': 5, 'min_samples_split': 3, 'min_samples_leaf': 10}. Best is trial 24 with value: 0.9437043883741887.\n",
            "[I 2023-12-24 19:30:54,210] Trial 52 finished with value: 0.9426958740710055 and parameters: {'learning_rate': 0.748724713133722, 'n_estimators': 91, 'early_stopping_rounds': 8, 'subsample': 0.6244372503075843, 'max_depth': 5, 'min_samples_split': 4, 'min_samples_leaf': 9}. Best is trial 24 with value: 0.9437043883741887.\n",
            "[I 2023-12-24 19:31:02,591] Trial 53 finished with value: 0.9418537825871446 and parameters: {'learning_rate': 0.6145472581027783, 'n_estimators': 100, 'early_stopping_rounds': 7, 'subsample': 0.7621924141232522, 'max_depth': 6, 'min_samples_split': 2, 'min_samples_leaf': 10}. Best is trial 24 with value: 0.9437043883741887.\n",
            "[I 2023-12-24 19:31:10,003] Trial 54 finished with value: 0.9422241432018473 and parameters: {'learning_rate': 0.6899861744501701, 'n_estimators': 92, 'early_stopping_rounds': 8, 'subsample': 0.4794705049701029, 'max_depth': 4, 'min_samples_split': 3, 'min_samples_leaf': 10}. Best is trial 24 with value: 0.9437043883741887.\n",
            "[I 2023-12-24 19:31:16,107] Trial 55 finished with value: 0.9377574664779743 and parameters: {'learning_rate': 0.5777089761689531, 'n_estimators': 95, 'early_stopping_rounds': 9, 'subsample': 0.5539321025065118, 'max_depth': 10, 'min_samples_split': 4, 'min_samples_leaf': 9}. Best is trial 24 with value: 0.9437043883741887.\n",
            "[I 2023-12-24 19:31:22,337] Trial 56 finished with value: 0.9431324845370452 and parameters: {'learning_rate': 0.7868392917799014, 'n_estimators': 83, 'early_stopping_rounds': 6, 'subsample': 0.8468371632052348, 'max_depth': 5, 'min_samples_split': 3, 'min_samples_leaf': 10}. Best is trial 24 with value: 0.9437043883741887.\n",
            "[I 2023-12-24 19:31:28,580] Trial 57 finished with value: 0.9437239440531979 and parameters: {'learning_rate': 0.8566705946510467, 'n_estimators': 81, 'early_stopping_rounds': 4, 'subsample': 0.9554695809681548, 'max_depth': 4, 'min_samples_split': 5, 'min_samples_leaf': 9}. Best is trial 57 with value: 0.9437239440531979.\n",
            "[I 2023-12-24 19:31:35,658] Trial 58 finished with value: 0.9394747743713648 and parameters: {'learning_rate': 0.8640398846792928, 'n_estimators': 87, 'early_stopping_rounds': 5, 'subsample': 0.9416568825930735, 'max_depth': 2, 'min_samples_split': 6, 'min_samples_leaf': 9}. Best is trial 57 with value: 0.9437239440531979.\n",
            "[I 2023-12-24 19:31:41,078] Trial 59 finished with value: 0.9426603545723972 and parameters: {'learning_rate': 0.9557261817570445, 'n_estimators': 69, 'early_stopping_rounds': 4, 'subsample': 0.9666905862259482, 'max_depth': 4, 'min_samples_split': 5, 'min_samples_leaf': 5}. Best is trial 57 with value: 0.9437239440531979.\n",
            "[I 2023-12-24 19:31:47,319] Trial 60 finished with value: 0.9224701137342328 and parameters: {'learning_rate': 0.03794325269794285, 'n_estimators': 91, 'early_stopping_rounds': 3, 'subsample': 0.31642025074924135, 'max_depth': 3, 'min_samples_split': 5, 'min_samples_leaf': 9}. Best is trial 57 with value: 0.9437239440531979.\n",
            "[I 2023-12-24 19:31:53,165] Trial 61 finished with value: 0.9421323512391515 and parameters: {'learning_rate': 0.7951159045604965, 'n_estimators': 97, 'early_stopping_rounds': 4, 'subsample': 0.8722602149882793, 'max_depth': 4, 'min_samples_split': 4, 'min_samples_leaf': 10}. Best is trial 57 with value: 0.9437239440531979.\n",
            "[I 2023-12-24 19:32:00,999] Trial 62 finished with value: 0.9423079532547436 and parameters: {'learning_rate': 0.7778404523918282, 'n_estimators': 81, 'early_stopping_rounds': 6, 'subsample': 0.9227016169030817, 'max_depth': 5, 'min_samples_split': 4, 'min_samples_leaf': 10}. Best is trial 57 with value: 0.9437239440531979.\n",
            "[I 2023-12-24 19:32:05,178] Trial 63 finished with value: 0.9397509484504319 and parameters: {'learning_rate': 0.7350060388199517, 'n_estimators': 54, 'early_stopping_rounds': 3, 'subsample': 0.8677004879116464, 'max_depth': 4, 'min_samples_split': 3, 'min_samples_leaf': 10}. Best is trial 57 with value: 0.9437239440531979.\n",
            "[I 2023-12-24 19:32:11,058] Trial 64 finished with value: 0.9415879849908168 and parameters: {'learning_rate': 0.8279130800907636, 'n_estimators': 82, 'early_stopping_rounds': 5, 'subsample': 0.8442848071209579, 'max_depth': 5, 'min_samples_split': 5, 'min_samples_leaf': 10}. Best is trial 57 with value: 0.9437239440531979.\n",
            "[I 2023-12-24 19:32:19,635] Trial 65 finished with value: 0.9441354115033688 and parameters: {'learning_rate': 0.8932815657464184, 'n_estimators': 85, 'early_stopping_rounds': 4, 'subsample': 0.991865624777745, 'max_depth': 5, 'min_samples_split': 4, 'min_samples_leaf': 9}. Best is trial 65 with value: 0.9441354115033688.\n",
            "[I 2023-12-24 19:32:27,055] Trial 66 finished with value: 0.9423526519496214 and parameters: {'learning_rate': 0.8967396920613788, 'n_estimators': 86, 'early_stopping_rounds': 4, 'subsample': 0.9999657073718825, 'max_depth': 4, 'min_samples_split': 4, 'min_samples_leaf': 8}. Best is trial 65 with value: 0.9441354115033688.\n",
            "[I 2023-12-24 19:32:29,945] Trial 67 finished with value: 0.9370558566065869 and parameters: {'learning_rate': 0.9312397872906834, 'n_estimators': 35, 'early_stopping_rounds': 4, 'subsample': 0.9039844966892098, 'max_depth': 3, 'min_samples_split': 5, 'min_samples_leaf': 9}. Best is trial 65 with value: 0.9441354115033688.\n",
            "[I 2023-12-24 19:32:37,274] Trial 68 finished with value: 0.9421155892285723 and parameters: {'learning_rate': 0.8804184562122869, 'n_estimators': 92, 'early_stopping_rounds': 4, 'subsample': 0.9546602085478199, 'max_depth': 5, 'min_samples_split': 4, 'min_samples_leaf': 9}. Best is trial 65 with value: 0.9441354115033688.\n",
            "[I 2023-12-24 19:32:44,125] Trial 69 finished with value: 0.9431859633327029 and parameters: {'learning_rate': 0.9987778479048635, 'n_estimators': 76, 'early_stopping_rounds': 8, 'subsample': 0.784337872466888, 'max_depth': 4, 'min_samples_split': 5, 'min_samples_leaf': 3}. Best is trial 65 with value: 0.9441354115033688.\n",
            "[I 2023-12-24 19:32:48,189] Trial 70 finished with value: 0.9421894218942191 and parameters: {'learning_rate': 0.974519266287667, 'n_estimators': 73, 'early_stopping_rounds': 5, 'subsample': 0.7955866264561441, 'max_depth': 7, 'min_samples_split': 6, 'min_samples_leaf': 4}. Best is trial 65 with value: 0.9441354115033688.\n",
            "[I 2023-12-24 19:32:57,041] Trial 71 finished with value: 0.9431987343883822 and parameters: {'learning_rate': 0.9863542129706047, 'n_estimators': 97, 'early_stopping_rounds': 8, 'subsample': 0.9816319583229264, 'max_depth': 4, 'min_samples_split': 5, 'min_samples_leaf': 5}. Best is trial 65 with value: 0.9441354115033688.\n",
            "[I 2023-12-24 19:33:02,457] Trial 72 finished with value: 0.9422393088304668 and parameters: {'learning_rate': 0.9286815455981186, 'n_estimators': 76, 'early_stopping_rounds': 8, 'subsample': 0.9814687215783805, 'max_depth': 3, 'min_samples_split': 7, 'min_samples_leaf': 3}. Best is trial 65 with value: 0.9441354115033688.\n",
            "[I 2023-12-24 19:33:10,364] Trial 73 finished with value: 0.9432162945899413 and parameters: {'learning_rate': 0.9942711956947968, 'n_estimators': 88, 'early_stopping_rounds': 9, 'subsample': 0.9090958753471533, 'max_depth': 4, 'min_samples_split': 5, 'min_samples_leaf': 3}. Best is trial 65 with value: 0.9441354115033688.\n",
            "[I 2023-12-24 19:33:17,100] Trial 74 finished with value: 0.9424161081325284 and parameters: {'learning_rate': 0.9696898540062746, 'n_estimators': 89, 'early_stopping_rounds': 9, 'subsample': 0.9052835506539724, 'max_depth': 4, 'min_samples_split': 5, 'min_samples_leaf': 4}. Best is trial 65 with value: 0.9441354115033688.\n",
            "[I 2023-12-24 19:33:25,747] Trial 75 finished with value: 0.9435515348015259 and parameters: {'learning_rate': 0.8521470343504742, 'n_estimators': 96, 'early_stopping_rounds': 9, 'subsample': 0.9568735668143822, 'max_depth': 4, 'min_samples_split': 6, 'min_samples_leaf': 5}. Best is trial 65 with value: 0.9441354115033688.\n",
            "[I 2023-12-24 19:33:28,484] Trial 76 finished with value: 0.9369157740896032 and parameters: {'learning_rate': 0.8370722041544828, 'n_estimators': 21, 'early_stopping_rounds': 10, 'subsample': 0.9278049909794591, 'max_depth': 9, 'min_samples_split': 7, 'min_samples_leaf': 6}. Best is trial 65 with value: 0.9441354115033688.\n",
            "[I 2023-12-24 19:33:37,449] Trial 77 finished with value: 0.9430175450359306 and parameters: {'learning_rate': 0.9000103720456258, 'n_estimators': 92, 'early_stopping_rounds': 9, 'subsample': 0.9616589531767061, 'max_depth': 5, 'min_samples_split': 6, 'min_samples_leaf': 2}. Best is trial 65 with value: 0.9441354115033688.\n",
            "[I 2023-12-24 19:33:43,606] Trial 78 finished with value: 0.9415201387575198 and parameters: {'learning_rate': 0.8623893153295382, 'n_estimators': 88, 'early_stopping_rounds': 9, 'subsample': 0.8860942139190991, 'max_depth': 3, 'min_samples_split': 6, 'min_samples_leaf': 3}. Best is trial 65 with value: 0.9441354115033688.\n",
            "[I 2023-12-24 19:33:48,247] Trial 79 finished with value: 0.9406042146080124 and parameters: {'learning_rate': 0.8110182570608507, 'n_estimators': 46, 'early_stopping_rounds': 9, 'subsample': 0.9988959287551057, 'max_depth': 4, 'min_samples_split': 8, 'min_samples_leaf': 5}. Best is trial 65 with value: 0.9441354115033688.\n",
            "[I 2023-12-24 19:33:55,351] Trial 80 finished with value: 0.9422157621965577 and parameters: {'learning_rate': 0.8515646612601664, 'n_estimators': 80, 'early_stopping_rounds': 10, 'subsample': 0.8292520532548372, 'max_depth': 6, 'min_samples_split': 6, 'min_samples_leaf': 7}. Best is trial 65 with value: 0.9441354115033688.\n",
            "[I 2023-12-24 19:34:04,164] Trial 81 finished with value: 0.9430522663435591 and parameters: {'learning_rate': 0.9492918285016276, 'n_estimators': 98, 'early_stopping_rounds': 9, 'subsample': 0.966250581398879, 'max_depth': 4, 'min_samples_split': 5, 'min_samples_leaf': 4}. Best is trial 65 with value: 0.9441354115033688.\n",
            "[I 2023-12-24 19:34:11,681] Trial 82 finished with value: 0.9420078334462774 and parameters: {'learning_rate': 0.8993996440956098, 'n_estimators': 97, 'early_stopping_rounds': 8, 'subsample': 0.9500804643110083, 'max_depth': 4, 'min_samples_split': 5, 'min_samples_leaf': 5}. Best is trial 65 with value: 0.9441354115033688.\n",
            "[I 2023-12-24 19:34:15,021] Trial 83 finished with value: 0.9388809202822723 and parameters: {'learning_rate': 0.9994974852077566, 'n_estimators': 94, 'early_stopping_rounds': 3, 'subsample': 0.27501840842061026, 'max_depth': 4, 'min_samples_split': 4, 'min_samples_leaf': 6}. Best is trial 65 with value: 0.9441354115033688.\n",
            "[I 2023-12-24 19:34:23,165] Trial 84 finished with value: 0.9433188621308667 and parameters: {'learning_rate': 0.923614893520511, 'n_estimators': 96, 'early_stopping_rounds': 8, 'subsample': 0.9304235305003714, 'max_depth': 5, 'min_samples_split': 4, 'min_samples_leaf': 5}. Best is trial 65 with value: 0.9441354115033688.\n",
            "[I 2023-12-24 19:34:31,461] Trial 85 finished with value: 0.9445939722213575 and parameters: {'learning_rate': 0.9294690647254309, 'n_estimators': 86, 'early_stopping_rounds': 9, 'subsample': 0.9250963925219127, 'max_depth': 5, 'min_samples_split': 4, 'min_samples_leaf': 5}. Best is trial 85 with value: 0.9445939722213575.\n",
            "[I 2023-12-24 19:34:37,460] Trial 86 finished with value: 0.9426591572859271 and parameters: {'learning_rate': 0.8810941862136876, 'n_estimators': 84, 'early_stopping_rounds': 8, 'subsample': 0.927565616846598, 'max_depth': 6, 'min_samples_split': 4, 'min_samples_leaf': 5}. Best is trial 85 with value: 0.9445939722213575.\n",
            "[I 2023-12-24 19:34:46,279] Trial 87 finished with value: 0.9415101613702704 and parameters: {'learning_rate': 0.7652687795803185, 'n_estimators': 93, 'early_stopping_rounds': 10, 'subsample': 0.8664646714122239, 'max_depth': 5, 'min_samples_split': 4, 'min_samples_leaf': 5}. Best is trial 85 with value: 0.9445939722213575.\n",
            "[I 2023-12-24 19:34:54,315] Trial 88 finished with value: 0.9427748949780218 and parameters: {'learning_rate': 0.9263637682620252, 'n_estimators': 86, 'early_stopping_rounds': 9, 'subsample': 0.8285098990497869, 'max_depth': 6, 'min_samples_split': 3, 'min_samples_leaf': 4}. Best is trial 85 with value: 0.9445939722213575.\n",
            "[I 2023-12-24 19:35:02,817] Trial 89 finished with value: 0.9435834624407243 and parameters: {'learning_rate': 0.6818792490069048, 'n_estimators': 96, 'early_stopping_rounds': 9, 'subsample': 0.8853537619583, 'max_depth': 5, 'min_samples_split': 4, 'min_samples_leaf': 6}. Best is trial 85 with value: 0.9445939722213575.\n",
            "[I 2023-12-24 19:35:10,893] Trial 90 finished with value: 0.9429461069432239 and parameters: {'learning_rate': 0.8481351141246257, 'n_estimators': 90, 'early_stopping_rounds': 9, 'subsample': 0.712069735555958, 'max_depth': 5, 'min_samples_split': 4, 'min_samples_leaf': 6}. Best is trial 85 with value: 0.9445939722213575.\n",
            "[I 2023-12-24 19:35:19,023] Trial 91 finished with value: 0.9427417700523534 and parameters: {'learning_rate': 0.6794499038269395, 'n_estimators': 96, 'early_stopping_rounds': 9, 'subsample': 0.9381656426299636, 'max_depth': 5, 'min_samples_split': 4, 'min_samples_leaf': 6}. Best is trial 85 with value: 0.9445939722213575.\n",
            "[I 2023-12-24 19:35:28,676] Trial 92 finished with value: 0.9429385241289143 and parameters: {'learning_rate': 0.6420298842571202, 'n_estimators': 99, 'early_stopping_rounds': 8, 'subsample': 0.9733529265018708, 'max_depth': 5, 'min_samples_split': 4, 'min_samples_leaf': 5}. Best is trial 85 with value: 0.9445939722213575.\n",
            "[I 2023-12-24 19:35:37,000] Trial 93 finished with value: 0.9412311936227734 and parameters: {'learning_rate': 0.7412197559321877, 'n_estimators': 94, 'early_stopping_rounds': 8, 'subsample': 0.6631921162094336, 'max_depth': 5, 'min_samples_split': 3, 'min_samples_leaf': 5}. Best is trial 85 with value: 0.9445939722213575.\n",
            "[I 2023-12-24 19:35:45,492] Trial 94 finished with value: 0.9443936262853869 and parameters: {'learning_rate': 0.8135770090146309, 'n_estimators': 96, 'early_stopping_rounds': 9, 'subsample': 0.8829567210491274, 'max_depth': 6, 'min_samples_split': 4, 'min_samples_leaf': 7}. Best is trial 85 with value: 0.9445939722213575.\n",
            "[I 2023-12-24 19:35:54,881] Trial 95 finished with value: 0.9414490997603033 and parameters: {'learning_rate': 0.8115651869984875, 'n_estimators': 91, 'early_stopping_rounds': 9, 'subsample': 0.8928762263955978, 'max_depth': 6, 'min_samples_split': 4, 'min_samples_leaf': 7}. Best is trial 85 with value: 0.9445939722213575.\n",
            "[I 2023-12-24 19:35:58,842] Trial 96 finished with value: 0.9398247811160785 and parameters: {'learning_rate': 0.9144563028294923, 'n_estimators': 96, 'early_stopping_rounds': 9, 'subsample': 0.7671142530889385, 'max_depth': 7, 'min_samples_split': 4, 'min_samples_leaf': 6}. Best is trial 85 with value: 0.9445939722213575.\n",
            "[I 2023-12-24 19:36:07,947] Trial 97 finished with value: 0.9416733914256729 and parameters: {'learning_rate': 0.8175623088538988, 'n_estimators': 100, 'early_stopping_rounds': 10, 'subsample': 0.8605295607303983, 'max_depth': 6, 'min_samples_split': 3, 'min_samples_leaf': 8}. Best is trial 85 with value: 0.9445939722213575.\n",
            "[I 2023-12-24 19:36:15,987] Trial 98 finished with value: 0.9425027118538545 and parameters: {'learning_rate': 0.7268084276031844, 'n_estimators': 84, 'early_stopping_rounds': 9, 'subsample': 0.9130757842357653, 'max_depth': 5, 'min_samples_split': 4, 'min_samples_leaf': 6}. Best is trial 85 with value: 0.9445939722213575.\n",
            "[I 2023-12-24 19:36:22,389] Trial 99 finished with value: 0.9427701058321419 and parameters: {'learning_rate': 0.7729679957972069, 'n_estimators': 93, 'early_stopping_rounds': 10, 'subsample': 0.34739777532059896, 'max_depth': 5, 'min_samples_split': 3, 'min_samples_leaf': 7}. Best is trial 85 with value: 0.9445939722213575.\n"
          ]
        },
        {
          "name": "stdout",
          "output_type": "stream",
          "text": [
            "{'learning_rate': 0.9294690647254309, 'n_estimators': 86, 'early_stopping_rounds': 9, 'subsample': 0.9250963925219127, 'max_depth': 5, 'min_samples_split': 4, 'min_samples_leaf': 5}\n"
          ]
        }
      ],
      "source": [
        "def objective(trial):\n",
        "    learning_rate = trial.suggest_float('learning_rate', 0, 1)\n",
        "    n_estimators = trial.suggest_int('n_estimators', 5, 100)\n",
        "    early_stopping_rounds = trial.suggest_int('early_stopping_rounds', 3, 10)\n",
        "    subsample = trial.suggest_float('subsample', 0, 1)\n",
        "    base_model_params ={\n",
        "        'max_depth': trial.suggest_int('max_depth', 2, 10),\n",
        "        'min_samples_split': trial.suggest_int('min_samples_split', 2, 10),\n",
        "        'min_samples_leaf': trial.suggest_int('min_samples_leaf', 2, 10)\n",
        "    }\n",
        "    model = Boosting(\n",
        "        learning_rate = learning_rate,\n",
        "        n_estimators = n_estimators,\n",
        "        early_stopping_rounds = early_stopping_rounds,\n",
        "        subsample = subsample,\n",
        "        base_model_params = base_model_params\n",
        "    )\n",
        "    model.fit(x_train, y_train, x_valid, y_valid)\n",
        "    score = model.score(x_valid, y_valid)\n",
        "    return score\n",
        "study = optuna.create_study(direction='maximize')\n",
        "study.optimize(objective, n_trials=100)\n",
        "print(study.best_params)"
      ]
    },
    {
      "cell_type": "markdown",
      "metadata": {
        "id": "nLGkj3BP-akA"
      },
      "source": [
        "Вот наши лучшие гиперпараметры:\n",
        "\n",
        "{'learning_rate': 0.9294690647254309, 'n_estimators': 86, 'early_stopping_rounds': 9, 'subsample': 0.9250963925219127, 'max_depth': 5, 'min_samples_split': 4, 'min_samples_leaf': 5}"
      ]
    },
    {
      "cell_type": "markdown",
      "metadata": {
        "id": "MsJMAmdyk26m",
        "pycharm": {
          "name": "#%% md\n"
        }
      },
      "source": [
        "## Задание 4. Интерпретация бустингового (2 балл)\n",
        "\n",
        "Постройте калибровочную кривую для вашей лучшей модели бустинга. Насколько хорошо бустинг оценивает вероятности? Постройте также калибровочную кривую для логистической регрессии, сравните их между собой. Проанализируйте полученные результаты."
      ]
    },
    {
      "cell_type": "markdown",
      "metadata": {
        "id": "LzrupbcLAJgN"
      },
      "source": [
        "Используем код из 4 домашки."
      ]
    },
    {
      "cell_type": "code",
      "execution_count": null,
      "metadata": {
        "id": "PLaGYDWfk26m",
        "pycharm": {
          "name": "#%%\n"
        }
      },
      "outputs": [],
      "source": [
        "def plot_calibration_curve(y_test, preds):\n",
        "    bin_middle_points = []\n",
        "    bin_real_ratios = []\n",
        "    n_bins = 10\n",
        "    for i in range(n_bins):\n",
        "        l = (1.0 / n_bins) * i\n",
        "        r = (1.0 / n_bins) * (i + 1)\n",
        "        bin_middle_points.append((l + r) / 2)\n",
        "        bin_real_ratios.append(np.mean(y_test[(preds >= l) & (preds < r)] == 1))\n",
        "    plt.figure(figsize=(6,6))\n",
        "    plt.grid(True)\n",
        "    plt.plot(bin_middle_points, bin_real_ratios)\n",
        "    plt.plot(bin_middle_points, bin_middle_points)\n",
        "    plt.ylim([-0.05, 1.05])\n",
        "    plt.grid()"
      ]
    },
    {
      "cell_type": "code",
      "execution_count": null,
      "metadata": {
        "id": "mIAycWB4WL7v"
      },
      "outputs": [],
      "source": [
        "best_params = {'learning_rate': 0.9294690647254309, 'n_estimators': 86, 'early_stopping_rounds': 9, 'subsample': 0.9250963925219127, 'max_depth': 5, 'min_samples_split': 4, 'min_samples_leaf': 5}"
      ]
    },
    {
      "cell_type": "code",
      "execution_count": null,
      "metadata": {
        "id": "uBPYZ06BERcz"
      },
      "outputs": [],
      "source": [
        "base_model_params = {\n",
        "    'max_depth': best_params['max_depth'],\n",
        "    'min_samples_leaf': best_params['min_samples_leaf'],\n",
        "    'min_samples_split': best_params['min_samples_split']\n",
        "}"
      ]
    },
    {
      "cell_type": "code",
      "execution_count": null,
      "metadata": {
        "id": "tPsR5YcREMj8"
      },
      "outputs": [],
      "source": [
        "model = Boosting(\n",
        "    base_model_params = base_model_params,\n",
        "    n_estimators = best_params['n_estimators'],\n",
        "    learning_rate = best_params['learning_rate'],\n",
        "    subsample = best_params['subsample'],\n",
        "    early_stopping_rounds = best_params['early_stopping_rounds']\n",
        ")"
      ]
    },
    {
      "cell_type": "code",
      "execution_count": null,
      "metadata": {
        "id": "RUOryfScYKvo"
      },
      "outputs": [],
      "source": [
        "model.fit(x_train, y_train, x_valid, y_valid)"
      ]
    },
    {
      "cell_type": "code",
      "execution_count": null,
      "metadata": {
        "id": "fuDl7FAwBBGN"
      },
      "outputs": [],
      "source": [
        "preds = model.predict_proba(x_test)[:, 1]"
      ]
    },
    {
      "cell_type": "code",
      "execution_count": null,
      "metadata": {
        "id": "KudDQkvoZIVZ"
      },
      "outputs": [],
      "source": [
        "from sklearn.calibration import calibration_curve"
      ]
    },
    {
      "cell_type": "code",
      "execution_count": null,
      "metadata": {
        "id": "4RYtxqxmDWJo"
      },
      "outputs": [],
      "source": [
        "from sklearn.linear_model import LogisticRegression"
      ]
    },
    {
      "cell_type": "code",
      "execution_count": null,
      "metadata": {
        "id": "XjJAlVm8ZFwg"
      },
      "outputs": [],
      "source": [
        "true_boosting, pred_boosting = calibration_curve(y_test, preds, n_bins = 10)"
      ]
    },
    {
      "cell_type": "code",
      "execution_count": null,
      "metadata": {
        "colab": {
          "base_uri": "https://localhost:8080/",
          "height": 74
        },
        "id": "WGmcmyIrZ7m4",
        "outputId": "34329115-6c4d-4a9a-8471-4f522bade340"
      },
      "outputs": [
        {
          "data": {
            "text/html": [
              "<style>#sk-container-id-3 {color: black;background-color: white;}#sk-container-id-3 pre{padding: 0;}#sk-container-id-3 div.sk-toggleable {background-color: white;}#sk-container-id-3 label.sk-toggleable__label {cursor: pointer;display: block;width: 100%;margin-bottom: 0;padding: 0.3em;box-sizing: border-box;text-align: center;}#sk-container-id-3 label.sk-toggleable__label-arrow:before {content: \"▸\";float: left;margin-right: 0.25em;color: #696969;}#sk-container-id-3 label.sk-toggleable__label-arrow:hover:before {color: black;}#sk-container-id-3 div.sk-estimator:hover label.sk-toggleable__label-arrow:before {color: black;}#sk-container-id-3 div.sk-toggleable__content {max-height: 0;max-width: 0;overflow: hidden;text-align: left;background-color: #f0f8ff;}#sk-container-id-3 div.sk-toggleable__content pre {margin: 0.2em;color: black;border-radius: 0.25em;background-color: #f0f8ff;}#sk-container-id-3 input.sk-toggleable__control:checked~div.sk-toggleable__content {max-height: 200px;max-width: 100%;overflow: auto;}#sk-container-id-3 input.sk-toggleable__control:checked~label.sk-toggleable__label-arrow:before {content: \"▾\";}#sk-container-id-3 div.sk-estimator input.sk-toggleable__control:checked~label.sk-toggleable__label {background-color: #d4ebff;}#sk-container-id-3 div.sk-label input.sk-toggleable__control:checked~label.sk-toggleable__label {background-color: #d4ebff;}#sk-container-id-3 input.sk-hidden--visually {border: 0;clip: rect(1px 1px 1px 1px);clip: rect(1px, 1px, 1px, 1px);height: 1px;margin: -1px;overflow: hidden;padding: 0;position: absolute;width: 1px;}#sk-container-id-3 div.sk-estimator {font-family: monospace;background-color: #f0f8ff;border: 1px dotted black;border-radius: 0.25em;box-sizing: border-box;margin-bottom: 0.5em;}#sk-container-id-3 div.sk-estimator:hover {background-color: #d4ebff;}#sk-container-id-3 div.sk-parallel-item::after {content: \"\";width: 100%;border-bottom: 1px solid gray;flex-grow: 1;}#sk-container-id-3 div.sk-label:hover label.sk-toggleable__label {background-color: #d4ebff;}#sk-container-id-3 div.sk-serial::before {content: \"\";position: absolute;border-left: 1px solid gray;box-sizing: border-box;top: 0;bottom: 0;left: 50%;z-index: 0;}#sk-container-id-3 div.sk-serial {display: flex;flex-direction: column;align-items: center;background-color: white;padding-right: 0.2em;padding-left: 0.2em;position: relative;}#sk-container-id-3 div.sk-item {position: relative;z-index: 1;}#sk-container-id-3 div.sk-parallel {display: flex;align-items: stretch;justify-content: center;background-color: white;position: relative;}#sk-container-id-3 div.sk-item::before, #sk-container-id-3 div.sk-parallel-item::before {content: \"\";position: absolute;border-left: 1px solid gray;box-sizing: border-box;top: 0;bottom: 0;left: 50%;z-index: -1;}#sk-container-id-3 div.sk-parallel-item {display: flex;flex-direction: column;z-index: 1;position: relative;background-color: white;}#sk-container-id-3 div.sk-parallel-item:first-child::after {align-self: flex-end;width: 50%;}#sk-container-id-3 div.sk-parallel-item:last-child::after {align-self: flex-start;width: 50%;}#sk-container-id-3 div.sk-parallel-item:only-child::after {width: 0;}#sk-container-id-3 div.sk-dashed-wrapped {border: 1px dashed gray;margin: 0 0.4em 0.5em 0.4em;box-sizing: border-box;padding-bottom: 0.4em;background-color: white;}#sk-container-id-3 div.sk-label label {font-family: monospace;font-weight: bold;display: inline-block;line-height: 1.2em;}#sk-container-id-3 div.sk-label-container {text-align: center;}#sk-container-id-3 div.sk-container {/* jupyter's `normalize.less` sets `[hidden] { display: none; }` but bootstrap.min.css set `[hidden] { display: none !important; }` so we also need the `!important` here to be able to override the default hidden behavior on the sphinx rendered scikit-learn.org. See: https://github.com/scikit-learn/scikit-learn/issues/21755 */display: inline-block !important;position: relative;}#sk-container-id-3 div.sk-text-repr-fallback {display: none;}</style><div id=\"sk-container-id-3\" class=\"sk-top-container\"><div class=\"sk-text-repr-fallback\"><pre>LogisticRegression(C=0.1, max_iter=10000, random_state=42)</pre><b>In a Jupyter environment, please rerun this cell to show the HTML representation or trust the notebook. <br />On GitHub, the HTML representation is unable to render, please try loading this page with nbviewer.org.</b></div><div class=\"sk-container\" hidden><div class=\"sk-item\"><div class=\"sk-estimator sk-toggleable\"><input class=\"sk-toggleable__control sk-hidden--visually\" id=\"sk-estimator-id-3\" type=\"checkbox\" checked><label for=\"sk-estimator-id-3\" class=\"sk-toggleable__label sk-toggleable__label-arrow\">LogisticRegression</label><div class=\"sk-toggleable__content\"><pre>LogisticRegression(C=0.1, max_iter=10000, random_state=42)</pre></div></div></div></div></div>"
            ],
            "text/plain": [
              "LogisticRegression(C=0.1, max_iter=10000, random_state=42)"
            ]
          },
          "execution_count": 97,
          "metadata": {},
          "output_type": "execute_result"
        }
      ],
      "source": [
        "clflog = LogisticRegression(random_state = 42, max_iter=10000, C=0.1)\n",
        "clflog.fit(x_train, y_train)"
      ]
    },
    {
      "cell_type": "code",
      "execution_count": null,
      "metadata": {
        "id": "a_ru9aXxaC7a"
      },
      "outputs": [],
      "source": [
        "y_log_pred = clflog.predict_proba(x_test)[:, 1]"
      ]
    },
    {
      "cell_type": "code",
      "execution_count": null,
      "metadata": {
        "id": "kMpNFYwvaGdj"
      },
      "outputs": [],
      "source": [
        "true_logreg, pred_logreg = calibration_curve(y_test,y_log_pred, n_bins = 10)"
      ]
    },
    {
      "cell_type": "code",
      "execution_count": null,
      "metadata": {
        "colab": {
          "base_uri": "https://localhost:8080/",
          "height": 621
        },
        "id": "0Y2IX8BNZWm5",
        "outputId": "44e2d86c-9010-4d18-b13b-d95da9c2a275"
      },
      "outputs": [
        {
          "data": {
            "text/plain": [
              "<matplotlib.legend.Legend at 0x7c5f177b1f60>"
            ]
          },
          "execution_count": 102,
          "metadata": {},
          "output_type": "execute_result"
        },
        {
          "data": {
            "image/png": "[encoded data removed]",
            "text/plain": [
              "<Figure size 800x700 with 1 Axes>"
            ]
          },
          "metadata": {},
          "output_type": "display_data"
        }
      ],
      "source": [
        "plt.figure(figsize = (8, 7))\n",
        "plt.plot(true_boosting, pred_boosting, linewidth = 1, label = 'Градиентный бустинг')\n",
        "plt.plot(true_logreg, pred_logreg, linewidth = 1, label = 'Логистическая регрессия')\n",
        "plt.plot([0, 1], [0, 1], linestyle='--', color = 'pink', label = 'Идеально откалиброванная модель')\n",
        "plt.legend()"
      ]
    },
    {
      "cell_type": "markdown",
      "metadata": {
        "id": "mLcUkgIhdnHg"
      },
      "source": [
        "Вообще, на удивление, у логрега калибровочная прямая лучше. Это из-за того, что бустинг у нас очень \"неуверенный\")) Он вообще, видимо, не приспособлен, чтобы вычислять вероятности. Мы просто берем сигмоиду от предиктов (это вообще никакого смысла не имеет по сути), а вот логрег реально вероятности предсказывает, это круто! Но у бустинга все равно аукрок хороший."
      ]
    }
  ],
  "metadata": {
    "colab": {
      "provenance": []
    },
    "kernelspec": {
      "display_name": "Python 3 (ipykernel)",
      "language": "python",
      "name": "python3"
    },
    "language_info": {
      "codemirror_mode": {
        "name": "ipython",
        "version": 3
      },
      "file_extension": ".py",
      "mimetype": "text/x-python",
      "name": "python",
      "nbconvert_exporter": "python",
      "pygments_lexer": "ipython3",
      "version": "3.9.7"
    },
    "nbTranslate": {
      "displayLangs": [
        "*"
      ],
      "hotkey": "alt-t",
      "langInMainMenu": true,
      "sourceLang": "en",
      "targetLang": "fr",
      "useGoogleTranslate": true
    },
    "toc": {
      "base_numbering": 1,
      "nav_menu": {
        "height": "210px",
        "width": "492px"
      },
      "number_sections": false,
      "sideBar": true,
      "skip_h1_title": false,
      "title_cell": "Table of Contents",
      "title_sidebar": "Contents",
      "toc_cell": false,
      "toc_position": {},
      "toc_section_display": true,
      "toc_window_display": true
    },
    "varInspector": {
      "cols": {
        "lenName": 16,
        "lenType": 16,
        "lenVar": 40
      },
      "kernels_config": {
        "python": {
          "delete_cmd_postfix": "",
          "delete_cmd_prefix": "del ",
          "library": "var_list.py",
          "varRefreshCmd": "print(var_dic_list())"
        },
        "r": {
          "delete_cmd_postfix": ") ",
          "delete_cmd_prefix": "rm(",
          "library": "var_list.r",
          "varRefreshCmd": "cat(var_dic_list()) "
        }
      },
      "types_to_exclude": [
        "module",
        "function",
        "builtin_function_or_method",
        "instance",
        "_Feature"
      ],
      "window_display": false
    }
  },
  "nbformat": 4,
  "nbformat_minor": 0
}
